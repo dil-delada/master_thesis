{
 "cells": [
  {
   "cell_type": "code",
   "execution_count": 17,
   "metadata": {},
   "outputs": [],
   "source": [
    "#Libraries\n",
    "\n",
    "import pandas as pd\n",
    "from sklearn.feature_extraction.text import CountVectorizer\n",
    "from sklearn.feature_extraction.text import TfidfTransformer\n",
    "from pandas import DataFrame\n",
    "import nltk\n",
    "import matplotlib.pyplot as plt"
   ]
  },
  {
   "cell_type": "code",
   "execution_count": 2,
   "metadata": {},
   "outputs": [],
   "source": [
    "#Load data\n",
    "\n",
    "en_data = pd.read_csv('en_data.csv')\n",
    "et_data = pd.read_csv('et_data.csv')\n",
    "for i in en_data.columns:\n",
    "    if 'Unnamed' in i:\n",
    "        del en_data[i]\n",
    "for i in et_data.columns:\n",
    "    if 'Unnamed' in i:\n",
    "        del et_data[i]\n",
    "en_data = en_data[~pd.isnull(en_data['Nouns'])]\n",
    "et_data = et_data[~pd.isnull(et_data['Nouns'])]"
   ]
  },
  {
   "cell_type": "code",
   "execution_count": 3,
   "metadata": {},
   "outputs": [],
   "source": [
    "def tokenization_words(sentence):\n",
    "    #input: sentence as string\n",
    "    #output: list of words\n",
    "    return nltk.word_tokenize(sentence)\n",
    "\n",
    "def get_tfidf_model(data, size_of_keyword):\n",
    "    cv = CountVectorizer(max_df=0.7, max_features=10000, ngram_range = (size_of_keyword, size_of_keyword))\n",
    "    words_count_vectors_cleaned = cv.fit_transform(data['Nouns'].tolist())\n",
    "    tfidf_transformer = TfidfTransformer(smooth_idf=True, use_idf=True)\n",
    "    tfidf_transformer_cleaned = tfidf_transformer.fit(words_count_vectors_cleaned)\n",
    "    # Mapping of index\n",
    "    feature_names=cv.get_feature_names()\n",
    "    return cv, tfidf_transformer_cleaned, feature_names\n",
    "\n",
    "# Helping function - to sort tf-idf vectors\n",
    "def sort_coo(coo_matrix):\n",
    "    tuples = zip(coo_matrix.col, coo_matrix.data)\n",
    "    return sorted(tuples, key=lambda x: (x[1], x[0]), reverse=True) \n",
    "\n",
    "# Helping function - to extract top n_keywords number of keywords\n",
    "def extract_topn_from_vector(feature_names, sorted_items, n_keywords):\n",
    "    #use only topn items from vector\n",
    "    sorted_items = sorted_items[:n_keywords]\n",
    "    score_vals = []\n",
    "    feature_vals = []\n",
    "    # word index and corresponding tf-idf score\n",
    "    for idx, score in sorted_items:        \n",
    "        #keep track of feature name and its corresponding score\n",
    "        score_vals.append(round(score, 3))\n",
    "        feature_vals.append(feature_names[idx]) \n",
    "    #create a tuples of feature,score\n",
    "    results= {}\n",
    "    for idx in range(len(feature_vals)):\n",
    "        results[feature_vals[idx]]=score_vals[idx]    \n",
    "    return results\n",
    "\n",
    "# To compute TF-IDF for each product\n",
    "def tf_idf_computing(doc, tfidf_transformer, cv, feature_names, n_keywords):\n",
    "    # Calculate TF-IDF for each document \n",
    "    tf_idf_vector = tfidf_transformer.transform(cv.transform([doc]))\n",
    "    # Order obtained values by descending order of scores\n",
    "    sorted_items = sort_coo(tf_idf_vector.tocoo())\n",
    "    # Extract top n_keywords number of keywords\n",
    "    keywords = extract_topn_from_vector(feature_names, sorted_items, n_keywords)    \n",
    "    return keywords"
   ]
  },
  {
   "cell_type": "code",
   "execution_count": 11,
   "metadata": {},
   "outputs": [
    {
     "data": {
      "image/png": "[encoded data removed]",
      "text/plain": [
       "<matplotlib.figure.Figure at 0x20455fa01d0>"
      ]
     },
     "metadata": {},
     "output_type": "display_data"
    },
    {
     "data": {
      "text/plain": [
       "array([4., 4.])"
      ]
     },
     "execution_count": 11,
     "metadata": {},
     "output_type": "execute_result"
    }
   ],
   "source": [
    "# Find average naumber of words in description for English\n",
    "\n",
    "en_data['Nouns_lenght'] = en_data['Nouns'].apply(lambda x: len(tokenization_words(x)))\n",
    "plt.figure(figsize=(15, 8))\n",
    "en_box_plot = plt.boxplot(en_data['Nouns_lenght'][en_data['Nouns_lenght'] < 20])\n",
    "plt.show()\n",
    "en_box_plot['medians'][0].get_ydata()"
   ]
  },
  {
   "cell_type": "code",
   "execution_count": 4,
   "metadata": {},
   "outputs": [],
   "source": [
    "# Calculate max 4 keywords with scores for each product for English\n",
    "cv_en1, tfidf_transformer_en1, feature_names_en1 = get_tfidf_model(en_data, 1)\n",
    "en_data['keywords'] = en_data['Nouns'].apply(lambda x: tf_idf_computing(x, tfidf_transformer_en1, cv_en1, feature_names_en1, min(4, len(tokenization_words(x)))))"
   ]
  },
  {
   "cell_type": "code",
   "execution_count": 5,
   "metadata": {},
   "outputs": [
    {
     "data": {
      "text/html": [
       "<div>\n",
       "<style scoped>\n",
       "    .dataframe tbody tr th:only-of-type {\n",
       "        vertical-align: middle;\n",
       "    }\n",
       "\n",
       "    .dataframe tbody tr th {\n",
       "        vertical-align: top;\n",
       "    }\n",
       "\n",
       "    .dataframe thead th {\n",
       "        text-align: right;\n",
       "    }\n",
       "</style>\n",
       "<table border=\"1\" class=\"dataframe\">\n",
       "  <thead>\n",
       "    <tr style=\"text-align: right;\">\n",
       "      <th></th>\n",
       "      <th>link</th>\n",
       "      <th>node</th>\n",
       "      <th>text_join</th>\n",
       "      <th>Nouns</th>\n",
       "      <th>keywords</th>\n",
       "    </tr>\n",
       "  </thead>\n",
       "  <tbody>\n",
       "    <tr>\n",
       "      <th>0</th>\n",
       "      <td>&lt;https::nailin.ee::/et/27-akruulvarvid::null::...</td>\n",
       "      <td>node517e8478b3641044f1e2e2bbc31afa</td>\n",
       "      <td>AkruFCuFClvuErv One Stroke Phthalo Green ml</td>\n",
       "      <td>AkruFCuFClvuErv Stroke Phthalo Green ml</td>\n",
       "      <td>{'akrufcufclvuerv': 0.654, 'stroke': 0.558, 'g...</td>\n",
       "    </tr>\n",
       "    <tr>\n",
       "      <th>1</th>\n",
       "      <td>&lt;http::www.kalastussport.ee::/136-taliridvad::...</td>\n",
       "      <td>nodef5d0383018d768c2279c3541adc8f1a</td>\n",
       "      <td>Winter rod AKARA Legend</td>\n",
       "      <td>Winter rod AKARA Legend</td>\n",
       "      <td>{'akara': 0.595, 'rod': 0.484, 'legend': 0.482...</td>\n",
       "    </tr>\n",
       "    <tr>\n",
       "      <th>2</th>\n",
       "      <td>&lt;http::www.ittgroup.ee::/en/new-products::null...</td>\n",
       "      <td>nodefeb891dd8590e0d85f9c685e4642449</td>\n",
       "      <td>Digital pressure sensor BMP</td>\n",
       "      <td>Digital pressure sensor BMP</td>\n",
       "      <td>{'sensor': 0.637, 'pressure': 0.553, 'digital'...</td>\n",
       "    </tr>\n",
       "    <tr>\n",
       "      <th>3</th>\n",
       "      <td>&lt;http::www.ittgroup.ee::/en/31-converters::nul...</td>\n",
       "      <td>node67109f1f1de73f41d2979d4561221</td>\n",
       "      <td>Analogdigital converter bit ADS</td>\n",
       "      <td>converter bit ADS</td>\n",
       "      <td>{'converter': 0.762, 'bit': 0.647}</td>\n",
       "    </tr>\n",
       "    <tr>\n",
       "      <th>4</th>\n",
       "      <td>&lt;http::www.ittgroup.ee::/en/38-prototyping-and...</td>\n",
       "      <td>node3f349ca61d31b5f8c6bfe56bdb8081</td>\n",
       "      <td>Power Charger VA</td>\n",
       "      <td>Power Charger VA</td>\n",
       "      <td>{'va': 0.672, 'charger': 0.624, 'power': 0.4}</td>\n",
       "    </tr>\n",
       "  </tbody>\n",
       "</table>\n",
       "</div>"
      ],
      "text/plain": [
       "                                                link  \\\n",
       "0  <https::nailin.ee::/et/27-akruulvarvid::null::...   \n",
       "1  <http::www.kalastussport.ee::/136-taliridvad::...   \n",
       "2  <http::www.ittgroup.ee::/en/new-products::null...   \n",
       "3  <http::www.ittgroup.ee::/en/31-converters::nul...   \n",
       "4  <http::www.ittgroup.ee::/en/38-prototyping-and...   \n",
       "\n",
       "                                  node  \\\n",
       "0   node517e8478b3641044f1e2e2bbc31afa   \n",
       "1  nodef5d0383018d768c2279c3541adc8f1a   \n",
       "2  nodefeb891dd8590e0d85f9c685e4642449   \n",
       "3    node67109f1f1de73f41d2979d4561221   \n",
       "4   node3f349ca61d31b5f8c6bfe56bdb8081   \n",
       "\n",
       "                                     text_join  \\\n",
       "0  AkruFCuFClvuErv One Stroke Phthalo Green ml   \n",
       "1                      Winter rod AKARA Legend   \n",
       "2                  Digital pressure sensor BMP   \n",
       "3              Analogdigital converter bit ADS   \n",
       "4                             Power Charger VA   \n",
       "\n",
       "                                     Nouns  \\\n",
       "0  AkruFCuFClvuErv Stroke Phthalo Green ml   \n",
       "1                  Winter rod AKARA Legend   \n",
       "2              Digital pressure sensor BMP   \n",
       "3                        converter bit ADS   \n",
       "4                         Power Charger VA   \n",
       "\n",
       "                                            keywords  \n",
       "0  {'akrufcufclvuerv': 0.654, 'stroke': 0.558, 'g...  \n",
       "1  {'akara': 0.595, 'rod': 0.484, 'legend': 0.482...  \n",
       "2  {'sensor': 0.637, 'pressure': 0.553, 'digital'...  \n",
       "3                 {'converter': 0.762, 'bit': 0.647}  \n",
       "4      {'va': 0.672, 'charger': 0.624, 'power': 0.4}  "
      ]
     },
     "execution_count": 5,
     "metadata": {},
     "output_type": "execute_result"
    }
   ],
   "source": [
    "en_data.head()"
   ]
  },
  {
   "cell_type": "code",
   "execution_count": 14,
   "metadata": {},
   "outputs": [
    {
     "data": {
      "image/png": "[encoded data removed]",
      "text/plain": [
       "<matplotlib.figure.Figure at 0x204561648d0>"
      ]
     },
     "metadata": {},
     "output_type": "display_data"
    },
    {
     "data": {
      "text/plain": [
       "array([5., 5.])"
      ]
     },
     "execution_count": 14,
     "metadata": {},
     "output_type": "execute_result"
    }
   ],
   "source": [
    "# Find average naumber of words in description for Estonian\n",
    "import matplotlib.pyplot as plt\n",
    "et_data['Nouns_lenght'] = et_data['Nouns'].apply(lambda x: len(tokenization_words(x)))\n",
    "#et_data_test = et_data[et_data['Nouns_lenght']<2500000]\n",
    "plt.figure(figsize=(15, 8))\n",
    "et_box_plot = plt.boxplot(et_data['Nouns_lenght'][et_data['Nouns_lenght']<40])\n",
    "plt.show()\n",
    "et_box_plot['medians'][0].get_ydata()"
   ]
  },
  {
   "cell_type": "code",
   "execution_count": 6,
   "metadata": {},
   "outputs": [],
   "source": [
    "# Calculate max 5 keywords with scores for each product for Estonian\n",
    "cv_et1, tfidf_transformer_et1, feature_names_et1 = get_tfidf_model(et_data, 1)\n",
    "et_data['keywords'] = et_data['Nouns'].apply(lambda x: tf_idf_computing(x, tfidf_transformer_et1, cv_et1, feature_names_et1, min(5, len(tokenization_words(x)))))"
   ]
  },
  {
   "cell_type": "code",
   "execution_count": 7,
   "metadata": {},
   "outputs": [
    {
     "data": {
      "text/html": [
       "<div>\n",
       "<style scoped>\n",
       "    .dataframe tbody tr th:only-of-type {\n",
       "        vertical-align: middle;\n",
       "    }\n",
       "\n",
       "    .dataframe tbody tr th {\n",
       "        vertical-align: top;\n",
       "    }\n",
       "\n",
       "    .dataframe thead th {\n",
       "        text-align: right;\n",
       "    }\n",
       "</style>\n",
       "<table border=\"1\" class=\"dataframe\">\n",
       "  <thead>\n",
       "    <tr style=\"text-align: right;\">\n",
       "      <th></th>\n",
       "      <th>link</th>\n",
       "      <th>node</th>\n",
       "      <th>text_join</th>\n",
       "      <th>Nouns</th>\n",
       "      <th>keywords</th>\n",
       "    </tr>\n",
       "  </thead>\n",
       "  <tbody>\n",
       "    <tr>\n",
       "      <th>0</th>\n",
       "      <td>&lt;http::tamberi.eu::/73-ehtekaardid::null::2017...</td>\n",
       "      <td>node6883b5caa683772129c48f93ac5e99</td>\n",
       "      <td>Ehtekaart</td>\n",
       "      <td>Ehtekaart</td>\n",
       "      <td>{'ehtekaart': 1.0}</td>\n",
       "    </tr>\n",
       "    <tr>\n",
       "      <th>1</th>\n",
       "      <td>&lt;https::www.paradiis.ee::/et/128-kampaania::p=...</td>\n",
       "      <td>noded2b1c726cca5417aadf2c82e333d51b6</td>\n",
       "      <td>See esinduslik aiamuFuFbel on valmistatud rom...</td>\n",
       "      <td>aiamuFuFbel lossipargi stiilis</td>\n",
       "      <td>{'aiamufufbel': 0.791, 'stiilis': 0.612}</td>\n",
       "    </tr>\n",
       "    <tr>\n",
       "      <th>2</th>\n",
       "      <td>&lt;https::aiakaubad.ee::/84-telgid::null::201708...</td>\n",
       "      <td>nodeaeeb8b6ba62b6f3fd2eafc75ce1f36c</td>\n",
       "      <td>Alumiiniumtoru luEbimuFuFt uD uAuDcm uDClemis...</td>\n",
       "      <td>Alumiiniumtoru luEbimuFuFt uAuDcm uDClemised t...</td>\n",
       "      <td>{'oxford': 0.437, 'udclemised': 0.421, 'torud'...</td>\n",
       "    </tr>\n",
       "    <tr>\n",
       "      <th>3</th>\n",
       "      <td>&lt;https::vibes.ee::/et/13-vibraatorid::null::20...</td>\n",
       "      <td>node38302f399536504988c1d1b4703df497</td>\n",
       "      <td>Nutikas sensoriga armukuul mida saad juhtida a...</td>\n",
       "      <td>sensoriga armukuul treening lelu aru lihased t...</td>\n",
       "      <td>{'lihased': 0.631, 'gballs': 0.347, 'aru': 0.3...</td>\n",
       "    </tr>\n",
       "    <tr>\n",
       "      <th>4</th>\n",
       "      <td>&lt;https::vibes.ee::/et/750-vibraatormunad::null...</td>\n",
       "      <td>node8a81eac4ed95140bdb38ef9291fb4c8</td>\n",
       "      <td>Juhtmevaba pildiga vibraatormuna millega omale...</td>\n",
       "      <td>pildiga vibraatormuna omale vuFi naudingut pak...</td>\n",
       "      <td>{'pakkudavibratsiooniga': 0.425, 'shiver': 0.4...</td>\n",
       "    </tr>\n",
       "  </tbody>\n",
       "</table>\n",
       "</div>"
      ],
      "text/plain": [
       "                                                link  \\\n",
       "0  <http::tamberi.eu::/73-ehtekaardid::null::2017...   \n",
       "1  <https::www.paradiis.ee::/et/128-kampaania::p=...   \n",
       "2  <https::aiakaubad.ee::/84-telgid::null::201708...   \n",
       "3  <https::vibes.ee::/et/13-vibraatorid::null::20...   \n",
       "4  <https::vibes.ee::/et/750-vibraatormunad::null...   \n",
       "\n",
       "                                   node  \\\n",
       "0    node6883b5caa683772129c48f93ac5e99   \n",
       "1  noded2b1c726cca5417aadf2c82e333d51b6   \n",
       "2   nodeaeeb8b6ba62b6f3fd2eafc75ce1f36c   \n",
       "3  node38302f399536504988c1d1b4703df497   \n",
       "4   node8a81eac4ed95140bdb38ef9291fb4c8   \n",
       "\n",
       "                                           text_join  \\\n",
       "0                                          Ehtekaart   \n",
       "1   See esinduslik aiamuFuFbel on valmistatud rom...   \n",
       "2   Alumiiniumtoru luEbimuFuFt uD uAuDcm uDClemis...   \n",
       "3  Nutikas sensoriga armukuul mida saad juhtida a...   \n",
       "4  Juhtmevaba pildiga vibraatormuna millega omale...   \n",
       "\n",
       "                                               Nouns  \\\n",
       "0                                          Ehtekaart   \n",
       "1                     aiamuFuFbel lossipargi stiilis   \n",
       "2  Alumiiniumtoru luEbimuFuFt uAuDcm uDClemised t...   \n",
       "3  sensoriga armukuul treening lelu aru lihased t...   \n",
       "4  pildiga vibraatormuna omale vuFi naudingut pak...   \n",
       "\n",
       "                                            keywords  \n",
       "0                                 {'ehtekaart': 1.0}  \n",
       "1           {'aiamufufbel': 0.791, 'stiilis': 0.612}  \n",
       "2  {'oxford': 0.437, 'udclemised': 0.421, 'torud'...  \n",
       "3  {'lihased': 0.631, 'gballs': 0.347, 'aru': 0.3...  \n",
       "4  {'pakkudavibratsiooniga': 0.425, 'shiver': 0.4...  "
      ]
     },
     "execution_count": 7,
     "metadata": {},
     "output_type": "execute_result"
    }
   ],
   "source": [
    "et_data.head()"
   ]
  },
  {
   "cell_type": "code",
   "execution_count": 20,
   "metadata": {},
   "outputs": [],
   "source": [
    "def dict_to_list(keywords):\n",
    "    new_list = []\n",
    "    for k in keywords:\n",
    "        new_list.append(k)\n",
    "    return new_list\n",
    "\n",
    "en_data['Keywords_list'] = en_data.keywords.apply(lambda x: dict_to_list(x))\n",
    "et_data['Keywords_list'] = et_data.keywords.apply(lambda x: dict_to_list(x))"
   ]
  },
  {
   "cell_type": "code",
   "execution_count": 23,
   "metadata": {},
   "outputs": [],
   "source": [
    "en_data = en_data.drop(columns=['Nouns_lenght'])\n",
    "et_data = et_data.drop(columns=['Nouns_lenght'])"
   ]
  },
  {
   "cell_type": "code",
   "execution_count": 25,
   "metadata": {},
   "outputs": [],
   "source": [
    "# Have keywords, need clusters\n",
    "# Link words with at least one common keywords\n",
    "\n",
    "def get_unique_keywords(data):\n",
    "    keywords_series = data.Keywords_list\n",
    "    all_keywords = []\n",
    "    for keywords_list in keywords_series:\n",
    "        for keyword in keywords_list:\n",
    "            all_keywords.append(keyword)\n",
    "    unique_keywords = list(set(all_keywords))\n",
    "    Data = {'Keyword_unique':  unique_keywords, 'Keyword_number': list(range(0, len(unique_keywords)))}\n",
    "    df = DataFrame (Data, columns = ['Keyword_unique', 'Keyword_number'])\n",
    "    return df\n",
    "\n",
    "keywords_en = get_unique_keywords(en_data)\n",
    "keywords_et = get_unique_keywords(et_data)"
   ]
  },
  {
   "cell_type": "code",
   "execution_count": 26,
   "metadata": {},
   "outputs": [],
   "source": [
    "def detect_keywords_connection(summary, keywords):\n",
    "    numbers = []\n",
    "    for key in summary:\n",
    "        numbers.append(keywords.Keyword_number[keywords['Keyword_unique'] == key])\n",
    "    return numbers\n",
    "\n",
    "en_data['Keywords_numbers'] = en_data.Keywords_list.apply(lambda x: detect_keywords_connection(x, keywords_en))\n",
    "et_data['Keywords_numbers'] = et_data.Keywords_list.apply(lambda x: detect_keywords_connection(x, keywords_et))"
   ]
  },
  {
   "cell_type": "code",
   "execution_count": 28,
   "metadata": {},
   "outputs": [
    {
     "data": {
      "text/html": [
       "<div>\n",
       "<style scoped>\n",
       "    .dataframe tbody tr th:only-of-type {\n",
       "        vertical-align: middle;\n",
       "    }\n",
       "\n",
       "    .dataframe tbody tr th {\n",
       "        vertical-align: top;\n",
       "    }\n",
       "\n",
       "    .dataframe thead th {\n",
       "        text-align: right;\n",
       "    }\n",
       "</style>\n",
       "<table border=\"1\" class=\"dataframe\">\n",
       "  <thead>\n",
       "    <tr style=\"text-align: right;\">\n",
       "      <th></th>\n",
       "      <th>link</th>\n",
       "      <th>node</th>\n",
       "      <th>text_join</th>\n",
       "      <th>Nouns</th>\n",
       "      <th>keywords</th>\n",
       "      <th>Keywords_list</th>\n",
       "      <th>Keywords_numbers</th>\n",
       "    </tr>\n",
       "  </thead>\n",
       "  <tbody>\n",
       "    <tr>\n",
       "      <th>0</th>\n",
       "      <td>&lt;https::nailin.ee::/et/27-akruulvarvid::null::...</td>\n",
       "      <td>node517e8478b3641044f1e2e2bbc31afa</td>\n",
       "      <td>AkruFCuFClvuErv One Stroke Phthalo Green ml</td>\n",
       "      <td>AkruFCuFClvuErv Stroke Phthalo Green ml</td>\n",
       "      <td>{'akrufcufclvuerv': 0.654, 'stroke': 0.558, 'g...</td>\n",
       "      <td>[akrufcufclvuerv, stroke, green, ml]</td>\n",
       "      <td>[[5533], [4062], [4472], [9211]]</td>\n",
       "    </tr>\n",
       "    <tr>\n",
       "      <th>1</th>\n",
       "      <td>&lt;http::www.kalastussport.ee::/136-taliridvad::...</td>\n",
       "      <td>nodef5d0383018d768c2279c3541adc8f1a</td>\n",
       "      <td>Winter rod AKARA Legend</td>\n",
       "      <td>Winter rod AKARA Legend</td>\n",
       "      <td>{'akara': 0.595, 'rod': 0.484, 'legend': 0.482...</td>\n",
       "      <td>[akara, rod, legend, winter]</td>\n",
       "      <td>[[3997], [4206], [5734], [8169]]</td>\n",
       "    </tr>\n",
       "    <tr>\n",
       "      <th>2</th>\n",
       "      <td>&lt;http::www.ittgroup.ee::/en/new-products::null...</td>\n",
       "      <td>nodefeb891dd8590e0d85f9c685e4642449</td>\n",
       "      <td>Digital pressure sensor BMP</td>\n",
       "      <td>Digital pressure sensor BMP</td>\n",
       "      <td>{'sensor': 0.637, 'pressure': 0.553, 'digital'...</td>\n",
       "      <td>[sensor, pressure, digital]</td>\n",
       "      <td>[[404], [3312], [5906]]</td>\n",
       "    </tr>\n",
       "    <tr>\n",
       "      <th>3</th>\n",
       "      <td>&lt;http::www.ittgroup.ee::/en/31-converters::nul...</td>\n",
       "      <td>node67109f1f1de73f41d2979d4561221</td>\n",
       "      <td>Analogdigital converter bit ADS</td>\n",
       "      <td>converter bit ADS</td>\n",
       "      <td>{'converter': 0.762, 'bit': 0.647}</td>\n",
       "      <td>[converter, bit]</td>\n",
       "      <td>[[8680], [8046]]</td>\n",
       "    </tr>\n",
       "    <tr>\n",
       "      <th>4</th>\n",
       "      <td>&lt;http::www.ittgroup.ee::/en/38-prototyping-and...</td>\n",
       "      <td>node3f349ca61d31b5f8c6bfe56bdb8081</td>\n",
       "      <td>Power Charger VA</td>\n",
       "      <td>Power Charger VA</td>\n",
       "      <td>{'va': 0.672, 'charger': 0.624, 'power': 0.4}</td>\n",
       "      <td>[va, charger, power]</td>\n",
       "      <td>[[8903], [7662], [5784]]</td>\n",
       "    </tr>\n",
       "  </tbody>\n",
       "</table>\n",
       "</div>"
      ],
      "text/plain": [
       "                                                link  \\\n",
       "0  <https::nailin.ee::/et/27-akruulvarvid::null::...   \n",
       "1  <http::www.kalastussport.ee::/136-taliridvad::...   \n",
       "2  <http::www.ittgroup.ee::/en/new-products::null...   \n",
       "3  <http::www.ittgroup.ee::/en/31-converters::nul...   \n",
       "4  <http::www.ittgroup.ee::/en/38-prototyping-and...   \n",
       "\n",
       "                                  node  \\\n",
       "0   node517e8478b3641044f1e2e2bbc31afa   \n",
       "1  nodef5d0383018d768c2279c3541adc8f1a   \n",
       "2  nodefeb891dd8590e0d85f9c685e4642449   \n",
       "3    node67109f1f1de73f41d2979d4561221   \n",
       "4   node3f349ca61d31b5f8c6bfe56bdb8081   \n",
       "\n",
       "                                     text_join  \\\n",
       "0  AkruFCuFClvuErv One Stroke Phthalo Green ml   \n",
       "1                      Winter rod AKARA Legend   \n",
       "2                  Digital pressure sensor BMP   \n",
       "3              Analogdigital converter bit ADS   \n",
       "4                             Power Charger VA   \n",
       "\n",
       "                                     Nouns  \\\n",
       "0  AkruFCuFClvuErv Stroke Phthalo Green ml   \n",
       "1                  Winter rod AKARA Legend   \n",
       "2              Digital pressure sensor BMP   \n",
       "3                        converter bit ADS   \n",
       "4                         Power Charger VA   \n",
       "\n",
       "                                            keywords  \\\n",
       "0  {'akrufcufclvuerv': 0.654, 'stroke': 0.558, 'g...   \n",
       "1  {'akara': 0.595, 'rod': 0.484, 'legend': 0.482...   \n",
       "2  {'sensor': 0.637, 'pressure': 0.553, 'digital'...   \n",
       "3                 {'converter': 0.762, 'bit': 0.647}   \n",
       "4      {'va': 0.672, 'charger': 0.624, 'power': 0.4}   \n",
       "\n",
       "                          Keywords_list                  Keywords_numbers  \n",
       "0  [akrufcufclvuerv, stroke, green, ml]  [[5533], [4062], [4472], [9211]]  \n",
       "1          [akara, rod, legend, winter]  [[3997], [4206], [5734], [8169]]  \n",
       "2           [sensor, pressure, digital]           [[404], [3312], [5906]]  \n",
       "3                      [converter, bit]                  [[8680], [8046]]  \n",
       "4                  [va, charger, power]          [[8903], [7662], [5784]]  "
      ]
     },
     "execution_count": 28,
     "metadata": {},
     "output_type": "execute_result"
    }
   ],
   "source": [
    "en_data.head()"
   ]
  },
  {
   "cell_type": "code",
   "execution_count": 29,
   "metadata": {},
   "outputs": [],
   "source": [
    "en_data.to_csv('Results/en_data_tfidf.csv')"
   ]
  },
  {
   "cell_type": "code",
   "execution_count": 30,
   "metadata": {},
   "outputs": [],
   "source": [
    "et_data.to_csv('Results/et_data_tfidf.csv')"
   ]
  },
  {
   "cell_type": "code",
   "execution_count": 27,
   "metadata": {},
   "outputs": [],
   "source": [
    "# правки к уже написанному\n",
    "# подумать на счет параметров dbscan-a или хотя бы как облагородить 3х-цветный график\n",
    "# чекнуть как строить графы в спарке и подходит ли мой формат данных для этого \n",
    "# чекнуть код и данные Мадиса, старые данные н-квады у меня есть, вопрос можно ли построить граф по методу Мадиса\n",
    "# писать новые главы диплома - Методы все по топик моделингу \n",
    "#и соответствующий кусок Результатов со всеми картинками графиками и пояснением к выбору всех параметров "
   ]
  }
 ],
 "metadata": {
  "kernelspec": {
   "display_name": "Python 3",
   "language": "python",
   "name": "python3"
  },
  "language_info": {
   "codemirror_mode": {
    "name": "ipython",
    "version": 3
   },
   "file_extension": ".py",
   "mimetype": "text/x-python",
   "name": "python",
   "nbconvert_exporter": "python",
   "pygments_lexer": "ipython3",
   "version": "3.6.4"
  }
 },
 "nbformat": 4,
 "nbformat_minor": 2
}
