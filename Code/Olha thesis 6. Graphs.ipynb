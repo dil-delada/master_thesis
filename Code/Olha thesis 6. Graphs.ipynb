{
 "cells": [
  {
   "cell_type": "code",
   "execution_count": 1,
   "metadata": {},
   "outputs": [],
   "source": [
    "# Run Spark \n",
    "\n",
    "from graphframes.examples import Graphs\n",
    "import pyspark as ps\n",
    "ps.SparkContext.setSystemProperty('spark.executor.memory', '60g')\n",
    "ps.SparkContext.setSystemProperty('spark.dynamicAllocation.maxExecutor', '1')\n",
    "ps.SparkContext.setSystemProperty(\"spark.executor.cores\",\"1\")\n",
    "try:\n",
    "    sc.stop()\n",
    "except NameError:\n",
    "    pass\n",
    "conf = ps.SparkConf().setMaster('local')\n",
    "sc = ps.SparkContext(conf=conf)\n",
    "sqlContext = ps.SQLContext(sc)"
   ]
  },
  {
   "cell_type": "code",
   "execution_count": 15,
   "metadata": {},
   "outputs": [
    {
     "name": "stdout",
     "output_type": "stream",
     "text": [
      "Time to create graph:  4.0707314014434814\n",
      "+---+--------+\n",
      "| id|inDegree|\n",
      "+---+--------+\n",
      "|  c|       1|\n",
      "|  b|       2|\n",
      "+---+--------+\n",
      "\n",
      "Time to get in-degree of each vertex:  5.64206075668335\n",
      "The number of \"follow\" connections in the graph:  2\n",
      "Time to count:  0.964646577835083\n",
      "+---+------------------+\n",
      "| id|          pagerank|\n",
      "+---+------------------+\n",
      "|  b|1.0905890109440908|\n",
      "|  a|              0.01|\n",
      "|  c|1.8994109890559092|\n",
      "+---+------------------+\n",
      "\n",
      "Time to run PageRank:  1740.9485974311829\n"
     ]
    }
   ],
   "source": [
    "# Run toy sample\n",
    "\n",
    "from time import time\n",
    "\n",
    "start = time()\n",
    "# Create a Vertex DataFrame with unique ID column \"id\"\n",
    "v = sqlContext.createDataFrame([\n",
    "  (\"a\", \"Alice\", 34),\n",
    "  (\"b\", \"Bob\", 36),\n",
    "  (\"c\", \"Charlie\", 30),\n",
    "], [\"id\", \"name\", \"age\"])\n",
    "# Create an Edge DataFrame with \"src\" and \"dst\" columns\n",
    "e = sqlContext.createDataFrame([\n",
    "  (\"a\", \"b\", \"friend\"),\n",
    "  (\"b\", \"c\", \"follow\"),\n",
    "  (\"c\", \"b\", \"follow\"),\n",
    "], [\"src\", \"dst\", \"relationship\"])\n",
    "# Create a GraphFrame\n",
    "from graphframes import *\n",
    "g = GraphFrame(v, e)\n",
    "print(\"Time to create graph: \", time()-start)\n",
    "\n",
    "start = time()\n",
    "# Query: Get in-degree of each vertex.\n",
    "g.inDegrees.show()\n",
    "print(\"Time to get in-degree of each vertex: \", time()-start)\n",
    "\n",
    "start = time()\n",
    "# Query: Count the number of \"follow\" connections in the graph.\n",
    "follow_count = g.edges.filter(\"relationship = 'follow'\").count()\n",
    "print(\"The number of \\\"follow\\\" connections in the graph: \", follow_count)\n",
    "print(\"Time to count: \", time()-start)\n",
    "\n",
    "start = time()\n",
    "# Run PageRank algorithm, and show results.\n",
    "results = g.pageRank(resetProbability=0.01, maxIter=20)\n",
    "results.vertices.select(\"id\", \"pagerank\").show()\n",
    "print(\"Time to run PageRank: \", time()-start)"
   ]
  },
  {
   "cell_type": "code",
   "execution_count": 1,
   "metadata": {},
   "outputs": [],
   "source": [
    "# Download data\n",
    "\n",
    "import pandas as pd\n",
    "\n",
    "en_lda = pd.read_csv('Results/en_data_lda.csv', index_col=None)\n",
    "et_lda = pd.read_csv('Results/et_data_lda.csv', index_col=None)"
   ]
  },
  {
   "cell_type": "code",
   "execution_count": 2,
   "metadata": {},
   "outputs": [],
   "source": [
    "def clean_df(df, cols):\n",
    "    for i in df.columns:\n",
    "        if 'Unnamed' in i:\n",
    "            del df[i]\n",
    "    df = df[~pd.isnull(df['Nouns'])]\n",
    "    for i in cols:\n",
    "        del df[i]\n",
    "    return df\n",
    "\n",
    "en_lda = clean_df(en_lda, ['text_join', 'Tokens', 'Topic_bow', 'Topic_tfidf'])\n",
    "et_lda = clean_df(et_lda, ['text_join', 'Tokens', 'Topic_bow', 'Topic_tfidf'])"
   ]
  },
  {
   "cell_type": "code",
   "execution_count": 3,
   "metadata": {},
   "outputs": [],
   "source": [
    "def rewrite_est(w):\n",
    "    w = w.lower()\n",
    "    w = w.replace('ue', 'ä')\n",
    "    w = w.replace('ufc', 'ü')\n",
    "    w = w.replace('kuflakaas', 'külakaas')\n",
    "    w = w.replace('mufufdud', 'müüdud')\n",
    "    w = w.replace('uf', 'õ')\n",
    "    w = w.replace('eestua', 'eesti') \n",
    "    w = w.replace('kohetule', 'kohe')\n",
    "    return w\n",
    "\n",
    "et_lda['Nouns'] = et_lda['Nouns'].apply(rewrite_est)\n",
    "en_lda['Nouns'] = en_lda['Nouns'].apply(rewrite_est)"
   ]
  },
  {
   "cell_type": "code",
   "execution_count": 490,
   "metadata": {},
   "outputs": [
    {
     "data": {
      "text/html": [
       "<div>\n",
       "<style scoped>\n",
       "    .dataframe tbody tr th:only-of-type {\n",
       "        vertical-align: middle;\n",
       "    }\n",
       "\n",
       "    .dataframe tbody tr th {\n",
       "        vertical-align: top;\n",
       "    }\n",
       "\n",
       "    .dataframe thead th {\n",
       "        text-align: right;\n",
       "    }\n",
       "</style>\n",
       "<table border=\"1\" class=\"dataframe\">\n",
       "  <thead>\n",
       "    <tr style=\"text-align: right;\">\n",
       "      <th></th>\n",
       "      <th>link</th>\n",
       "      <th>node</th>\n",
       "      <th>Nouns</th>\n",
       "      <th>Topic_bow_index</th>\n",
       "      <th>Topic_tfidf_index</th>\n",
       "    </tr>\n",
       "  </thead>\n",
       "  <tbody>\n",
       "    <tr>\n",
       "      <th>0</th>\n",
       "      <td>&lt;https::nailin.ee::/et/27-akruulvarvid::null::...</td>\n",
       "      <td>node517e8478b3641044f1e2e2bbc31afa</td>\n",
       "      <td>akrüülvärv stroke phthalo green ml</td>\n",
       "      <td>6</td>\n",
       "      <td>0</td>\n",
       "    </tr>\n",
       "    <tr>\n",
       "      <th>1</th>\n",
       "      <td>&lt;http::www.kalastussport.ee::/136-taliridvad::...</td>\n",
       "      <td>nodef5d0383018d768c2279c3541adc8f1a</td>\n",
       "      <td>winter rod akara legend</td>\n",
       "      <td>18</td>\n",
       "      <td>44</td>\n",
       "    </tr>\n",
       "    <tr>\n",
       "      <th>2</th>\n",
       "      <td>&lt;http::www.ittgroup.ee::/en/new-products::null...</td>\n",
       "      <td>nodefeb891dd8590e0d85f9c685e4642449</td>\n",
       "      <td>digital pressure sensor bmp</td>\n",
       "      <td>36</td>\n",
       "      <td>35</td>\n",
       "    </tr>\n",
       "    <tr>\n",
       "      <th>3</th>\n",
       "      <td>&lt;http::www.ittgroup.ee::/en/31-converters::nul...</td>\n",
       "      <td>node67109f1f1de73f41d2979d4561221</td>\n",
       "      <td>converter bit ads</td>\n",
       "      <td>2</td>\n",
       "      <td>24</td>\n",
       "    </tr>\n",
       "    <tr>\n",
       "      <th>4</th>\n",
       "      <td>&lt;http::www.ittgroup.ee::/en/38-prototyping-and...</td>\n",
       "      <td>node3f349ca61d31b5f8c6bfe56bdb8081</td>\n",
       "      <td>power charger va</td>\n",
       "      <td>0</td>\n",
       "      <td>1</td>\n",
       "    </tr>\n",
       "  </tbody>\n",
       "</table>\n",
       "</div>"
      ],
      "text/plain": [
       "                                                link  \\\n",
       "0  <https::nailin.ee::/et/27-akruulvarvid::null::...   \n",
       "1  <http::www.kalastussport.ee::/136-taliridvad::...   \n",
       "2  <http::www.ittgroup.ee::/en/new-products::null...   \n",
       "3  <http::www.ittgroup.ee::/en/31-converters::nul...   \n",
       "4  <http::www.ittgroup.ee::/en/38-prototyping-and...   \n",
       "\n",
       "                                  node                               Nouns  \\\n",
       "0   node517e8478b3641044f1e2e2bbc31afa  akrüülvärv stroke phthalo green ml   \n",
       "1  nodef5d0383018d768c2279c3541adc8f1a             winter rod akara legend   \n",
       "2  nodefeb891dd8590e0d85f9c685e4642449         digital pressure sensor bmp   \n",
       "3    node67109f1f1de73f41d2979d4561221                   converter bit ads   \n",
       "4   node3f349ca61d31b5f8c6bfe56bdb8081                    power charger va   \n",
       "\n",
       "   Topic_bow_index  Topic_tfidf_index  \n",
       "0                6                  0  \n",
       "1               18                 44  \n",
       "2               36                 35  \n",
       "3                2                 24  \n",
       "4                0                  1  "
      ]
     },
     "execution_count": 490,
     "metadata": {},
     "output_type": "execute_result"
    }
   ],
   "source": [
    "en_lda.head()"
   ]
  },
  {
   "cell_type": "code",
   "execution_count": 228,
   "metadata": {},
   "outputs": [
    {
     "name": "stdout",
     "output_type": "stream",
     "text": [
      "Min number of products:  1225\n"
     ]
    }
   ],
   "source": [
    "# Choose small cluster\n",
    "\n",
    "def investigate_clusters(data, col):\n",
    "    count_clusters = {}\n",
    "    for cluster in list(set(data[col])):\n",
    "        df = data[data[col] == cluster]\n",
    "        count_clusters[cluster] = (len(df), len(set(df.link)))\n",
    "    return count_clusters\n",
    "\n",
    "# BOW\n",
    "clusters_en_lda_bow = investigate_clusters(en_lda, 'Topic_bow_index')\n",
    "all_c = []\n",
    "for i in range(len(clusters_en_lda_bow)):\n",
    "    all_c.append(clusters_en_lda_bow[i][0])\n",
    "print(\"Min number of products: \", min(all_c))"
   ]
  },
  {
   "cell_type": "code",
   "execution_count": 23,
   "metadata": {
    "collapsed": true
   },
   "outputs": [
    {
     "data": {
      "text/plain": [
       "{0: (33450, 13111),\n",
       " 1: (2125, 993),\n",
       " 2: (2985, 1430),\n",
       " 3: (2616, 1463),\n",
       " 4: (3413, 1848),\n",
       " 5: (6105, 2047),\n",
       " 6: (2523, 1557),\n",
       " 7: (4372, 1729),\n",
       " 8: (1577, 754),\n",
       " 9: (4503, 1726),\n",
       " 10: (3033, 1342),\n",
       " 11: (2428, 982),\n",
       " 12: (2934, 1012),\n",
       " 13: (3614, 2014),\n",
       " 14: (2443, 1220),\n",
       " 15: (3399, 1860),\n",
       " 16: (1648, 648),\n",
       " 17: (2764, 1786),\n",
       " 18: (2250, 1160),\n",
       " 19: (3364, 1101),\n",
       " 20: (2633, 1626),\n",
       " 21: (1864, 825),\n",
       " 22: (1360, 738),\n",
       " 23: (3539, 1456),\n",
       " 24: (2889, 1956),\n",
       " 25: (2699, 1446),\n",
       " 26: (2215, 1258),\n",
       " 27: (2113, 1078),\n",
       " 28: (2444, 1181),\n",
       " 29: (3590, 1139),\n",
       " 30: (4644, 1851),\n",
       " 31: (2576, 1327),\n",
       " 32: (1871, 1046),\n",
       " 33: (2748, 1261),\n",
       " 34: (2149, 1205),\n",
       " 35: (4527, 2082),\n",
       " 36: (2490, 1144),\n",
       " 37: (2076, 1556),\n",
       " 38: (2610, 1387),\n",
       " 39: (2843, 1089),\n",
       " 40: (1656, 643),\n",
       " 41: (3862, 1587),\n",
       " 42: (2568, 991),\n",
       " 43: (1641, 863),\n",
       " 44: (1225, 621),\n",
       " 45: (2932, 1230),\n",
       " 46: (1645, 973),\n",
       " 47: (1810, 748),\n",
       " 48: (2411, 1397),\n",
       " 49: (11204, 1457),\n",
       " 50: (2503, 1550),\n",
       " 51: (1891, 1212),\n",
       " 52: (1954, 1342),\n",
       " 53: (3683, 1639)}"
      ]
     },
     "execution_count": 23,
     "metadata": {},
     "output_type": "execute_result"
    }
   ],
   "source": [
    "clusters_en_lda_bow\n",
    "# In cluster 44"
   ]
  },
  {
   "cell_type": "code",
   "execution_count": 229,
   "metadata": {},
   "outputs": [
    {
     "name": "stdout",
     "output_type": "stream",
     "text": [
      "Number of companies in 44th EN bow cluster with  1225  products:  104\n"
     ]
    }
   ],
   "source": [
    "comp = []\n",
    "for c in en_lda.link[en_lda.Topic_bow_index == 44]:\n",
    "    i_list = c.split('/')\n",
    "    i = i_list[0].replace('https', '').replace('http', '').replace(':', '').replace('<', '')\n",
    "    comp.append(i)\n",
    "companies = list(set(comp))\n",
    "print(\"Number of companies in 44th EN bow cluster with \", min(all_c), ' products: ', len(companies))"
   ]
  },
  {
   "cell_type": "code",
   "execution_count": 231,
   "metadata": {},
   "outputs": [
    {
     "name": "stdout",
     "output_type": "stream",
     "text": [
      "Min number of products:  1545\n"
     ]
    }
   ],
   "source": [
    "#TF IDF\n",
    "clusters_en_lda_tfidf = investigate_clusters(en_lda, 'Topic_tfidf_index')\n",
    "all_c = []\n",
    "for i in range(len(clusters_en_lda_tfidf)):\n",
    "    all_c.append(clusters_en_lda_tfidf[i][0])\n",
    "print(\"Min number of products: \", min(all_c))"
   ]
  },
  {
   "cell_type": "code",
   "execution_count": 226,
   "metadata": {
    "collapsed": true
   },
   "outputs": [
    {
     "data": {
      "text/plain": [
       "{0: (30922, 12929),\n",
       " 1: (2131, 1070),\n",
       " 2: (1689, 1016),\n",
       " 3: (2287, 926),\n",
       " 4: (2352, 865),\n",
       " 5: (2523, 1382),\n",
       " 6: (2900, 2207),\n",
       " 7: (2411, 1306),\n",
       " 8: (2636, 1194),\n",
       " 9: (3483, 1473),\n",
       " 10: (3283, 1502),\n",
       " 11: (3236, 1152),\n",
       " 12: (2765, 1273),\n",
       " 13: (1859, 1241),\n",
       " 14: (2664, 1473),\n",
       " 15: (2514, 1283),\n",
       " 16: (2695, 1119),\n",
       " 17: (2360, 978),\n",
       " 18: (2612, 1280),\n",
       " 19: (3366, 1664),\n",
       " 20: (9146, 2726),\n",
       " 21: (3173, 1406),\n",
       " 22: (2281, 1154),\n",
       " 23: (1750, 1113),\n",
       " 24: (2441, 1371),\n",
       " 25: (1796, 1003),\n",
       " 26: (2340, 1150),\n",
       " 27: (4047, 1865),\n",
       " 28: (4525, 2278),\n",
       " 29: (2509, 1501),\n",
       " 30: (2238, 1331),\n",
       " 31: (1545, 832),\n",
       " 32: (2479, 998),\n",
       " 33: (4049, 1821),\n",
       " 34: (2362, 1042),\n",
       " 35: (9858, 2281),\n",
       " 36: (2840, 807),\n",
       " 37: (1612, 781),\n",
       " 38: (1933, 886),\n",
       " 39: (1999, 844),\n",
       " 40: (2684, 1262),\n",
       " 41: (5688, 2872),\n",
       " 42: (2713, 1316),\n",
       " 43: (1797, 829),\n",
       " 44: (4960, 1679),\n",
       " 45: (2893, 1125),\n",
       " 46: (2678, 1607),\n",
       " 47: (2569, 1121),\n",
       " 48: (1729, 1020),\n",
       " 49: (2844, 1414),\n",
       " 50: (2704, 1575),\n",
       " 51: (2960, 1241),\n",
       " 52: (3021, 1506),\n",
       " 53: (1560, 831)}"
      ]
     },
     "execution_count": 226,
     "metadata": {},
     "output_type": "execute_result"
    }
   ],
   "source": [
    "clusters_en_lda_tfidf\n",
    "# In cluster 31"
   ]
  },
  {
   "cell_type": "code",
   "execution_count": 232,
   "metadata": {},
   "outputs": [
    {
     "name": "stdout",
     "output_type": "stream",
     "text": [
      "Number of companies in 31th EN tf-idf cluster with  1545  products:  106\n"
     ]
    }
   ],
   "source": [
    "comp = []\n",
    "for c in en_lda.link[en_lda.Topic_tfidf_index == 31]:\n",
    "    i_list = c.split('/')\n",
    "    i = i_list[0].replace('https', '').replace('http', '').replace(':', '').replace('<', '')\n",
    "    comp.append(i)\n",
    "companies = list(set(comp))\n",
    "print(\"Number of companies in 31th EN tf-idf cluster with \", min(all_c), ' products: ', len(companies))"
   ]
  },
  {
   "cell_type": "code",
   "execution_count": 290,
   "metadata": {},
   "outputs": [],
   "source": [
    "# Build graph\n",
    "\n",
    "def create_graph(df, cluster_col):\n",
    "    start = time()\n",
    "    pairs = []\n",
    "    relantions = []\n",
    "    list_v  =[]\n",
    "    items = []\n",
    "    types = []\n",
    "    clusters = []\n",
    "    for i in df.index.tolist():\n",
    "        prod = str(df.loc[i]['node'])\n",
    "        comp = str(df.loc[i]['link'])\n",
    "        nouns = str(df.loc[i]['Nouns'])\n",
    "        clust = str(df.loc[i][cluster_col])\n",
    "        list_v.append((prod, comp, nouns, clust))\n",
    "        i_list = comp.split('/')\n",
    "        i = i_list[0].replace('https', '').replace('http', '').replace(':', '').replace('<', '')\n",
    "        if i not in items:\n",
    "            items.append(i)\n",
    "            types.append('Company')\n",
    "            clusters.append('')\n",
    "        index_comp = items.index(i)\n",
    "        if nouns not in items:\n",
    "            items.append(nouns)\n",
    "            types.append('Product')\n",
    "            clusters.append(clust)\n",
    "        index_prod = items.index(nouns)\n",
    "        if (index_comp, index_prod) not in pairs and (index_prod, index_comp) not in pairs:\n",
    "            pairs.append((index_comp, index_prod))\n",
    "            relantions.append('sales')\n",
    "\n",
    "    variables = defaultdict(list)\n",
    "    for line_no, line in enumerate(list_v):\n",
    "        comp = line[0]\n",
    "        node = line[1]\n",
    "        nouns = line[2]\n",
    "        clust = line[3]\n",
    "        variables[clust].append((comp, nouns))\n",
    "    res = list(variables.items())\n",
    "    for i in range(len(res)):\n",
    "        products = res[i][1]\n",
    "        for subset in itertools.combinations(products, 2):\n",
    "            if subset[0][0] != subset[1][0] and subset[0][1] != subset[1][1] and (items.index(subset[0][1]), items.index(subset[1][1])) not in pairs and (items.index(subset[1][1]), items.index(subset[0][1])) not in pairs:\n",
    "                pairs.append((items.index(subset[0][1]), items.index(subset[1][1])))\n",
    "                relantions.append('common')\n",
    "    g = Graph(pairs)\n",
    "    g.vs[\"names\"] = items\n",
    "    g.vs[\"type\"] = types\n",
    "    g.vs[\"cluster\"] = clusters\n",
    "    g.es[\"relantion\"] = relantions\n",
    "    return g"
   ]
  },
  {
   "cell_type": "code",
   "execution_count": 554,
   "metadata": {},
   "outputs": [
    {
     "name": "stdout",
     "output_type": "stream",
     "text": [
      "vertices: 7\n",
      "edges: 15\n"
     ]
    }
   ],
   "source": [
    "# BOW\n",
    "i = 20\n",
    "sample = en_lda[(en_lda.Topic_bow_index == i) & (en_lda.link.isin(en_lda.link[en_lda.Topic_bow_index == i][:4]))]\n",
    "g_en_lda_bow_44 = create_graph(sample, 'Topic_bow_index')\n",
    "print(\"vertices: %d\" % len(g_en_lda_bow_44.vs))\n",
    "print(\"edges: %d\" % len(g_en_lda_bow_44.es))"
   ]
  },
  {
   "cell_type": "code",
   "execution_count": 557,
   "metadata": {},
   "outputs": [],
   "source": [
    "from igraph import *\n",
    "#circle, lgl, kk\n",
    "layout = g_en_lda_bow_44.layout(\"kk\")\n",
    "color_dict = {\"C\": \"blue\", \"P\": \"red\"} \n",
    "g_en_lda_bow_44.vs[\"labels\"] = g_en_lda_bow_44.vs[\"names\"]\n",
    "g_en_lda_bow_44.vs[\"color\"] = [color_dict[type_v[0]] for type_v in g_en_lda_bow_44.vs[\"type\"]]\n",
    "visual_style = {}\n",
    "visual_style[\"edge_width\"] = [1 if cluster == 'common' else 3 for cluster in g_en_lda_bow_44.es[\"relantion\"]]\n",
    "visual_style[\"vertex_size\"] = 30\n",
    "visual_style[\"vertex_label\"] = g_en_lda_bow_44.vs[\"names\"]\n",
    "visual_style[\"layout\"] = layout\n",
    "visual_style[\"bbox\"] = (600, 600)\n",
    "visual_style[\"vertex_label_dist\"] = 2\n",
    "visual_style[\"vertex_label_angle\"] = 1\n",
    "visual_style[\"margin\"] = 60\n",
    "out = plot(g_en_lda_bow_44, **visual_style)\n",
    "out.save('Graph_en_lda_bow_44.png')"
   ]
  },
  {
   "cell_type": "code",
   "execution_count": 495,
   "metadata": {},
   "outputs": [
    {
     "name": "stdout",
     "output_type": "stream",
     "text": [
      "vertices: 8\n",
      "edges: 21\n"
     ]
    }
   ],
   "source": [
    "#TF-IDF\n",
    "sample1 = en_lda[(en_lda.Topic_tfidf_index == 36) & (en_lda.link.isin(en_lda.link[en_lda.Topic_tfidf_index == 36][:3]))]\n",
    "g_en_lda_tfidf_36 = create_graph(sample1, 'Topic_tfidf_index')\n",
    "print(\"vertices: %d\" % len(g_en_lda_tfidf_36.vs))\n",
    "print(\"edges: %d\" % len(g_en_lda_tfidf_36.es))"
   ]
  },
  {
   "cell_type": "code",
   "execution_count": 496,
   "metadata": {},
   "outputs": [],
   "source": [
    "from igraph import *\n",
    "#circle, lgl, kk\n",
    "layout = g_en_lda_tfidf_36.layout(\"kk\")\n",
    "color_dict = {\"C\": \"blue\", \"P\": \"red\"} \n",
    "g_en_lda_tfidf_36.vs[\"labels\"] = g_en_lda_tfidf_36.vs[\"names\"]\n",
    "g_en_lda_tfidf_36.vs[\"color\"] = [color_dict[type_v[0]] for type_v in g_en_lda_tfidf_36.vs[\"type\"]]\n",
    "visual_style = {}\n",
    "visual_style[\"edge_width\"] = [1 if cluster == 'common' else 3 for cluster in g_en_lda_tfidf_36.es[\"relantion\"]]\n",
    "visual_style[\"vertex_size\"] = 30\n",
    "visual_style[\"vertex_label\"] = g_en_lda_tfidf_36.vs[\"names\"]\n",
    "visual_style[\"layout\"] = layout\n",
    "visual_style[\"bbox\"] = (600, 600)\n",
    "visual_style[\"vertex_label_dist\"] = 2\n",
    "visual_style[\"vertex_label_angle\"] = 1\n",
    "visual_style[\"margin\"] = 100\n",
    "out = plot(g_en_lda_tfidf_36, **visual_style)\n",
    "out.save('Graph_en_lda_tfidf_36.png')"
   ]
  },
  {
   "cell_type": "code",
   "execution_count": 425,
   "metadata": {},
   "outputs": [
    {
     "name": "stdout",
     "output_type": "stream",
     "text": [
      "vertices: 6\n",
      "edges: 10\n"
     ]
    }
   ],
   "source": [
    "#BOW\n",
    "sample1 = et_lda[(et_lda.Topic_bow_index == 1) & (et_lda.link.isin(et_lda.link[et_lda.Topic_bow_index == 1][:3]))]\n",
    "g_et_lda_bow_11 = create_graph(sample1, 'Topic_bow_index')\n",
    "print(\"vertices: %d\" % len(g_et_lda_bow_11.vs))\n",
    "print(\"edges: %d\" % len(g_et_lda_bow_11.es))"
   ]
  },
  {
   "cell_type": "code",
   "execution_count": 424,
   "metadata": {},
   "outputs": [],
   "source": [
    "#BOW\n",
    "from igraph import *\n",
    "#circle, lgl, kk\n",
    "layout = g_et_lda_bow_11.layout(\"kk\")\n",
    "color_dict = {\"C\": \"blue\", \"P\": \"red\"} \n",
    "g_et_lda_bow_11.vs[\"labels\"] = g_et_lda_bow_11.vs[\"names\"]\n",
    "g_et_lda_bow_11.vs[\"color\"] = [color_dict[type_v[0]] for type_v in g_et_lda_bow_11.vs[\"type\"]]\n",
    "visual_style = {}\n",
    "visual_style[\"edge_width\"] = [1 if cluster == 'common' else 3 for cluster in g_et_lda_bow_11.es[\"relantion\"]]\n",
    "visual_style[\"vertex_size\"] = 30\n",
    "visual_style[\"vertex_label\"] = g_et_lda_bow_11.vs[\"names\"]\n",
    "visual_style[\"layout\"] = layout\n",
    "visual_style[\"bbox\"] = (600, 600)\n",
    "visual_style[\"vertex_label_dist\"] = 2\n",
    "visual_style[\"vertex_label_angle\"] = 1\n",
    "visual_style[\"margin\"] = 100\n",
    "out = plot(g_et_lda_bow_11, **visual_style)\n",
    "out.save('Graph_et_lda_bow_1.png')"
   ]
  },
  {
   "cell_type": "code",
   "execution_count": 324,
   "metadata": {},
   "outputs": [
    {
     "name": "stdout",
     "output_type": "stream",
     "text": [
      "vertices: 7\n",
      "edges: 10\n"
     ]
    }
   ],
   "source": [
    "#TF-IDF\n",
    "sample1 = et_lda[(et_lda.Topic_tfidf_index == 55) & (et_lda.link.isin(et_lda.link[et_lda.Topic_tfidf_index == 55][:5]))]\n",
    "g_et_lda_tfidf_55 = create_graph(sample1, 'Topic_tfidf_index')\n",
    "print(\"vertices: %d\" % len(g_et_lda_tfidf_55.vs))\n",
    "print(\"edges: %d\" % len(g_et_lda_tfidf_55.es))"
   ]
  },
  {
   "cell_type": "code",
   "execution_count": 325,
   "metadata": {},
   "outputs": [],
   "source": [
    "from igraph import *\n",
    "#circle, lgl, kk\n",
    "layout = g_et_lda_tfidf_55.layout(\"kk\")\n",
    "color_dict = {\"C\": \"blue\", \"P\": \"red\"} \n",
    "g_et_lda_tfidf_55.vs[\"labels\"] = g_et_lda_tfidf_55.vs[\"names\"]\n",
    "g_et_lda_tfidf_55.vs[\"color\"] = [color_dict[type_v[0]] for type_v in g_et_lda_tfidf_55.vs[\"type\"]]\n",
    "visual_style = {}\n",
    "visual_style[\"edge_width\"] = [1 if cluster == 'common' else 3 for cluster in g_et_lda_tfidf_55.es[\"relantion\"]]\n",
    "visual_style[\"vertex_size\"] = 30\n",
    "visual_style[\"vertex_label\"] = g_et_lda_tfidf_55.vs[\"names\"]\n",
    "visual_style[\"layout\"] = layout\n",
    "visual_style[\"bbox\"] = (600, 600)\n",
    "visual_style[\"vertex_label_dist\"] = 2\n",
    "visual_style[\"vertex_label_angle\"] = 1\n",
    "visual_style[\"margin\"] = 100\n",
    "out = plot(g_et_lda_tfidf_55, **visual_style)\n",
    "out.save('Graph_et_lda_tfidf_55.png')"
   ]
  },
  {
   "cell_type": "code",
   "execution_count": 697,
   "metadata": {},
   "outputs": [],
   "source": [
    "# Measurments\n",
    "\n",
    "def measurments(df, clusters, is_keywords):\n",
    "    comp = []\n",
    "    for c in df.link:\n",
    "        i_list = c.split('/')\n",
    "        i = i_list[0].replace('https', '').replace('http', '').replace(':', '').replace('<', '')\n",
    "        comp.append(i)\n",
    "    companies = list(set(comp))\n",
    "    all_clusters = list(set(df[clusters]))\n",
    "    comp_prod = {k:[] for k in companies}\n",
    "    clust_comp = {k:[] for k in all_clusters}\n",
    "    clust_prod = {k:[] for k in all_clusters}\n",
    "    for i in df.index.tolist():\n",
    "        i_list = df.loc[i]['link'].split('/')\n",
    "        c = i_list[0].replace('https', '').replace('http', '').replace(':', '').replace('<', '')\n",
    "        if df.node[i] not in comp_prod[c]:\n",
    "            comp_prod[c].append(df.node[i])\n",
    "        if c not in clust_comp[df.loc[i][clusters]]:\n",
    "            clust_comp[df.loc[i][clusters]].append(c)\n",
    "        if df.node[i] not in clust_prod[df.loc[i][clusters]]:\n",
    "            clust_prod[df.loc[i][clusters]].append(df.node[i])\n",
    "    sum_conn_prod = 0\n",
    "    for cl in all_clusters:\n",
    "        sample = df[df[clusters] == cl]\n",
    "        number_prod = len(list(set(sample.node)))\n",
    "        sum_conn_prod += number_prod*(number_prod-1)/2\n",
    "    if is_keywords:\n",
    "        clusters_prod = []\n",
    "        for j in range(len(all_clusters)):\n",
    "            sample = df[df[clusters] == all_clusters[j]]\n",
    "            clusters_prod.append(list(set(sample.node)))\n",
    "        for j in range(len(clusters_prod)-1):\n",
    "            inter = list(set(clusters_prod[j]) & set(clusters_prod[j+1]))\n",
    "            sum_conn_prod -= (len(inter)-1)\n",
    "    lonely_comp = [clust_comp[k] for k in clust_comp.keys() if len(clust_comp[k])<2]\n",
    "    if len(lonely_comp) > 0:\n",
    "        lonely = [item for sublist in lonely_comp for item in sublist]\n",
    "        lonely = list(set(lonely))\n",
    "        fully_lonely = []\n",
    "        for c in lonely:\n",
    "            test = [clust_comp[k] for k in clust_comp.keys() if c in clust_comp[k]]\n",
    "            if len(test) < 1:\n",
    "                fully_lonely.append(c)\n",
    "        if len(fully_lonely) > 0:\n",
    "            print(\"Number of companies without connections to other companies: \", len(fully_lonely), \", list: \", fully_lonely)\n",
    "            print(\"Number of companies with connections to other companies: \", len(companies) - len(fully_lonely))\n",
    "        else:\n",
    "            print(\"All companies have connections to some other companies.\")\n",
    "    else:\n",
    "        print(\"All companies have connections to some other companies.\")\n",
    "    comp_prod = {k:len(comp_prod[k]) for k in comp_prod.keys()}\n",
    "    clust_comp = {k:len(clust_comp[k]) for k in clust_comp.keys()}\n",
    "    clust_prod = {k:len(clust_prod[k]) for k in clust_prod.keys()}\n",
    "    print(\"Average number of products per company: \", np.mean(list(comp_prod.values())))\n",
    "    print(\"Minimal number of products in clusters: \", min(list(clust_prod.values())))\n",
    "    print(\"Average number of products per cluster: \", np.mean(list(clust_prod.values())))\n",
    "    print(\"Maximum number of products in clusters: \", max(list(clust_prod.values())))\n",
    "    print(\"Total number of companies: \", len(companies))\n",
    "    print(\"Number of connections amoung products: \", int(sum_conn_prod))\n",
    "    return companies, comp_prod, clust_comp, clust_prod, sum_conn_prod"
   ]
  },
  {
   "cell_type": "code",
   "execution_count": 717,
   "metadata": {},
   "outputs": [
    {
     "data": {
      "text/plain": [
       "54"
      ]
     },
     "execution_count": 717,
     "metadata": {},
     "output_type": "execute_result"
    }
   ],
   "source": [
    "len(list(set(en_lda.Topic_bow_index)))"
   ]
  },
  {
   "cell_type": "code",
   "execution_count": 716,
   "metadata": {},
   "outputs": [
    {
     "data": {
      "text/plain": [
       "54"
      ]
     },
     "execution_count": 716,
     "metadata": {},
     "output_type": "execute_result"
    }
   ],
   "source": [
    "len(list(set(en_lda.Topic_tfidf_index)))"
   ]
  },
  {
   "cell_type": "code",
   "execution_count": 719,
   "metadata": {},
   "outputs": [
    {
     "data": {
      "text/plain": [
       "77"
      ]
     },
     "execution_count": 719,
     "metadata": {},
     "output_type": "execute_result"
    }
   ],
   "source": [
    "len(list(set(et_lda.Topic_bow_index)))"
   ]
  },
  {
   "cell_type": "code",
   "execution_count": 718,
   "metadata": {},
   "outputs": [
    {
     "data": {
      "text/plain": [
       "77"
      ]
     },
     "execution_count": 718,
     "metadata": {},
     "output_type": "execute_result"
    }
   ],
   "source": [
    "len(list(set(et_lda.Topic_tfidf_index)))"
   ]
  },
  {
   "cell_type": "code",
   "execution_count": 459,
   "metadata": {},
   "outputs": [
    {
     "name": "stdout",
     "output_type": "stream",
     "text": [
      "\n",
      "Measurements for EN data, LDA topics obtained with BOW\n",
      "\n",
      "All companies have connections to some other companies.\n",
      "Average number of products per company:  240.53032258064516\n",
      "Minimal number of products in clusters:  1225\n",
      "Average number of products per cluster:  3452.0555555555557\n",
      "Maximum number of products in clusters:  33450\n",
      "Total number of companies:  775\n",
      "Number of connections amoung products:  838587236\n"
     ]
    }
   ],
   "source": [
    "import numpy as np\n",
    "print(\"\\nMeasurements for EN data, LDA topics obtained with BOW\\n\")\n",
    "companies_en_bow, comp_prod_en_bow, clust_comp_en_bow, clust_prod_en_bow, sum_conn_prod_en_bow = measurments(en_lda, 'Topic_bow_index', False)"
   ]
  },
  {
   "cell_type": "code",
   "execution_count": 460,
   "metadata": {},
   "outputs": [
    {
     "name": "stdout",
     "output_type": "stream",
     "text": [
      "\n",
      "Measurements for EN data, LDA topics obtained with TF-IDF\n",
      "\n",
      "All companies have connections to some other companies.\n",
      "Average number of products per company:  240.53032258064516\n",
      "Minimal number of products in clusters:  1545\n",
      "Average number of products per cluster:  3452.0555555555557\n",
      "Maximum number of products in clusters:  30922\n",
      "Total number of companies:  775\n",
      "Number of connections amoung products:  768522074\n"
     ]
    }
   ],
   "source": [
    "print(\"\\nMeasurements for EN data, LDA topics obtained with TF-IDF\\n\")\n",
    "companies_en_tfidf, comp_prod_en_tfidf, clust_comp_en_tfidf, clust_prod_en_tfidf, sum_conn_prod_en_tfidf = measurments(en_lda, 'Topic_tfidf_index', False)"
   ]
  },
  {
   "cell_type": "code",
   "execution_count": 461,
   "metadata": {},
   "outputs": [
    {
     "name": "stdout",
     "output_type": "stream",
     "text": [
      "\n",
      "Measurements for ET data, LDA topics obtained with BOW\n",
      "\n",
      "All companies have connections to some other companies.\n",
      "Average number of products per company:  247.42264150943396\n",
      "Minimal number of products in clusters:  647\n",
      "Average number of products per cluster:  1703.0389610389611\n",
      "Maximum number of products in clusters:  23054\n",
      "Total number of companies:  530\n",
      "Number of connections amoung products:  352275700\n"
     ]
    }
   ],
   "source": [
    "print(\"\\nMeasurements for ET data, LDA topics obtained with BOW\\n\")\n",
    "companies_et_bow, comp_prod_et_bow, clust_comp_et_bow, clust_prod_et_bow, sum_conn_prod_et_bow = measurments(et_lda, 'Topic_bow_index', False)"
   ]
  },
  {
   "cell_type": "code",
   "execution_count": 462,
   "metadata": {},
   "outputs": [
    {
     "name": "stdout",
     "output_type": "stream",
     "text": [
      "\n",
      "Measurements for ET data, LDA topics obtained with TF-IDF\n",
      "\n",
      "All companies have connections to some other companies.\n",
      "Average number of products per company:  247.42264150943396\n",
      "Minimal number of products in clusters:  543\n",
      "Average number of products per cluster:  1703.0389610389611\n",
      "Maximum number of products in clusters:  22310\n",
      "Total number of companies:  530\n",
      "Number of connections amoung products:  336674876\n"
     ]
    }
   ],
   "source": [
    "print(\"\\nMeasurements for ET data, LDA topics obtained with TF-IDF\\n\")\n",
    "companies_et_tfidf, comp_prod_et_tfidf, clust_comp_et_tfidf, clust_prod_et_tfidf, sum_conn_prod_et_tfidf = measurments(et_lda, 'Topic_tfidf_index', False)"
   ]
  },
  {
   "cell_type": "code",
   "execution_count": 4,
   "metadata": {},
   "outputs": [],
   "source": [
    "# Load data\n",
    "\n",
    "en_tfidf = pd.read_csv('Results/en_data_tfidf.csv', index_col=None)\n",
    "et_tfidf = pd.read_csv('Results/et_data_tfidf.csv', index_col=None)\n",
    "en_tfidf['Clusters'] = en_tfidf.Keywords_numbers.apply(lambda x: list(set([i for i in x.replace('Name: Keyword_number, dtype: int64', '').replace(',', '').replace('\\r', '').replace('\\n', '').split(' ') if i.isdigit()])))\n",
    "et_tfidf['Clusters'] = et_tfidf.Keywords_numbers.apply(lambda x: list(set([i for i in x.replace('Name: Keyword_number, dtype: int64', '').replace(',', '').replace('\\r', '').replace('\\n', '').split(' ') if i.isdigit()])))\n",
    "en_tfidf = clean_df(en_tfidf, ['text_join', 'keywords', 'Keywords_numbers'])\n",
    "et_tfidf = clean_df(et_tfidf, ['text_join', 'keywords', 'Keywords_numbers'])\n",
    "et_tfidf['Nouns'] = et_tfidf['Nouns'].apply(rewrite_est)\n",
    "et_tfidf['Keywords_list'] = et_tfidf['Keywords_list'].apply(rewrite_est)\n",
    "en_tfidf['Nouns'] = en_tfidf['Nouns'].apply(rewrite_est)\n",
    "en_tfidf['Keywords_list'] = en_tfidf['Keywords_list'].apply(rewrite_est)"
   ]
  },
  {
   "cell_type": "code",
   "execution_count": 559,
   "metadata": {},
   "outputs": [
    {
     "data": {
      "text/html": [
       "<div>\n",
       "<style scoped>\n",
       "    .dataframe tbody tr th:only-of-type {\n",
       "        vertical-align: middle;\n",
       "    }\n",
       "\n",
       "    .dataframe tbody tr th {\n",
       "        vertical-align: top;\n",
       "    }\n",
       "\n",
       "    .dataframe thead th {\n",
       "        text-align: right;\n",
       "    }\n",
       "</style>\n",
       "<table border=\"1\" class=\"dataframe\">\n",
       "  <thead>\n",
       "    <tr style=\"text-align: right;\">\n",
       "      <th></th>\n",
       "      <th>link</th>\n",
       "      <th>node</th>\n",
       "      <th>Nouns</th>\n",
       "      <th>Keywords_list</th>\n",
       "      <th>Clusters</th>\n",
       "    </tr>\n",
       "  </thead>\n",
       "  <tbody>\n",
       "    <tr>\n",
       "      <th>0</th>\n",
       "      <td>&lt;https::nailin.ee::/et/27-akruulvarvid::null::...</td>\n",
       "      <td>node517e8478b3641044f1e2e2bbc31afa</td>\n",
       "      <td>akrüülvärv stroke phthalo green ml</td>\n",
       "      <td>['akrüülvärv', 'stroke', 'green', 'ml']</td>\n",
       "      <td>[9211, 4062, 5533, 4472]</td>\n",
       "    </tr>\n",
       "    <tr>\n",
       "      <th>1</th>\n",
       "      <td>&lt;http::www.kalastussport.ee::/136-taliridvad::...</td>\n",
       "      <td>nodef5d0383018d768c2279c3541adc8f1a</td>\n",
       "      <td>winter rod akara legend</td>\n",
       "      <td>['akara', 'rod', 'legend', 'winter']</td>\n",
       "      <td>[5734, 8169, 4206, 3997]</td>\n",
       "    </tr>\n",
       "    <tr>\n",
       "      <th>2</th>\n",
       "      <td>&lt;http::www.ittgroup.ee::/en/new-products::null...</td>\n",
       "      <td>nodefeb891dd8590e0d85f9c685e4642449</td>\n",
       "      <td>digital pressure sensor bmp</td>\n",
       "      <td>['sensor', 'pressure', 'digital']</td>\n",
       "      <td>[3312, 5906, 404]</td>\n",
       "    </tr>\n",
       "    <tr>\n",
       "      <th>3</th>\n",
       "      <td>&lt;http::www.ittgroup.ee::/en/31-converters::nul...</td>\n",
       "      <td>node67109f1f1de73f41d2979d4561221</td>\n",
       "      <td>converter bit ads</td>\n",
       "      <td>['converter', 'bit']</td>\n",
       "      <td>[8046, 8680]</td>\n",
       "    </tr>\n",
       "    <tr>\n",
       "      <th>4</th>\n",
       "      <td>&lt;http::www.ittgroup.ee::/en/38-prototyping-and...</td>\n",
       "      <td>node3f349ca61d31b5f8c6bfe56bdb8081</td>\n",
       "      <td>power charger va</td>\n",
       "      <td>['va', 'charger', 'power']</td>\n",
       "      <td>[5784, 8903, 7662]</td>\n",
       "    </tr>\n",
       "  </tbody>\n",
       "</table>\n",
       "</div>"
      ],
      "text/plain": [
       "                                                link  \\\n",
       "0  <https::nailin.ee::/et/27-akruulvarvid::null::...   \n",
       "1  <http::www.kalastussport.ee::/136-taliridvad::...   \n",
       "2  <http::www.ittgroup.ee::/en/new-products::null...   \n",
       "3  <http::www.ittgroup.ee::/en/31-converters::nul...   \n",
       "4  <http::www.ittgroup.ee::/en/38-prototyping-and...   \n",
       "\n",
       "                                  node                               Nouns  \\\n",
       "0   node517e8478b3641044f1e2e2bbc31afa  akrüülvärv stroke phthalo green ml   \n",
       "1  nodef5d0383018d768c2279c3541adc8f1a             winter rod akara legend   \n",
       "2  nodefeb891dd8590e0d85f9c685e4642449         digital pressure sensor bmp   \n",
       "3    node67109f1f1de73f41d2979d4561221                   converter bit ads   \n",
       "4   node3f349ca61d31b5f8c6bfe56bdb8081                    power charger va   \n",
       "\n",
       "                             Keywords_list                  Clusters  \n",
       "0  ['akrüülvärv', 'stroke', 'green', 'ml']  [9211, 4062, 5533, 4472]  \n",
       "1     ['akara', 'rod', 'legend', 'winter']  [5734, 8169, 4206, 3997]  \n",
       "2        ['sensor', 'pressure', 'digital']         [3312, 5906, 404]  \n",
       "3                     ['converter', 'bit']              [8046, 8680]  \n",
       "4               ['va', 'charger', 'power']        [5784, 8903, 7662]  "
      ]
     },
     "execution_count": 559,
     "metadata": {},
     "output_type": "execute_result"
    }
   ],
   "source": [
    "en_tfidf.head()"
   ]
  },
  {
   "cell_type": "code",
   "execution_count": 605,
   "metadata": {},
   "outputs": [
    {
     "name": "stderr",
     "output_type": "stream",
     "text": [
      "100%|████████████████████████████████████████████████████████████████████████| 186411/186411 [4:19:58<00:00,  5.93it/s]\n"
     ]
    },
    {
     "data": {
      "text/html": [
       "<div>\n",
       "<style scoped>\n",
       "    .dataframe tbody tr th:only-of-type {\n",
       "        vertical-align: middle;\n",
       "    }\n",
       "\n",
       "    .dataframe tbody tr th {\n",
       "        vertical-align: top;\n",
       "    }\n",
       "\n",
       "    .dataframe thead th {\n",
       "        text-align: right;\n",
       "    }\n",
       "</style>\n",
       "<table border=\"1\" class=\"dataframe\">\n",
       "  <thead>\n",
       "    <tr style=\"text-align: right;\">\n",
       "      <th></th>\n",
       "      <th>Clusters</th>\n",
       "      <th>Keywords_list</th>\n",
       "      <th>Nouns</th>\n",
       "      <th>link</th>\n",
       "      <th>node</th>\n",
       "    </tr>\n",
       "  </thead>\n",
       "  <tbody>\n",
       "    <tr>\n",
       "      <th>0</th>\n",
       "      <td>9211</td>\n",
       "      <td>['akrüülvärv', 'stroke', 'green', 'ml']</td>\n",
       "      <td>akrüülvärv stroke phthalo green ml</td>\n",
       "      <td>&lt;https::nailin.ee::/et/27-akruulvarvid::null::...</td>\n",
       "      <td>node517e8478b3641044f1e2e2bbc31afa</td>\n",
       "    </tr>\n",
       "    <tr>\n",
       "      <th>0</th>\n",
       "      <td>4062</td>\n",
       "      <td>['akrüülvärv', 'stroke', 'green', 'ml']</td>\n",
       "      <td>akrüülvärv stroke phthalo green ml</td>\n",
       "      <td>&lt;https::nailin.ee::/et/27-akruulvarvid::null::...</td>\n",
       "      <td>node517e8478b3641044f1e2e2bbc31afa</td>\n",
       "    </tr>\n",
       "    <tr>\n",
       "      <th>0</th>\n",
       "      <td>5533</td>\n",
       "      <td>['akrüülvärv', 'stroke', 'green', 'ml']</td>\n",
       "      <td>akrüülvärv stroke phthalo green ml</td>\n",
       "      <td>&lt;https::nailin.ee::/et/27-akruulvarvid::null::...</td>\n",
       "      <td>node517e8478b3641044f1e2e2bbc31afa</td>\n",
       "    </tr>\n",
       "    <tr>\n",
       "      <th>0</th>\n",
       "      <td>4472</td>\n",
       "      <td>['akrüülvärv', 'stroke', 'green', 'ml']</td>\n",
       "      <td>akrüülvärv stroke phthalo green ml</td>\n",
       "      <td>&lt;https::nailin.ee::/et/27-akruulvarvid::null::...</td>\n",
       "      <td>node517e8478b3641044f1e2e2bbc31afa</td>\n",
       "    </tr>\n",
       "    <tr>\n",
       "      <th>1</th>\n",
       "      <td>5734</td>\n",
       "      <td>['akara', 'rod', 'legend', 'winter']</td>\n",
       "      <td>winter rod akara legend</td>\n",
       "      <td>&lt;http::www.kalastussport.ee::/136-taliridvad::...</td>\n",
       "      <td>nodef5d0383018d768c2279c3541adc8f1a</td>\n",
       "    </tr>\n",
       "    <tr>\n",
       "      <th>1</th>\n",
       "      <td>8169</td>\n",
       "      <td>['akara', 'rod', 'legend', 'winter']</td>\n",
       "      <td>winter rod akara legend</td>\n",
       "      <td>&lt;http::www.kalastussport.ee::/136-taliridvad::...</td>\n",
       "      <td>nodef5d0383018d768c2279c3541adc8f1a</td>\n",
       "    </tr>\n",
       "    <tr>\n",
       "      <th>1</th>\n",
       "      <td>4206</td>\n",
       "      <td>['akara', 'rod', 'legend', 'winter']</td>\n",
       "      <td>winter rod akara legend</td>\n",
       "      <td>&lt;http::www.kalastussport.ee::/136-taliridvad::...</td>\n",
       "      <td>nodef5d0383018d768c2279c3541adc8f1a</td>\n",
       "    </tr>\n",
       "    <tr>\n",
       "      <th>1</th>\n",
       "      <td>3997</td>\n",
       "      <td>['akara', 'rod', 'legend', 'winter']</td>\n",
       "      <td>winter rod akara legend</td>\n",
       "      <td>&lt;http::www.kalastussport.ee::/136-taliridvad::...</td>\n",
       "      <td>nodef5d0383018d768c2279c3541adc8f1a</td>\n",
       "    </tr>\n",
       "    <tr>\n",
       "      <th>2</th>\n",
       "      <td>3312</td>\n",
       "      <td>['sensor', 'pressure', 'digital']</td>\n",
       "      <td>digital pressure sensor bmp</td>\n",
       "      <td>&lt;http::www.ittgroup.ee::/en/new-products::null...</td>\n",
       "      <td>nodefeb891dd8590e0d85f9c685e4642449</td>\n",
       "    </tr>\n",
       "    <tr>\n",
       "      <th>2</th>\n",
       "      <td>5906</td>\n",
       "      <td>['sensor', 'pressure', 'digital']</td>\n",
       "      <td>digital pressure sensor bmp</td>\n",
       "      <td>&lt;http::www.ittgroup.ee::/en/new-products::null...</td>\n",
       "      <td>nodefeb891dd8590e0d85f9c685e4642449</td>\n",
       "    </tr>\n",
       "  </tbody>\n",
       "</table>\n",
       "</div>"
      ],
      "text/plain": [
       "  Clusters                            Keywords_list  \\\n",
       "0     9211  ['akrüülvärv', 'stroke', 'green', 'ml']   \n",
       "0     4062  ['akrüülvärv', 'stroke', 'green', 'ml']   \n",
       "0     5533  ['akrüülvärv', 'stroke', 'green', 'ml']   \n",
       "0     4472  ['akrüülvärv', 'stroke', 'green', 'ml']   \n",
       "1     5734     ['akara', 'rod', 'legend', 'winter']   \n",
       "1     8169     ['akara', 'rod', 'legend', 'winter']   \n",
       "1     4206     ['akara', 'rod', 'legend', 'winter']   \n",
       "1     3997     ['akara', 'rod', 'legend', 'winter']   \n",
       "2     3312        ['sensor', 'pressure', 'digital']   \n",
       "2     5906        ['sensor', 'pressure', 'digital']   \n",
       "\n",
       "                                Nouns  \\\n",
       "0  akrüülvärv stroke phthalo green ml   \n",
       "0  akrüülvärv stroke phthalo green ml   \n",
       "0  akrüülvärv stroke phthalo green ml   \n",
       "0  akrüülvärv stroke phthalo green ml   \n",
       "1             winter rod akara legend   \n",
       "1             winter rod akara legend   \n",
       "1             winter rod akara legend   \n",
       "1             winter rod akara legend   \n",
       "2         digital pressure sensor bmp   \n",
       "2         digital pressure sensor bmp   \n",
       "\n",
       "                                                link  \\\n",
       "0  <https::nailin.ee::/et/27-akruulvarvid::null::...   \n",
       "0  <https::nailin.ee::/et/27-akruulvarvid::null::...   \n",
       "0  <https::nailin.ee::/et/27-akruulvarvid::null::...   \n",
       "0  <https::nailin.ee::/et/27-akruulvarvid::null::...   \n",
       "1  <http::www.kalastussport.ee::/136-taliridvad::...   \n",
       "1  <http::www.kalastussport.ee::/136-taliridvad::...   \n",
       "1  <http::www.kalastussport.ee::/136-taliridvad::...   \n",
       "1  <http::www.kalastussport.ee::/136-taliridvad::...   \n",
       "2  <http::www.ittgroup.ee::/en/new-products::null...   \n",
       "2  <http::www.ittgroup.ee::/en/new-products::null...   \n",
       "\n",
       "                                  node  \n",
       "0   node517e8478b3641044f1e2e2bbc31afa  \n",
       "0   node517e8478b3641044f1e2e2bbc31afa  \n",
       "0   node517e8478b3641044f1e2e2bbc31afa  \n",
       "0   node517e8478b3641044f1e2e2bbc31afa  \n",
       "1  nodef5d0383018d768c2279c3541adc8f1a  \n",
       "1  nodef5d0383018d768c2279c3541adc8f1a  \n",
       "1  nodef5d0383018d768c2279c3541adc8f1a  \n",
       "1  nodef5d0383018d768c2279c3541adc8f1a  \n",
       "2  nodefeb891dd8590e0d85f9c685e4642449  \n",
       "2  nodefeb891dd8590e0d85f9c685e4642449  "
      ]
     },
     "execution_count": 605,
     "metadata": {},
     "output_type": "execute_result"
    }
   ],
   "source": [
    "en_tfidf_sep = pd.DataFrame(columns=['Clusters', 'Keywords_list', 'Nouns', 'link', 'node'], index=[])\n",
    "counter = 0\n",
    "from tqdm import tqdm\n",
    "for i in tqdm(range(len(en_tfidf))):\n",
    "    dff = en_tfidf.iloc[i].copy()\n",
    "    dff = pd.DataFrame(data={'link':[dff['link']], 'node':[dff['node']], 'Nouns':[dff['Nouns']],\n",
    "                             'Keywords_list':[dff['Keywords_list']], 'Clusters':[dff['Clusters']]})\n",
    "    dff.index = [i]\n",
    "    clusters = dff['Clusters'].values[0]\n",
    "    for j in range(len(clusters)):\n",
    "            dff1 = dff.copy()\n",
    "            dff1['Clusters'] = [clusters[j]]\n",
    "            #print(dff1)\n",
    "            #print(en_tfidf_sep)\n",
    "            en_tfidf_sep = en_tfidf_sep.append(dff1)\n",
    "            counter += 1\n",
    "en_tfidf_sep.head(10)"
   ]
  },
  {
   "cell_type": "code",
   "execution_count": null,
   "metadata": {},
   "outputs": [],
   "source": [
    "et_tfidf_sep = pd.DataFrame(columns=['Clusters', 'Keywords_list', 'Nouns', 'link', 'node'], index=[])\n",
    "counter = 0\n",
    "from tqdm import tqdm\n",
    "for i in tqdm(range(len(et_tfidf))):\n",
    "    dff = et_tfidf.iloc[i].copy()\n",
    "    dff = pd.DataFrame(data={'link':[dff['link']], 'node':[dff['node']], 'Nouns':[dff['Nouns']],\n",
    "                             'Keywords_list':[dff['Keywords_list']], 'Clusters':[dff['Clusters']]})\n",
    "    dff.index = [i]\n",
    "    clusters = dff['Clusters'].values[0]\n",
    "    for j in range(len(clusters)):\n",
    "            dff1 = dff.copy()\n",
    "            dff1['Clusters'] = [clusters[j]]\n",
    "            #print(dff1)\n",
    "            #print(en_tfidf_sep)\n",
    "            et_tfidf_sep = et_tfidf_sep.append(dff1)\n",
    "            counter += 1\n",
    "et_tfidf_sep.head(10)"
   ]
  },
  {
   "cell_type": "code",
   "execution_count": 608,
   "metadata": {},
   "outputs": [],
   "source": [
    "en_tfidf_sep.to_csv('en_tfidf_sep.csv')\n",
    "et_tfidf_sep.to_csv('et_tfidf_sep.csv')"
   ]
  },
  {
   "cell_type": "code",
   "execution_count": 5,
   "metadata": {},
   "outputs": [],
   "source": [
    "en_tfidf_sep = pd.read_csv('en_tfidf_sep.csv')\n",
    "et_tfidf_sep = pd.read_csv('et_tfidf_sep.csv')"
   ]
  },
  {
   "cell_type": "code",
   "execution_count": 7,
   "metadata": {},
   "outputs": [],
   "source": [
    "import numpy as np\n",
    "en_tfidf_sep.index = np.arange(len(en_tfidf_sep))\n",
    "et_tfidf_sep.index = np.arange(len(et_tfidf_sep))"
   ]
  },
  {
   "cell_type": "code",
   "execution_count": 8,
   "metadata": {},
   "outputs": [
    {
     "data": {
      "text/html": [
       "<div>\n",
       "<style scoped>\n",
       "    .dataframe tbody tr th:only-of-type {\n",
       "        vertical-align: middle;\n",
       "    }\n",
       "\n",
       "    .dataframe tbody tr th {\n",
       "        vertical-align: top;\n",
       "    }\n",
       "\n",
       "    .dataframe thead th {\n",
       "        text-align: right;\n",
       "    }\n",
       "</style>\n",
       "<table border=\"1\" class=\"dataframe\">\n",
       "  <thead>\n",
       "    <tr style=\"text-align: right;\">\n",
       "      <th></th>\n",
       "      <th>Clusters</th>\n",
       "      <th>Keywords_list</th>\n",
       "      <th>Nouns</th>\n",
       "      <th>link</th>\n",
       "      <th>node</th>\n",
       "    </tr>\n",
       "  </thead>\n",
       "  <tbody>\n",
       "    <tr>\n",
       "      <th>0</th>\n",
       "      <td>9211</td>\n",
       "      <td>['akrüülvärv', 'stroke', 'green', 'ml']</td>\n",
       "      <td>akrüülvärv stroke phthalo green ml</td>\n",
       "      <td>&lt;https::nailin.ee::/et/27-akruulvarvid::null::...</td>\n",
       "      <td>node517e8478b3641044f1e2e2bbc31afa</td>\n",
       "    </tr>\n",
       "    <tr>\n",
       "      <th>1</th>\n",
       "      <td>4062</td>\n",
       "      <td>['akrüülvärv', 'stroke', 'green', 'ml']</td>\n",
       "      <td>akrüülvärv stroke phthalo green ml</td>\n",
       "      <td>&lt;https::nailin.ee::/et/27-akruulvarvid::null::...</td>\n",
       "      <td>node517e8478b3641044f1e2e2bbc31afa</td>\n",
       "    </tr>\n",
       "    <tr>\n",
       "      <th>2</th>\n",
       "      <td>5533</td>\n",
       "      <td>['akrüülvärv', 'stroke', 'green', 'ml']</td>\n",
       "      <td>akrüülvärv stroke phthalo green ml</td>\n",
       "      <td>&lt;https::nailin.ee::/et/27-akruulvarvid::null::...</td>\n",
       "      <td>node517e8478b3641044f1e2e2bbc31afa</td>\n",
       "    </tr>\n",
       "    <tr>\n",
       "      <th>3</th>\n",
       "      <td>4472</td>\n",
       "      <td>['akrüülvärv', 'stroke', 'green', 'ml']</td>\n",
       "      <td>akrüülvärv stroke phthalo green ml</td>\n",
       "      <td>&lt;https::nailin.ee::/et/27-akruulvarvid::null::...</td>\n",
       "      <td>node517e8478b3641044f1e2e2bbc31afa</td>\n",
       "    </tr>\n",
       "    <tr>\n",
       "      <th>4</th>\n",
       "      <td>5734</td>\n",
       "      <td>['akara', 'rod', 'legend', 'winter']</td>\n",
       "      <td>winter rod akara legend</td>\n",
       "      <td>&lt;http::www.kalastussport.ee::/136-taliridvad::...</td>\n",
       "      <td>nodef5d0383018d768c2279c3541adc8f1a</td>\n",
       "    </tr>\n",
       "  </tbody>\n",
       "</table>\n",
       "</div>"
      ],
      "text/plain": [
       "   Clusters                            Keywords_list  \\\n",
       "0      9211  ['akrüülvärv', 'stroke', 'green', 'ml']   \n",
       "1      4062  ['akrüülvärv', 'stroke', 'green', 'ml']   \n",
       "2      5533  ['akrüülvärv', 'stroke', 'green', 'ml']   \n",
       "3      4472  ['akrüülvärv', 'stroke', 'green', 'ml']   \n",
       "4      5734     ['akara', 'rod', 'legend', 'winter']   \n",
       "\n",
       "                                Nouns  \\\n",
       "0  akrüülvärv stroke phthalo green ml   \n",
       "1  akrüülvärv stroke phthalo green ml   \n",
       "2  akrüülvärv stroke phthalo green ml   \n",
       "3  akrüülvärv stroke phthalo green ml   \n",
       "4             winter rod akara legend   \n",
       "\n",
       "                                                link  \\\n",
       "0  <https::nailin.ee::/et/27-akruulvarvid::null::...   \n",
       "1  <https::nailin.ee::/et/27-akruulvarvid::null::...   \n",
       "2  <https::nailin.ee::/et/27-akruulvarvid::null::...   \n",
       "3  <https::nailin.ee::/et/27-akruulvarvid::null::...   \n",
       "4  <http::www.kalastussport.ee::/136-taliridvad::...   \n",
       "\n",
       "                                  node  \n",
       "0   node517e8478b3641044f1e2e2bbc31afa  \n",
       "1   node517e8478b3641044f1e2e2bbc31afa  \n",
       "2   node517e8478b3641044f1e2e2bbc31afa  \n",
       "3   node517e8478b3641044f1e2e2bbc31afa  \n",
       "4  nodef5d0383018d768c2279c3541adc8f1a  "
      ]
     },
     "execution_count": 8,
     "metadata": {},
     "output_type": "execute_result"
    }
   ],
   "source": [
    "en_tfidf_sep = clean_df(en_tfidf_sep, [])\n",
    "et_tfidf_sep = clean_df(et_tfidf_sep, [])\n",
    "en_tfidf_sep.head()"
   ]
  },
  {
   "cell_type": "code",
   "execution_count": 664,
   "metadata": {},
   "outputs": [
    {
     "name": "stdout",
     "output_type": "stream",
     "text": [
      "vertices: 8\n",
      "edges: 15\n"
     ]
    }
   ],
   "source": [
    "i = 25\n",
    "sample = en_tfidf_sep[(en_tfidf_sep.Clusters == i) & \n",
    "                      (en_tfidf_sep.link.isin(en_tfidf_sep.link[en_tfidf_sep.Clusters == i][:6]))]\n",
    "g_en_tfidf_sep = create_graph(sample, 'Clusters')\n",
    "print(\"vertices: %d\" % len(g_en_tfidf_sep.vs))\n",
    "print(\"edges: %d\" % len(g_en_tfidf_sep.es))"
   ]
  },
  {
   "cell_type": "code",
   "execution_count": 666,
   "metadata": {},
   "outputs": [],
   "source": [
    "layout = g_en_tfidf_sep.layout(\"kk\")\n",
    "color_dict = {\"C\": \"blue\", \"P\": \"red\"} \n",
    "g_en_tfidf_sep.vs[\"labels\"] = g_en_tfidf_sep.vs[\"names\"]\n",
    "g_en_tfidf_sep.vs[\"color\"] = [color_dict[type_v[0]] for type_v in g_en_tfidf_sep.vs[\"type\"]]\n",
    "visual_style = {}\n",
    "visual_style[\"edge_width\"] = [1 if cluster == 'common' else 3 for cluster in g_en_tfidf_sep.es[\"relantion\"]]\n",
    "visual_style[\"vertex_size\"] = 30\n",
    "visual_style[\"vertex_label\"] = g_en_tfidf_sep.vs[\"names\"]\n",
    "visual_style[\"layout\"] = layout\n",
    "visual_style[\"bbox\"] = (600, 600)\n",
    "visual_style[\"vertex_label_dist\"] = 2\n",
    "visual_style[\"vertex_label_angle\"] = 1\n",
    "visual_style[\"margin\"] = 100\n",
    "out = plot(g_en_tfidf_sep, **visual_style)\n",
    "out.save('Graph_en_tfidf_25.png')"
   ]
  },
  {
   "cell_type": "code",
   "execution_count": 722,
   "metadata": {},
   "outputs": [
    {
     "data": {
      "text/plain": [
       "9155"
      ]
     },
     "execution_count": 722,
     "metadata": {},
     "output_type": "execute_result"
    }
   ],
   "source": [
    "len(list(set(en_tfidf_sep.Clusters)))"
   ]
  },
  {
   "cell_type": "code",
   "execution_count": 723,
   "metadata": {},
   "outputs": [
    {
     "data": {
      "text/plain": [
       "9512"
      ]
     },
     "execution_count": 723,
     "metadata": {},
     "output_type": "execute_result"
    }
   ],
   "source": [
    "len(list(set(et_tfidf_sep.Clusters)))"
   ]
  },
  {
   "cell_type": "code",
   "execution_count": 694,
   "metadata": {},
   "outputs": [
    {
     "name": "stdout",
     "output_type": "stream",
     "text": [
      "\n",
      "Measurements for EN data, keywords obtained with TF-IDF\n",
      "\n",
      "Average number of products per company:  228.65058479532163\n",
      "Minimal number of products in clusters:  1\n",
      "Average number of products per cluster:  57.5808847624249\n",
      "Maximum number of products in clusters:  14718\n",
      "Total number of companies:  684\n",
      "Number of connections amoung products:  227998426\n"
     ]
    }
   ],
   "source": [
    "print(\"\\nMeasurements for EN data, keywords obtained with TF-IDF\\n\")\n",
    "companies_en_kwtf, comp_prod_en_kwtf, clust_comp_en_kwtf, clust_prod_en_kwtf, sum_conn_prod_en_kwtf = measurments(en_tfidf_sep, 'Clusters', True)"
   ]
  },
  {
   "cell_type": "code",
   "execution_count": 911,
   "metadata": {},
   "outputs": [
    {
     "name": "stdout",
     "output_type": "stream",
     "text": [
      "vertices: 8\n",
      "edges: 10\n"
     ]
    }
   ],
   "source": [
    "i = 28\n",
    "sample = et_tfidf_sep[(et_tfidf_sep.Clusters == i) & \n",
    "                      (et_tfidf_sep.link.isin(et_tfidf_sep.link[et_tfidf_sep.Clusters == i][2:8]))]\n",
    "g_et_tfidf_sep = create_graph(sample, 'Clusters')\n",
    "print(\"vertices: %d\" % len(g_et_tfidf_sep.vs))\n",
    "print(\"edges: %d\" % len(g_et_tfidf_sep.es))"
   ]
  },
  {
   "cell_type": "code",
   "execution_count": 912,
   "metadata": {},
   "outputs": [],
   "source": [
    "layout = g_et_tfidf_sep.layout(\"kk\")\n",
    "color_dict = {\"C\": \"blue\", \"P\": \"red\"} \n",
    "g_et_tfidf_sep.vs[\"labels\"] = g_et_tfidf_sep.vs[\"names\"]\n",
    "g_et_tfidf_sep.vs[\"color\"] = [color_dict[type_v[0]] for type_v in g_et_tfidf_sep.vs[\"type\"]]\n",
    "visual_style = {}\n",
    "visual_style[\"edge_width\"] = [1 if cluster == 'common' else 3 for cluster in g_et_tfidf_sep.es[\"relantion\"]]\n",
    "visual_style[\"vertex_size\"] = 30\n",
    "visual_style[\"vertex_label\"] = g_et_tfidf_sep.vs[\"names\"]\n",
    "visual_style[\"layout\"] = layout\n",
    "visual_style[\"bbox\"] = (600, 600)\n",
    "visual_style[\"vertex_label_dist\"] = 2\n",
    "visual_style[\"vertex_label_angle\"] = 1\n",
    "visual_style[\"margin\"] = 100\n",
    "out = plot(g_et_tfidf_sep, **visual_style)\n",
    "out.save('Graph_et_tfidf_28.png')"
   ]
  },
  {
   "cell_type": "code",
   "execution_count": 696,
   "metadata": {},
   "outputs": [
    {
     "name": "stdout",
     "output_type": "stream",
     "text": [
      "\n",
      "Measurements for ET data, keywords obtained with TF-IDF\n",
      "\n",
      "Number of companies without connections to other companies:  0 , list:  []\n",
      "Number of companies with connections to other companies:  475\n",
      "Average number of products per company:  209.58736842105264\n",
      "Minimal number of products in clusters:  1\n",
      "Average number of products per cluster:  40.6113330529857\n",
      "Maximum number of products in clusters:  1846\n",
      "Total number of companies:  475\n",
      "Number of connections amoung products:  30707240\n"
     ]
    }
   ],
   "source": [
    "print(\"\\nMeasurements for ET data, keywords obtained with TF-IDF\\n\")\n",
    "companies_et_kwtf, comp_prod_et_kwtf, clust_comp_et_kwtf, clust_prod_et_kwtf, sum_conn_prod_et_kwtf = measurments(et_tfidf_sep, 'Clusters', True)"
   ]
  },
  {
   "cell_type": "code",
   "execution_count": 700,
   "metadata": {},
   "outputs": [],
   "source": [
    "# Load data\n",
    "\n",
    "en_kmeans = pd.read_csv('Results/en_data_wod2vec_kmeans.csv', index_col=None)\n",
    "et_kmeans = pd.read_csv('Results/et_data_wod2vec_kmeans.csv', index_col=None)\n",
    "en_kmeans['Clusters'] = en_kmeans.Keywords_numbers.apply(lambda x: list(set([i for i in x.replace('Name: Keyword_number, dtype: int64', '').replace(',', '').replace('\\r', '').replace('\\n', '').split(' ') if i.isdigit()])))\n",
    "et_kmeans['Clusters'] = et_kmeans.Keywords_numbers.apply(lambda x: list(set([i for i in x.replace('Name: Keyword_number, dtype: int64', '').replace(',', '').replace('\\r', '').replace('\\n', '').split(' ') if i.isdigit()])))\n",
    "en_kmeans = clean_df(en_kmeans, ['text_join', 'Summary', 'Keywords_numbers'])\n",
    "et_kmeans = clean_df(et_kmeans, ['text_join', 'Summary', 'Keywords_numbers'])\n",
    "en_kmeans['Nouns'] = en_kmeans['Nouns'].apply(rewrite_est)\n",
    "et_kmeans['Nouns'] = et_kmeans['Nouns'].apply(rewrite_est)"
   ]
  },
  {
   "cell_type": "code",
   "execution_count": 701,
   "metadata": {},
   "outputs": [
    {
     "data": {
      "text/html": [
       "<div>\n",
       "<style scoped>\n",
       "    .dataframe tbody tr th:only-of-type {\n",
       "        vertical-align: middle;\n",
       "    }\n",
       "\n",
       "    .dataframe tbody tr th {\n",
       "        vertical-align: top;\n",
       "    }\n",
       "\n",
       "    .dataframe thead th {\n",
       "        text-align: right;\n",
       "    }\n",
       "</style>\n",
       "<table border=\"1\" class=\"dataframe\">\n",
       "  <thead>\n",
       "    <tr style=\"text-align: right;\">\n",
       "      <th></th>\n",
       "      <th>link</th>\n",
       "      <th>node</th>\n",
       "      <th>Nouns</th>\n",
       "      <th>Clusters</th>\n",
       "    </tr>\n",
       "  </thead>\n",
       "  <tbody>\n",
       "    <tr>\n",
       "      <th>0</th>\n",
       "      <td>&lt;https::nailin.ee::/et/27-akruulvarvid::null::...</td>\n",
       "      <td>node517e8478b3641044f1e2e2bbc31afa</td>\n",
       "      <td>akrüülvärv stroke phthalo green ml</td>\n",
       "      <td>[9833, 14957, 12269, 2159]</td>\n",
       "    </tr>\n",
       "    <tr>\n",
       "      <th>1</th>\n",
       "      <td>&lt;http::www.kalastussport.ee::/136-taliridvad::...</td>\n",
       "      <td>nodef5d0383018d768c2279c3541adc8f1a</td>\n",
       "      <td>winter rod akara legend</td>\n",
       "      <td>[30916, 9829, 7892, 23856]</td>\n",
       "    </tr>\n",
       "    <tr>\n",
       "      <th>2</th>\n",
       "      <td>&lt;http::www.ittgroup.ee::/en/new-products::null...</td>\n",
       "      <td>nodefeb891dd8590e0d85f9c685e4642449</td>\n",
       "      <td>digital pressure sensor bmp</td>\n",
       "      <td>[23158, 28042, 23248, 21563]</td>\n",
       "    </tr>\n",
       "    <tr>\n",
       "      <th>3</th>\n",
       "      <td>&lt;http::www.ittgroup.ee::/en/31-converters::nul...</td>\n",
       "      <td>node67109f1f1de73f41d2979d4561221</td>\n",
       "      <td>converter bit ads</td>\n",
       "      <td>[6799, 636, 5169]</td>\n",
       "    </tr>\n",
       "    <tr>\n",
       "      <th>4</th>\n",
       "      <td>&lt;http::www.ittgroup.ee::/en/38-prototyping-and...</td>\n",
       "      <td>node3f349ca61d31b5f8c6bfe56bdb8081</td>\n",
       "      <td>power charger va</td>\n",
       "      <td>[8494, 22422, 17862]</td>\n",
       "    </tr>\n",
       "  </tbody>\n",
       "</table>\n",
       "</div>"
      ],
      "text/plain": [
       "                                                link  \\\n",
       "0  <https::nailin.ee::/et/27-akruulvarvid::null::...   \n",
       "1  <http::www.kalastussport.ee::/136-taliridvad::...   \n",
       "2  <http::www.ittgroup.ee::/en/new-products::null...   \n",
       "3  <http::www.ittgroup.ee::/en/31-converters::nul...   \n",
       "4  <http::www.ittgroup.ee::/en/38-prototyping-and...   \n",
       "\n",
       "                                  node                               Nouns  \\\n",
       "0   node517e8478b3641044f1e2e2bbc31afa  akrüülvärv stroke phthalo green ml   \n",
       "1  nodef5d0383018d768c2279c3541adc8f1a             winter rod akara legend   \n",
       "2  nodefeb891dd8590e0d85f9c685e4642449         digital pressure sensor bmp   \n",
       "3    node67109f1f1de73f41d2979d4561221                   converter bit ads   \n",
       "4   node3f349ca61d31b5f8c6bfe56bdb8081                    power charger va   \n",
       "\n",
       "                       Clusters  \n",
       "0    [9833, 14957, 12269, 2159]  \n",
       "1    [30916, 9829, 7892, 23856]  \n",
       "2  [23158, 28042, 23248, 21563]  \n",
       "3             [6799, 636, 5169]  \n",
       "4          [8494, 22422, 17862]  "
      ]
     },
     "execution_count": 701,
     "metadata": {},
     "output_type": "execute_result"
    }
   ],
   "source": [
    "en_kmeans.head()"
   ]
  },
  {
   "cell_type": "code",
   "execution_count": 702,
   "metadata": {},
   "outputs": [
    {
     "name": "stderr",
     "output_type": "stream",
     "text": [
      "100%|████████████████████████████████████████████████████████████████████████| 186411/186411 [3:51:49<00:00,  5.68it/s]\n"
     ]
    },
    {
     "data": {
      "text/html": [
       "<div>\n",
       "<style scoped>\n",
       "    .dataframe tbody tr th:only-of-type {\n",
       "        vertical-align: middle;\n",
       "    }\n",
       "\n",
       "    .dataframe tbody tr th {\n",
       "        vertical-align: top;\n",
       "    }\n",
       "\n",
       "    .dataframe thead th {\n",
       "        text-align: right;\n",
       "    }\n",
       "</style>\n",
       "<table border=\"1\" class=\"dataframe\">\n",
       "  <thead>\n",
       "    <tr style=\"text-align: right;\">\n",
       "      <th></th>\n",
       "      <th>Clusters</th>\n",
       "      <th>Nouns</th>\n",
       "      <th>link</th>\n",
       "      <th>node</th>\n",
       "    </tr>\n",
       "  </thead>\n",
       "  <tbody>\n",
       "    <tr>\n",
       "      <th>0</th>\n",
       "      <td>9833</td>\n",
       "      <td>akrüülvärv stroke phthalo green ml</td>\n",
       "      <td>&lt;https::nailin.ee::/et/27-akruulvarvid::null::...</td>\n",
       "      <td>node517e8478b3641044f1e2e2bbc31afa</td>\n",
       "    </tr>\n",
       "    <tr>\n",
       "      <th>0</th>\n",
       "      <td>14957</td>\n",
       "      <td>akrüülvärv stroke phthalo green ml</td>\n",
       "      <td>&lt;https::nailin.ee::/et/27-akruulvarvid::null::...</td>\n",
       "      <td>node517e8478b3641044f1e2e2bbc31afa</td>\n",
       "    </tr>\n",
       "    <tr>\n",
       "      <th>0</th>\n",
       "      <td>12269</td>\n",
       "      <td>akrüülvärv stroke phthalo green ml</td>\n",
       "      <td>&lt;https::nailin.ee::/et/27-akruulvarvid::null::...</td>\n",
       "      <td>node517e8478b3641044f1e2e2bbc31afa</td>\n",
       "    </tr>\n",
       "    <tr>\n",
       "      <th>0</th>\n",
       "      <td>2159</td>\n",
       "      <td>akrüülvärv stroke phthalo green ml</td>\n",
       "      <td>&lt;https::nailin.ee::/et/27-akruulvarvid::null::...</td>\n",
       "      <td>node517e8478b3641044f1e2e2bbc31afa</td>\n",
       "    </tr>\n",
       "    <tr>\n",
       "      <th>1</th>\n",
       "      <td>30916</td>\n",
       "      <td>winter rod akara legend</td>\n",
       "      <td>&lt;http::www.kalastussport.ee::/136-taliridvad::...</td>\n",
       "      <td>nodef5d0383018d768c2279c3541adc8f1a</td>\n",
       "    </tr>\n",
       "    <tr>\n",
       "      <th>1</th>\n",
       "      <td>9829</td>\n",
       "      <td>winter rod akara legend</td>\n",
       "      <td>&lt;http::www.kalastussport.ee::/136-taliridvad::...</td>\n",
       "      <td>nodef5d0383018d768c2279c3541adc8f1a</td>\n",
       "    </tr>\n",
       "    <tr>\n",
       "      <th>1</th>\n",
       "      <td>7892</td>\n",
       "      <td>winter rod akara legend</td>\n",
       "      <td>&lt;http::www.kalastussport.ee::/136-taliridvad::...</td>\n",
       "      <td>nodef5d0383018d768c2279c3541adc8f1a</td>\n",
       "    </tr>\n",
       "    <tr>\n",
       "      <th>1</th>\n",
       "      <td>23856</td>\n",
       "      <td>winter rod akara legend</td>\n",
       "      <td>&lt;http::www.kalastussport.ee::/136-taliridvad::...</td>\n",
       "      <td>nodef5d0383018d768c2279c3541adc8f1a</td>\n",
       "    </tr>\n",
       "    <tr>\n",
       "      <th>2</th>\n",
       "      <td>23158</td>\n",
       "      <td>digital pressure sensor bmp</td>\n",
       "      <td>&lt;http::www.ittgroup.ee::/en/new-products::null...</td>\n",
       "      <td>nodefeb891dd8590e0d85f9c685e4642449</td>\n",
       "    </tr>\n",
       "    <tr>\n",
       "      <th>2</th>\n",
       "      <td>28042</td>\n",
       "      <td>digital pressure sensor bmp</td>\n",
       "      <td>&lt;http::www.ittgroup.ee::/en/new-products::null...</td>\n",
       "      <td>nodefeb891dd8590e0d85f9c685e4642449</td>\n",
       "    </tr>\n",
       "  </tbody>\n",
       "</table>\n",
       "</div>"
      ],
      "text/plain": [
       "  Clusters                               Nouns  \\\n",
       "0     9833  akrüülvärv stroke phthalo green ml   \n",
       "0    14957  akrüülvärv stroke phthalo green ml   \n",
       "0    12269  akrüülvärv stroke phthalo green ml   \n",
       "0     2159  akrüülvärv stroke phthalo green ml   \n",
       "1    30916             winter rod akara legend   \n",
       "1     9829             winter rod akara legend   \n",
       "1     7892             winter rod akara legend   \n",
       "1    23856             winter rod akara legend   \n",
       "2    23158         digital pressure sensor bmp   \n",
       "2    28042         digital pressure sensor bmp   \n",
       "\n",
       "                                                link  \\\n",
       "0  <https::nailin.ee::/et/27-akruulvarvid::null::...   \n",
       "0  <https::nailin.ee::/et/27-akruulvarvid::null::...   \n",
       "0  <https::nailin.ee::/et/27-akruulvarvid::null::...   \n",
       "0  <https::nailin.ee::/et/27-akruulvarvid::null::...   \n",
       "1  <http::www.kalastussport.ee::/136-taliridvad::...   \n",
       "1  <http::www.kalastussport.ee::/136-taliridvad::...   \n",
       "1  <http::www.kalastussport.ee::/136-taliridvad::...   \n",
       "1  <http::www.kalastussport.ee::/136-taliridvad::...   \n",
       "2  <http::www.ittgroup.ee::/en/new-products::null...   \n",
       "2  <http::www.ittgroup.ee::/en/new-products::null...   \n",
       "\n",
       "                                  node  \n",
       "0   node517e8478b3641044f1e2e2bbc31afa  \n",
       "0   node517e8478b3641044f1e2e2bbc31afa  \n",
       "0   node517e8478b3641044f1e2e2bbc31afa  \n",
       "0   node517e8478b3641044f1e2e2bbc31afa  \n",
       "1  nodef5d0383018d768c2279c3541adc8f1a  \n",
       "1  nodef5d0383018d768c2279c3541adc8f1a  \n",
       "1  nodef5d0383018d768c2279c3541adc8f1a  \n",
       "1  nodef5d0383018d768c2279c3541adc8f1a  \n",
       "2  nodefeb891dd8590e0d85f9c685e4642449  \n",
       "2  nodefeb891dd8590e0d85f9c685e4642449  "
      ]
     },
     "execution_count": 702,
     "metadata": {},
     "output_type": "execute_result"
    }
   ],
   "source": [
    "en_kmeans_sep = pd.DataFrame(columns=['Clusters', 'Nouns', 'link', 'node'], index=[])\n",
    "counter = 0\n",
    "from tqdm import tqdm\n",
    "for i in tqdm(range(len(en_kmeans))):\n",
    "    dff = en_kmeans.iloc[i].copy()\n",
    "    dff = pd.DataFrame(data={'link':[dff['link']], 'node':[dff['node']], 'Nouns':[dff['Nouns']],\n",
    "                             'Clusters':[dff['Clusters']]})\n",
    "    dff.index = [i]\n",
    "    clusters = dff['Clusters'].values[0]\n",
    "    for j in range(len(clusters)):\n",
    "            dff1 = dff.copy()\n",
    "            dff1['Clusters'] = [clusters[j]]\n",
    "            en_kmeans_sep = en_kmeans_sep.append(dff1)\n",
    "            counter += 1\n",
    "en_kmeans_sep.head(10)"
   ]
  },
  {
   "cell_type": "code",
   "execution_count": 703,
   "metadata": {},
   "outputs": [
    {
     "name": "stderr",
     "output_type": "stream",
     "text": [
      "100%|████████████████████████████████████████████████████████████████████████| 131134/131134 [1:59:01<00:00,  6.22it/s]\n"
     ]
    },
    {
     "data": {
      "text/html": [
       "<div>\n",
       "<style scoped>\n",
       "    .dataframe tbody tr th:only-of-type {\n",
       "        vertical-align: middle;\n",
       "    }\n",
       "\n",
       "    .dataframe tbody tr th {\n",
       "        vertical-align: top;\n",
       "    }\n",
       "\n",
       "    .dataframe thead th {\n",
       "        text-align: right;\n",
       "    }\n",
       "</style>\n",
       "<table border=\"1\" class=\"dataframe\">\n",
       "  <thead>\n",
       "    <tr style=\"text-align: right;\">\n",
       "      <th></th>\n",
       "      <th>Clusters</th>\n",
       "      <th>Nouns</th>\n",
       "      <th>link</th>\n",
       "      <th>node</th>\n",
       "    </tr>\n",
       "  </thead>\n",
       "  <tbody>\n",
       "    <tr>\n",
       "      <th>1</th>\n",
       "      <td>2263</td>\n",
       "      <td>aiamõõbel lossipargi stiilis</td>\n",
       "      <td>&lt;https::www.paradiis.ee::/et/128-kampaania::p=...</td>\n",
       "      <td>noded2b1c726cca5417aadf2c82e333d51b6</td>\n",
       "    </tr>\n",
       "    <tr>\n",
       "      <th>1</th>\n",
       "      <td>25243</td>\n",
       "      <td>aiamõõbel lossipargi stiilis</td>\n",
       "      <td>&lt;https::www.paradiis.ee::/et/128-kampaania::p=...</td>\n",
       "      <td>noded2b1c726cca5417aadf2c82e333d51b6</td>\n",
       "    </tr>\n",
       "    <tr>\n",
       "      <th>1</th>\n",
       "      <td>23157</td>\n",
       "      <td>aiamõõbel lossipargi stiilis</td>\n",
       "      <td>&lt;https::www.paradiis.ee::/et/128-kampaania::p=...</td>\n",
       "      <td>noded2b1c726cca5417aadf2c82e333d51b6</td>\n",
       "    </tr>\n",
       "    <tr>\n",
       "      <th>2</th>\n",
       "      <td>28252</td>\n",
       "      <td>alumiiniumtoru läbimõõt uaudcm udclemised toru...</td>\n",
       "      <td>&lt;https::aiakaubad.ee::/84-telgid::null::201708...</td>\n",
       "      <td>nodeaeeb8b6ba62b6f3fd2eafc75ce1f36c</td>\n",
       "    </tr>\n",
       "    <tr>\n",
       "      <th>2</th>\n",
       "      <td>18535</td>\n",
       "      <td>alumiiniumtoru läbimõõt uaudcm udclemised toru...</td>\n",
       "      <td>&lt;https::aiakaubad.ee::/84-telgid::null::201708...</td>\n",
       "      <td>nodeaeeb8b6ba62b6f3fd2eafc75ce1f36c</td>\n",
       "    </tr>\n",
       "    <tr>\n",
       "      <th>2</th>\n",
       "      <td>31967</td>\n",
       "      <td>alumiiniumtoru läbimõõt uaudcm udclemised toru...</td>\n",
       "      <td>&lt;https::aiakaubad.ee::/84-telgid::null::201708...</td>\n",
       "      <td>nodeaeeb8b6ba62b6f3fd2eafc75ce1f36c</td>\n",
       "    </tr>\n",
       "    <tr>\n",
       "      <th>2</th>\n",
       "      <td>22936</td>\n",
       "      <td>alumiiniumtoru läbimõõt uaudcm udclemised toru...</td>\n",
       "      <td>&lt;https::aiakaubad.ee::/84-telgid::null::201708...</td>\n",
       "      <td>nodeaeeb8b6ba62b6f3fd2eafc75ce1f36c</td>\n",
       "    </tr>\n",
       "    <tr>\n",
       "      <th>3</th>\n",
       "      <td>2105</td>\n",
       "      <td>sensoriga armukuul treening lelu aru lihased t...</td>\n",
       "      <td>&lt;https::vibes.ee::/et/13-vibraatorid::null::20...</td>\n",
       "      <td>node38302f399536504988c1d1b4703df497</td>\n",
       "    </tr>\n",
       "    <tr>\n",
       "      <th>3</th>\n",
       "      <td>21180</td>\n",
       "      <td>sensoriga armukuul treening lelu aru lihased t...</td>\n",
       "      <td>&lt;https::vibes.ee::/et/13-vibraatorid::null::20...</td>\n",
       "      <td>node38302f399536504988c1d1b4703df497</td>\n",
       "    </tr>\n",
       "    <tr>\n",
       "      <th>3</th>\n",
       "      <td>12182</td>\n",
       "      <td>sensoriga armukuul treening lelu aru lihased t...</td>\n",
       "      <td>&lt;https::vibes.ee::/et/13-vibraatorid::null::20...</td>\n",
       "      <td>node38302f399536504988c1d1b4703df497</td>\n",
       "    </tr>\n",
       "  </tbody>\n",
       "</table>\n",
       "</div>"
      ],
      "text/plain": [
       "  Clusters                                              Nouns  \\\n",
       "1     2263                       aiamõõbel lossipargi stiilis   \n",
       "1    25243                       aiamõõbel lossipargi stiilis   \n",
       "1    23157                       aiamõõbel lossipargi stiilis   \n",
       "2    28252  alumiiniumtoru läbimõõt uaudcm udclemised toru...   \n",
       "2    18535  alumiiniumtoru läbimõõt uaudcm udclemised toru...   \n",
       "2    31967  alumiiniumtoru läbimõõt uaudcm udclemised toru...   \n",
       "2    22936  alumiiniumtoru läbimõõt uaudcm udclemised toru...   \n",
       "3     2105  sensoriga armukuul treening lelu aru lihased t...   \n",
       "3    21180  sensoriga armukuul treening lelu aru lihased t...   \n",
       "3    12182  sensoriga armukuul treening lelu aru lihased t...   \n",
       "\n",
       "                                                link  \\\n",
       "1  <https::www.paradiis.ee::/et/128-kampaania::p=...   \n",
       "1  <https::www.paradiis.ee::/et/128-kampaania::p=...   \n",
       "1  <https::www.paradiis.ee::/et/128-kampaania::p=...   \n",
       "2  <https::aiakaubad.ee::/84-telgid::null::201708...   \n",
       "2  <https::aiakaubad.ee::/84-telgid::null::201708...   \n",
       "2  <https::aiakaubad.ee::/84-telgid::null::201708...   \n",
       "2  <https::aiakaubad.ee::/84-telgid::null::201708...   \n",
       "3  <https::vibes.ee::/et/13-vibraatorid::null::20...   \n",
       "3  <https::vibes.ee::/et/13-vibraatorid::null::20...   \n",
       "3  <https::vibes.ee::/et/13-vibraatorid::null::20...   \n",
       "\n",
       "                                   node  \n",
       "1  noded2b1c726cca5417aadf2c82e333d51b6  \n",
       "1  noded2b1c726cca5417aadf2c82e333d51b6  \n",
       "1  noded2b1c726cca5417aadf2c82e333d51b6  \n",
       "2   nodeaeeb8b6ba62b6f3fd2eafc75ce1f36c  \n",
       "2   nodeaeeb8b6ba62b6f3fd2eafc75ce1f36c  \n",
       "2   nodeaeeb8b6ba62b6f3fd2eafc75ce1f36c  \n",
       "2   nodeaeeb8b6ba62b6f3fd2eafc75ce1f36c  \n",
       "3  node38302f399536504988c1d1b4703df497  \n",
       "3  node38302f399536504988c1d1b4703df497  \n",
       "3  node38302f399536504988c1d1b4703df497  "
      ]
     },
     "execution_count": 703,
     "metadata": {},
     "output_type": "execute_result"
    }
   ],
   "source": [
    "et_kmeans_sep = pd.DataFrame(columns=['Clusters', 'Nouns', 'link', 'node'], index=[])\n",
    "counter = 0\n",
    "from tqdm import tqdm\n",
    "for i in tqdm(range(len(et_kmeans))):\n",
    "    dff = et_kmeans.iloc[i].copy()\n",
    "    dff = pd.DataFrame(data={'link':[dff['link']], 'node':[dff['node']], 'Nouns':[dff['Nouns']],\n",
    "                             'Clusters':[dff['Clusters']]})\n",
    "    dff.index = [i]\n",
    "    clusters = dff['Clusters'].values[0]\n",
    "    for j in range(len(clusters)):\n",
    "            dff1 = dff.copy()\n",
    "            dff1['Clusters'] = [clusters[j]]\n",
    "            et_kmeans_sep = et_kmeans_sep.append(dff1)\n",
    "            counter += 1\n",
    "et_kmeans_sep.head(10)"
   ]
  },
  {
   "cell_type": "code",
   "execution_count": 704,
   "metadata": {},
   "outputs": [],
   "source": [
    "en_kmeans_sep.index = np.arange(len(en_kmeans_sep))\n",
    "et_kmeans_sep.index = np.arange(len(et_kmeans_sep))\n",
    "en_kmeans_sep.to_csv('en_kmeans_sep.csv')\n",
    "et_kmeans_sep.to_csv('et_kmeans_sep.csv')"
   ]
  },
  {
   "cell_type": "code",
   "execution_count": 11,
   "metadata": {},
   "outputs": [],
   "source": [
    "en_kmeans_sep = pd.read_csv('en_kmeans_sep.csv')\n",
    "et_kmeans_sep = pd.read_csv('et_kmeans_sep.csv')\n",
    "del en_kmeans_sep['Unnamed: 0']\n",
    "del et_kmeans_sep['Unnamed: 0']"
   ]
  },
  {
   "cell_type": "code",
   "execution_count": 12,
   "metadata": {},
   "outputs": [
    {
     "data": {
      "text/html": [
       "<div>\n",
       "<style scoped>\n",
       "    .dataframe tbody tr th:only-of-type {\n",
       "        vertical-align: middle;\n",
       "    }\n",
       "\n",
       "    .dataframe tbody tr th {\n",
       "        vertical-align: top;\n",
       "    }\n",
       "\n",
       "    .dataframe thead th {\n",
       "        text-align: right;\n",
       "    }\n",
       "</style>\n",
       "<table border=\"1\" class=\"dataframe\">\n",
       "  <thead>\n",
       "    <tr style=\"text-align: right;\">\n",
       "      <th></th>\n",
       "      <th>Clusters</th>\n",
       "      <th>Nouns</th>\n",
       "      <th>link</th>\n",
       "      <th>node</th>\n",
       "    </tr>\n",
       "  </thead>\n",
       "  <tbody>\n",
       "    <tr>\n",
       "      <th>0</th>\n",
       "      <td>9833</td>\n",
       "      <td>akrüülvärv stroke phthalo green ml</td>\n",
       "      <td>&lt;https::nailin.ee::/et/27-akruulvarvid::null::...</td>\n",
       "      <td>node517e8478b3641044f1e2e2bbc31afa</td>\n",
       "    </tr>\n",
       "    <tr>\n",
       "      <th>1</th>\n",
       "      <td>14957</td>\n",
       "      <td>akrüülvärv stroke phthalo green ml</td>\n",
       "      <td>&lt;https::nailin.ee::/et/27-akruulvarvid::null::...</td>\n",
       "      <td>node517e8478b3641044f1e2e2bbc31afa</td>\n",
       "    </tr>\n",
       "    <tr>\n",
       "      <th>2</th>\n",
       "      <td>12269</td>\n",
       "      <td>akrüülvärv stroke phthalo green ml</td>\n",
       "      <td>&lt;https::nailin.ee::/et/27-akruulvarvid::null::...</td>\n",
       "      <td>node517e8478b3641044f1e2e2bbc31afa</td>\n",
       "    </tr>\n",
       "    <tr>\n",
       "      <th>3</th>\n",
       "      <td>2159</td>\n",
       "      <td>akrüülvärv stroke phthalo green ml</td>\n",
       "      <td>&lt;https::nailin.ee::/et/27-akruulvarvid::null::...</td>\n",
       "      <td>node517e8478b3641044f1e2e2bbc31afa</td>\n",
       "    </tr>\n",
       "    <tr>\n",
       "      <th>4</th>\n",
       "      <td>30916</td>\n",
       "      <td>winter rod akara legend</td>\n",
       "      <td>&lt;http::www.kalastussport.ee::/136-taliridvad::...</td>\n",
       "      <td>nodef5d0383018d768c2279c3541adc8f1a</td>\n",
       "    </tr>\n",
       "  </tbody>\n",
       "</table>\n",
       "</div>"
      ],
      "text/plain": [
       "   Clusters                               Nouns  \\\n",
       "0      9833  akrüülvärv stroke phthalo green ml   \n",
       "1     14957  akrüülvärv stroke phthalo green ml   \n",
       "2     12269  akrüülvärv stroke phthalo green ml   \n",
       "3      2159  akrüülvärv stroke phthalo green ml   \n",
       "4     30916             winter rod akara legend   \n",
       "\n",
       "                                                link  \\\n",
       "0  <https::nailin.ee::/et/27-akruulvarvid::null::...   \n",
       "1  <https::nailin.ee::/et/27-akruulvarvid::null::...   \n",
       "2  <https::nailin.ee::/et/27-akruulvarvid::null::...   \n",
       "3  <https::nailin.ee::/et/27-akruulvarvid::null::...   \n",
       "4  <http::www.kalastussport.ee::/136-taliridvad::...   \n",
       "\n",
       "                                  node  \n",
       "0   node517e8478b3641044f1e2e2bbc31afa  \n",
       "1   node517e8478b3641044f1e2e2bbc31afa  \n",
       "2   node517e8478b3641044f1e2e2bbc31afa  \n",
       "3   node517e8478b3641044f1e2e2bbc31afa  \n",
       "4  nodef5d0383018d768c2279c3541adc8f1a  "
      ]
     },
     "execution_count": 12,
     "metadata": {},
     "output_type": "execute_result"
    }
   ],
   "source": [
    "en_kmeans_sep.head()"
   ]
  },
  {
   "cell_type": "code",
   "execution_count": 755,
   "metadata": {},
   "outputs": [
    {
     "name": "stdout",
     "output_type": "stream",
     "text": [
      "vertices: 6\n",
      "edges: 10\n"
     ]
    }
   ],
   "source": [
    "i = 7000\n",
    "sample = en_kmeans_sep[(en_kmeans_sep.Clusters == str(i)) & (en_kmeans_sep.link.isin(en_kmeans_sep.link[en_kmeans_sep.Clusters == str(i)][3:8]))]\n",
    "g_en_kmeans_sep = create_graph(sample, 'Clusters')\n",
    "print(\"vertices: %d\" % len(g_en_kmeans_sep.vs))\n",
    "print(\"edges: %d\" % len(g_en_kmeans_sep.es))"
   ]
  },
  {
   "cell_type": "code",
   "execution_count": 758,
   "metadata": {},
   "outputs": [],
   "source": [
    "layout = g_en_kmeans_sep.layout(\"kk\")\n",
    "color_dict = {\"C\": \"blue\", \"P\": \"red\"} \n",
    "g_en_kmeans_sep.vs[\"labels\"] = g_en_kmeans_sep.vs[\"names\"]\n",
    "g_en_kmeans_sep.vs[\"color\"] = [color_dict[type_v[0]] for type_v in g_en_kmeans_sep.vs[\"type\"]]\n",
    "visual_style = {}\n",
    "visual_style[\"edge_width\"] = [1 if cluster == 'common' else 3 for cluster in g_en_kmeans_sep.es[\"relantion\"]]\n",
    "visual_style[\"vertex_size\"] = 30\n",
    "visual_style[\"vertex_label\"] = g_en_kmeans_sep.vs[\"names\"]\n",
    "visual_style[\"layout\"] = layout\n",
    "visual_style[\"bbox\"] = (600, 600)\n",
    "visual_style[\"vertex_label_dist\"] = 2\n",
    "visual_style[\"vertex_label_angle\"] = 1\n",
    "visual_style[\"margin\"] = 100\n",
    "out = plot(g_en_kmeans_sep, **visual_style)\n",
    "out.save('Graph_en_kmeans_7000.png')"
   ]
  },
  {
   "cell_type": "code",
   "execution_count": 834,
   "metadata": {},
   "outputs": [
    {
     "name": "stderr",
     "output_type": "stream",
     "text": [
      "C:\\Users\\Olha\\Anaconda3\\lib\\site-packages\\ipykernel_launcher.py:4: SettingWithCopyWarning: \n",
      "A value is trying to be set on a copy of a slice from a DataFrame.\n",
      "Try using .loc[row_indexer,col_indexer] = value instead\n",
      "\n",
      "See the caveats in the documentation: http://pandas.pydata.org/pandas-docs/stable/indexing.html#indexing-view-versus-copy\n",
      "  after removing the cwd from sys.path.\n"
     ]
    },
    {
     "name": "stdout",
     "output_type": "stream",
     "text": [
      "vertices: 6\n",
      "edges: 6\n"
     ]
    }
   ],
   "source": [
    "i = 6702\n",
    "sample = et_kmeans_sep[(et_kmeans_sep.Clusters == str(i)) & \n",
    "                       (et_kmeans_sep.link.isin(et_kmeans_sep.link[et_kmeans_sep.Clusters == str(i)][:6]))]\n",
    "sample['Nouns'] = sample['Nouns'].apply(lambda x: ' '.join(x.split(' ')[:6]))\n",
    "g_et_kmeans_sep = create_graph(sample, 'Clusters')\n",
    "print(\"vertices: %d\" % len(g_et_kmeans_sep.vs))\n",
    "print(\"edges: %d\" % len(g_et_kmeans_sep.es))"
   ]
  },
  {
   "cell_type": "code",
   "execution_count": 836,
   "metadata": {},
   "outputs": [],
   "source": [
    "layout = g_et_kmeans_sep.layout(\"kk\")\n",
    "color_dict = {\"C\": \"blue\", \"P\": \"red\"} \n",
    "g_et_kmeans_sep.vs[\"labels\"] = g_et_kmeans_sep.vs[\"names\"]\n",
    "g_et_kmeans_sep.vs[\"color\"] = [color_dict[type_v[0]] for type_v in g_et_kmeans_sep.vs[\"type\"]]\n",
    "visual_style = {}\n",
    "visual_style[\"edge_width\"] = [1 if cluster == 'common' else 3 for cluster in g_et_kmeans_sep.es[\"relantion\"]]\n",
    "visual_style[\"vertex_size\"] = 30\n",
    "visual_style[\"vertex_label\"] = g_et_kmeans_sep.vs[\"names\"]\n",
    "visual_style[\"layout\"] = layout\n",
    "visual_style[\"bbox\"] = (600, 600)\n",
    "visual_style[\"vertex_label_dist\"] = 2\n",
    "visual_style[\"vertex_label_angle\"] = 1\n",
    "visual_style[\"margin\"] = 100\n",
    "out = plot(g_et_kmeans_sep, **visual_style)\n",
    "out.save('Graph_et_kmeans_6702.png')"
   ]
  },
  {
   "cell_type": "code",
   "execution_count": 720,
   "metadata": {},
   "outputs": [
    {
     "data": {
      "text/plain": [
       "30536"
      ]
     },
     "execution_count": 720,
     "metadata": {},
     "output_type": "execute_result"
    }
   ],
   "source": [
    "len(list(set(en_kmeans_sep.Clusters)))"
   ]
  },
  {
   "cell_type": "code",
   "execution_count": 721,
   "metadata": {},
   "outputs": [
    {
     "data": {
      "text/plain": [
       "31089"
      ]
     },
     "execution_count": 721,
     "metadata": {},
     "output_type": "execute_result"
    }
   ],
   "source": [
    "len(list(set(et_kmeans_sep.Clusters)))"
   ]
  },
  {
   "cell_type": "code",
   "execution_count": 709,
   "metadata": {},
   "outputs": [
    {
     "name": "stdout",
     "output_type": "stream",
     "text": [
      "\n",
      "Measurements for EN data, keywords obtained with KMeansF\n",
      "\n",
      "All companies have connections to some other companies.\n",
      "Average number of products per company:  228.32133333333334\n",
      "Minimal number of products in clusters:  1\n",
      "Average number of products per cluster:  18.9149528425465\n",
      "Maximum number of products in clusters:  13932\n",
      "Total number of companies:  750\n",
      "Number of connections amoung products:  340468854\n"
     ]
    }
   ],
   "source": [
    "print(\"\\nMeasurements for EN data, keywords obtained with KMeans\\n\")\n",
    "companies_en_kmeans, comp_prod_en_kmeans, clust_comp_en_kmeans, clust_prod_en_kmeans, sum_conn_prod_en_kmeans = measurments(en_kmeans_sep, 'Clusters', True)"
   ]
  },
  {
   "cell_type": "code",
   "execution_count": 710,
   "metadata": {},
   "outputs": [
    {
     "name": "stdout",
     "output_type": "stream",
     "text": [
      "\n",
      "Measurements for ET data, keywords obtained with KMeans\n",
      "\n",
      "All companies have connections to some other companies.\n",
      "Average number of products per company:  227.26070038910507\n",
      "Minimal number of products in clusters:  1\n",
      "Average number of products per cluster:  13.182122294058992\n",
      "Maximum number of products in clusters:  2733\n",
      "Total number of companies:  514\n",
      "Number of connections amoung products:  44550814\n"
     ]
    }
   ],
   "source": [
    "print(\"\\nMeasurements for ET data, keywords obtained with KMeans\\n\")\n",
    "companies_et_kmeans, comp_prod_et_kmeans, clust_comp_et_kmeans, clust_prod_et_kmeans, sum_conn_prod_et_kmeans = measurments(et_kmeans_sep, 'Clusters', True)"
   ]
  },
  {
   "cell_type": "code",
   "execution_count": 13,
   "metadata": {},
   "outputs": [],
   "source": [
    "# Load data\n",
    "\n",
    "en_dbscan = pd.read_csv('Results/en_data_dbscan.csv', index_col=None)\n",
    "et_dbscan = pd.read_csv('Results/et_data_dbscan.csv', index_col=None)\n",
    "en_dbscan = clean_df(en_dbscan, ['text_join'])\n",
    "et_dbscan = clean_df(et_dbscan, ['text_join'])\n",
    "en_dbscan['Nouns'] = en_dbscan['Nouns'].apply(rewrite_est)\n",
    "et_dbscan['Nouns'] = et_dbscan['Nouns'].apply(rewrite_est)"
   ]
  },
  {
   "cell_type": "code",
   "execution_count": 14,
   "metadata": {},
   "outputs": [],
   "source": [
    "en_dbscan_noise = en_dbscan[en_dbscan.Cluster == -1]\n",
    "en_dbscan = en_dbscan[en_dbscan.Cluster != -1]"
   ]
  },
  {
   "cell_type": "code",
   "execution_count": 16,
   "metadata": {},
   "outputs": [
    {
     "data": {
      "text/html": [
       "<div>\n",
       "<style scoped>\n",
       "    .dataframe tbody tr th:only-of-type {\n",
       "        vertical-align: middle;\n",
       "    }\n",
       "\n",
       "    .dataframe tbody tr th {\n",
       "        vertical-align: top;\n",
       "    }\n",
       "\n",
       "    .dataframe thead th {\n",
       "        text-align: right;\n",
       "    }\n",
       "</style>\n",
       "<table border=\"1\" class=\"dataframe\">\n",
       "  <thead>\n",
       "    <tr style=\"text-align: right;\">\n",
       "      <th></th>\n",
       "      <th>link</th>\n",
       "      <th>node</th>\n",
       "      <th>Nouns</th>\n",
       "      <th>Cluster</th>\n",
       "    </tr>\n",
       "  </thead>\n",
       "  <tbody>\n",
       "    <tr>\n",
       "      <th>0</th>\n",
       "      <td>&lt;https::nailin.ee::/et/27-akruulvarvid::null::...</td>\n",
       "      <td>node517e8478b3641044f1e2e2bbc31afa</td>\n",
       "      <td>akrüülvärv stroke phthalo green ml</td>\n",
       "      <td>0</td>\n",
       "    </tr>\n",
       "    <tr>\n",
       "      <th>1</th>\n",
       "      <td>&lt;http::www.kalastussport.ee::/136-taliridvad::...</td>\n",
       "      <td>nodef5d0383018d768c2279c3541adc8f1a</td>\n",
       "      <td>winter rod akara legend</td>\n",
       "      <td>271</td>\n",
       "    </tr>\n",
       "    <tr>\n",
       "      <th>4</th>\n",
       "      <td>&lt;http::www.ittgroup.ee::/en/38-prototyping-and...</td>\n",
       "      <td>node3f349ca61d31b5f8c6bfe56bdb8081</td>\n",
       "      <td>power charger va</td>\n",
       "      <td>16</td>\n",
       "    </tr>\n",
       "    <tr>\n",
       "      <th>6</th>\n",
       "      <td>&lt;http::www.ittgroup.ee::/en/25-micrcontroller-...</td>\n",
       "      <td>nodeefb1bbc8c8a29d4d2b11b41512c3a</td>\n",
       "      <td>pisixbee atxmegaau board</td>\n",
       "      <td>1</td>\n",
       "    </tr>\n",
       "    <tr>\n",
       "      <th>7</th>\n",
       "      <td>&lt;https::valnes.ee::/tooted/en/141-doorphones::...</td>\n",
       "      <td>node6468abd594ffd213895d25a99d6f1eb</td>\n",
       "      <td>unit fodtd</td>\n",
       "      <td>2</td>\n",
       "    </tr>\n",
       "  </tbody>\n",
       "</table>\n",
       "</div>"
      ],
      "text/plain": [
       "                                                link  \\\n",
       "0  <https::nailin.ee::/et/27-akruulvarvid::null::...   \n",
       "1  <http::www.kalastussport.ee::/136-taliridvad::...   \n",
       "4  <http::www.ittgroup.ee::/en/38-prototyping-and...   \n",
       "6  <http::www.ittgroup.ee::/en/25-micrcontroller-...   \n",
       "7  <https::valnes.ee::/tooted/en/141-doorphones::...   \n",
       "\n",
       "                                  node                               Nouns  \\\n",
       "0   node517e8478b3641044f1e2e2bbc31afa  akrüülvärv stroke phthalo green ml   \n",
       "1  nodef5d0383018d768c2279c3541adc8f1a             winter rod akara legend   \n",
       "4   node3f349ca61d31b5f8c6bfe56bdb8081                    power charger va   \n",
       "6    nodeefb1bbc8c8a29d4d2b11b41512c3a            pisixbee atxmegaau board   \n",
       "7  node6468abd594ffd213895d25a99d6f1eb                          unit fodtd   \n",
       "\n",
       "   Cluster  \n",
       "0        0  \n",
       "1      271  \n",
       "4       16  \n",
       "6        1  \n",
       "7        2  "
      ]
     },
     "execution_count": 16,
     "metadata": {},
     "output_type": "execute_result"
    }
   ],
   "source": [
    "en_dbscan.head()"
   ]
  },
  {
   "cell_type": "code",
   "execution_count": 845,
   "metadata": {},
   "outputs": [],
   "source": [
    "et_dbscan_noise = et_dbscan[et_dbscan.Cluster == -1]\n",
    "et_dbscan = et_dbscan[et_dbscan.Cluster != -1]"
   ]
  },
  {
   "cell_type": "code",
   "execution_count": 847,
   "metadata": {},
   "outputs": [
    {
     "data": {
      "text/html": [
       "<div>\n",
       "<style scoped>\n",
       "    .dataframe tbody tr th:only-of-type {\n",
       "        vertical-align: middle;\n",
       "    }\n",
       "\n",
       "    .dataframe tbody tr th {\n",
       "        vertical-align: top;\n",
       "    }\n",
       "\n",
       "    .dataframe thead th {\n",
       "        text-align: right;\n",
       "    }\n",
       "</style>\n",
       "<table border=\"1\" class=\"dataframe\">\n",
       "  <thead>\n",
       "    <tr style=\"text-align: right;\">\n",
       "      <th></th>\n",
       "      <th>link</th>\n",
       "      <th>node</th>\n",
       "      <th>Nouns</th>\n",
       "      <th>Cluster</th>\n",
       "    </tr>\n",
       "  </thead>\n",
       "  <tbody>\n",
       "    <tr>\n",
       "      <th>0</th>\n",
       "      <td>&lt;http::tamberi.eu::/73-ehtekaardid::null::2017...</td>\n",
       "      <td>node6883b5caa683772129c48f93ac5e99</td>\n",
       "      <td>ehtekaart</td>\n",
       "      <td>-1</td>\n",
       "    </tr>\n",
       "    <tr>\n",
       "      <th>1</th>\n",
       "      <td>&lt;https::www.paradiis.ee::/et/128-kampaania::p=...</td>\n",
       "      <td>noded2b1c726cca5417aadf2c82e333d51b6</td>\n",
       "      <td>aiamõõbel lossipargi stiilis</td>\n",
       "      <td>-1</td>\n",
       "    </tr>\n",
       "    <tr>\n",
       "      <th>5</th>\n",
       "      <td>&lt;http::pood.iluraviteenused.ee::/index.php::nu...</td>\n",
       "      <td>nodeb4a66a283a8b726fcec341cf9ea3d5</td>\n",
       "      <td>lihvivaduakaks kordauakiiremini tavaviilistuan...</td>\n",
       "      <td>-1</td>\n",
       "    </tr>\n",
       "    <tr>\n",
       "      <th>8</th>\n",
       "      <td>&lt;https::aiakaubad.ee::/::null::20170818012808</td>\n",
       "      <td>node211b954fa8bf46e912baeb731c4fb5</td>\n",
       "      <td>mõõblikomplekt elegante komplekti tugitool käe...</td>\n",
       "      <td>-1</td>\n",
       "    </tr>\n",
       "    <tr>\n",
       "      <th>11</th>\n",
       "      <td>&lt;http::www.ittgroup.ee::/et/31-muundurid::null...</td>\n",
       "      <td>nodebb5eea77650e9f6b53720c261c6f2b7</td>\n",
       "      <td>mikro kaardi moodul</td>\n",
       "      <td>-1</td>\n",
       "    </tr>\n",
       "  </tbody>\n",
       "</table>\n",
       "</div>"
      ],
      "text/plain": [
       "                                                 link  \\\n",
       "0   <http::tamberi.eu::/73-ehtekaardid::null::2017...   \n",
       "1   <https::www.paradiis.ee::/et/128-kampaania::p=...   \n",
       "5   <http::pood.iluraviteenused.ee::/index.php::nu...   \n",
       "8       <https::aiakaubad.ee::/::null::20170818012808   \n",
       "11  <http::www.ittgroup.ee::/et/31-muundurid::null...   \n",
       "\n",
       "                                    node  \\\n",
       "0     node6883b5caa683772129c48f93ac5e99   \n",
       "1   noded2b1c726cca5417aadf2c82e333d51b6   \n",
       "5     nodeb4a66a283a8b726fcec341cf9ea3d5   \n",
       "8     node211b954fa8bf46e912baeb731c4fb5   \n",
       "11   nodebb5eea77650e9f6b53720c261c6f2b7   \n",
       "\n",
       "                                                Nouns  Cluster  \n",
       "0                                           ehtekaart       -1  \n",
       "1                        aiamõõbel lossipargi stiilis       -1  \n",
       "5   lihvivaduakaks kordauakiiremini tavaviilistuan...       -1  \n",
       "8   mõõblikomplekt elegante komplekti tugitool käe...       -1  \n",
       "11                                mikro kaardi moodul       -1  "
      ]
     },
     "execution_count": 847,
     "metadata": {},
     "output_type": "execute_result"
    }
   ],
   "source": [
    "et_dbscan_noise.head()"
   ]
  },
  {
   "cell_type": "code",
   "execution_count": 858,
   "metadata": {},
   "outputs": [
    {
     "data": {
      "text/plain": [
       "626"
      ]
     },
     "execution_count": 858,
     "metadata": {},
     "output_type": "execute_result"
    }
   ],
   "source": [
    "len(list(set(en_dbscan.Cluster)))"
   ]
  },
  {
   "cell_type": "code",
   "execution_count": 859,
   "metadata": {},
   "outputs": [
    {
     "data": {
      "text/plain": [
       "472"
      ]
     },
     "execution_count": 859,
     "metadata": {},
     "output_type": "execute_result"
    }
   ],
   "source": [
    "len(list(set(et_dbscan.Cluster)))"
   ]
  },
  {
   "cell_type": "code",
   "execution_count": 937,
   "metadata": {},
   "outputs": [
    {
     "name": "stdout",
     "output_type": "stream",
     "text": [
      "vertices: 6\n",
      "edges: 15\n"
     ]
    }
   ],
   "source": [
    "i = -1\n",
    "sample = en_dbscan_noise[(en_dbscan_noise.Cluster == i) & (en_dbscan_noise.link.isin(en_dbscan_noise.link[en_dbscan_noise.Cluster == i][8:9]))]\n",
    "g_en_dbscan_noise = create_graph(sample, 'Cluster')\n",
    "print(\"vertices: %d\" % len(g_en_dbscan_noise.vs))\n",
    "print(\"edges: %d\" % len(g_en_dbscan_noise.es))"
   ]
  },
  {
   "cell_type": "code",
   "execution_count": 941,
   "metadata": {},
   "outputs": [],
   "source": [
    "layout = g_en_dbscan_noise.layout(\"kk\")\n",
    "color_dict = {\"C\": \"blue\", \"P\": \"red\"} \n",
    "g_en_dbscan_noise.vs[\"labels\"] = g_en_dbscan_noise.vs[\"names\"]\n",
    "g_en_dbscan_noise.vs[\"color\"] = [color_dict[type_v[0]] for type_v in g_en_dbscan_noise.vs[\"type\"]]\n",
    "visual_style = {}\n",
    "visual_style[\"edge_width\"] = [0 if cluster == 'common' else 3 for cluster in g_en_dbscan_noise.es[\"relantion\"]]\n",
    "visual_style[\"vertex_size\"] = 30\n",
    "visual_style[\"vertex_label\"] = g_en_dbscan_noise.vs[\"names\"]\n",
    "visual_style[\"layout\"] = layout\n",
    "visual_style[\"bbox\"] = (600, 600)\n",
    "visual_style[\"vertex_label_dist\"] = 2\n",
    "visual_style[\"vertex_label_angle\"] = 1\n",
    "visual_style[\"margin\"] = 100\n",
    "out = plot(g_en_dbscan_noise, **visual_style)\n",
    "out.save('Graph_en_dbscan_noise.png')"
   ]
  },
  {
   "cell_type": "code",
   "execution_count": 891,
   "metadata": {},
   "outputs": [
    {
     "name": "stdout",
     "output_type": "stream",
     "text": [
      "vertices: 6\n",
      "edges: 10\n"
     ]
    }
   ],
   "source": [
    "i = 109\n",
    "sample = en_dbscan[(en_dbscan.Cluster == i) & (en_dbscan.link.isin(en_dbscan.link[en_dbscan.Cluster == i][3:6]))]\n",
    "g_en_dbscan = create_graph(sample, 'Cluster')\n",
    "print(\"vertices: %d\" % len(g_en_dbscan.vs))\n",
    "print(\"edges: %d\" % len(g_en_dbscan.es))"
   ]
  },
  {
   "cell_type": "code",
   "execution_count": 896,
   "metadata": {},
   "outputs": [],
   "source": [
    "layout = g_en_dbscan.layout(\"kk\")\n",
    "color_dict = {\"C\": \"blue\", \"P\": \"red\"} \n",
    "g_en_dbscan.vs[\"labels\"] = g_en_dbscan.vs[\"names\"]\n",
    "g_en_dbscan.vs[\"color\"] = [color_dict[type_v[0]] for type_v in g_en_dbscan.vs[\"type\"]]\n",
    "visual_style = {}\n",
    "visual_style[\"edge_width\"] = [1 if cluster == 'common' else 3 for cluster in g_en_dbscan.es[\"relantion\"]]\n",
    "visual_style[\"vertex_size\"] = 30\n",
    "visual_style[\"vertex_label\"] = g_en_dbscan.vs[\"names\"]\n",
    "visual_style[\"layout\"] = layout\n",
    "visual_style[\"bbox\"] = (600, 600)\n",
    "visual_style[\"vertex_label_dist\"] = 2\n",
    "visual_style[\"vertex_label_angle\"] = 1\n",
    "visual_style[\"margin\"] = 100\n",
    "out = plot(g_en_dbscan, **visual_style)\n",
    "# wallpapers and nai gel\n",
    "out.save('Graph_en_dbscan_109.png')"
   ]
  },
  {
   "cell_type": "code",
   "execution_count": 950,
   "metadata": {},
   "outputs": [
    {
     "name": "stdout",
     "output_type": "stream",
     "text": [
      "vertices: 5\n",
      "edges: 10\n"
     ]
    }
   ],
   "source": [
    "i = -1\n",
    "sample = et_dbscan_noise[(et_dbscan_noise.Cluster == i) & (et_dbscan_noise.link.isin(et_dbscan_noise.link[et_dbscan_noise.Cluster == i][4:5]))]\n",
    "g_et_dbscan_noise = create_graph(sample, 'Cluster')\n",
    "print(\"vertices: %d\" % len(g_et_dbscan_noise.vs))\n",
    "print(\"edges: %d\" % len(g_et_dbscan_noise.es))"
   ]
  },
  {
   "cell_type": "code",
   "execution_count": 953,
   "metadata": {},
   "outputs": [],
   "source": [
    "layout = g_et_dbscan_noise.layout(\"kk\")\n",
    "color_dict = {\"C\": \"blue\", \"P\": \"red\"} \n",
    "g_et_dbscan_noise.vs[\"labels\"] = g_et_dbscan_noise.vs[\"names\"]\n",
    "g_et_dbscan_noise.vs[\"color\"] = [color_dict[type_v[0]] for type_v in g_et_dbscan_noise.vs[\"type\"]]\n",
    "visual_style = {}\n",
    "visual_style[\"edge_width\"] = [0 if cluster == 'common' else 3 for cluster in g_et_dbscan_noise.es[\"relantion\"]]\n",
    "visual_style[\"vertex_size\"] = 30\n",
    "visual_style[\"vertex_label\"] = g_et_dbscan_noise.vs[\"names\"]\n",
    "visual_style[\"layout\"] = layout\n",
    "visual_style[\"bbox\"] = (600, 600)\n",
    "visual_style[\"vertex_label_dist\"] = 2\n",
    "visual_style[\"vertex_label_angle\"] = 1\n",
    "visual_style[\"margin\"] = 100\n",
    "out = plot(g_et_dbscan_noise, **visual_style)\n",
    "out.save('Graph_et_dbscan_noise.png')"
   ]
  },
  {
   "cell_type": "code",
   "execution_count": 905,
   "metadata": {},
   "outputs": [
    {
     "name": "stdout",
     "output_type": "stream",
     "text": [
      "vertices: 6\n",
      "edges: 10\n"
     ]
    }
   ],
   "source": [
    "i = 35\n",
    "sample = et_dbscan[(et_dbscan.Cluster == i) & (et_dbscan.link.isin(et_dbscan.link[et_dbscan.Cluster == i][:3]))]\n",
    "g_et_dbscan = create_graph(sample, 'Cluster')\n",
    "print(\"vertices: %d\" % len(g_et_dbscan.vs))\n",
    "print(\"edges: %d\" % len(g_et_dbscan.es))"
   ]
  },
  {
   "cell_type": "code",
   "execution_count": 910,
   "metadata": {},
   "outputs": [],
   "source": [
    "layout = g_et_dbscan.layout(\"kk\")\n",
    "color_dict = {\"C\": \"blue\", \"P\": \"red\"} \n",
    "g_et_dbscan.vs[\"labels\"] = g_et_dbscan.vs[\"names\"]\n",
    "g_et_dbscan.vs[\"color\"] = [color_dict[type_v[0]] for type_v in g_et_dbscan.vs[\"type\"]]\n",
    "visual_style = {}\n",
    "visual_style[\"edge_width\"] = [1 if cluster == 'common' else 3 for cluster in g_et_dbscan.es[\"relantion\"]]\n",
    "visual_style[\"vertex_size\"] = 30\n",
    "visual_style[\"vertex_label\"] = g_et_dbscan.vs[\"names\"]\n",
    "visual_style[\"layout\"] = layout\n",
    "visual_style[\"bbox\"] = (600, 600)\n",
    "visual_style[\"vertex_label_dist\"] = 2\n",
    "visual_style[\"vertex_label_angle\"] = 1\n",
    "visual_style[\"margin\"] = 100\n",
    "out = plot(g_et_dbscan, **visual_style)\n",
    "# engines \n",
    "out.save('Graph_et_dbscan_35.png')"
   ]
  },
  {
   "cell_type": "code",
   "execution_count": 860,
   "metadata": {},
   "outputs": [
    {
     "name": "stdout",
     "output_type": "stream",
     "text": [
      "\n",
      "Measurements for EN data, clusters obtained with DBSCAN\n",
      "\n",
      "All companies have connections to some other companies.\n",
      "Average number of products per company:  113.70643939393939\n",
      "Minimal number of products in clusters:  10\n",
      "Average number of products per cluster:  95.90575079872204\n",
      "Maximum number of products in clusters:  1593\n",
      "Total number of companies:  528\n",
      "Number of connections amoung products:  6697643\n"
     ]
    }
   ],
   "source": [
    "print(\"\\nMeasurements for EN data, clusters obtained with DBSCAN\\n\")\n",
    "companies_en_dbscan, comp_prod_en_dbscan, clust_comp_en_dbscan, clust_prod_en_dbscan, sum_conn_prod_en_dbscan = measurments(en_dbscan, 'Cluster', True)"
   ]
  },
  {
   "cell_type": "code",
   "execution_count": 861,
   "metadata": {},
   "outputs": [
    {
     "name": "stdout",
     "output_type": "stream",
     "text": [
      "\n",
      "Measurements for ET data, clusters obtained with DBSCAN\n",
      "\n",
      "All companies have connections to some other companies.\n",
      "Average number of products per company:  120.84466019417475\n",
      "Minimal number of products in clusters:  12\n",
      "Average number of products per cluster:  105.48305084745763\n",
      "Maximum number of products in clusters:  7351\n",
      "Total number of companies:  412\n",
      "Number of connections amoung products:  31359084\n"
     ]
    }
   ],
   "source": [
    "print(\"\\nMeasurements for ET data, clusters obtained with DBSCAN\\n\")\n",
    "companies_et_dbscan, comp_prod_et_dbscan, clust_comp_et_dbscan, clust_prod_et_dbscan, sum_conn_prod_et_dbscan = measurments(et_dbscan, 'Cluster', True)"
   ]
  },
  {
   "cell_type": "code",
   "execution_count": 1049,
   "metadata": {},
   "outputs": [],
   "source": [
    "df_bow = {k:0 for k in list(set(en_lda.Topic_bow_index))}\n",
    "df_tfidf = {k:0 for k in list(set(en_lda.Topic_tfidf_index))}\n",
    "for k in df_bow.keys():\n",
    "    df_bow[k] = len(en_lda.Topic_bow_index[en_lda.Topic_bow_index == k])\n",
    "for k in df_tfidf.keys():\n",
    "    df_tfidf[k] = len(en_lda.Topic_tfidf_index[en_lda.Topic_tfidf_index == k])"
   ]
  },
  {
   "cell_type": "code",
   "execution_count": 1074,
   "metadata": {},
   "outputs": [
    {
     "name": "stderr",
     "output_type": "stream",
     "text": [
      "C:\\Users\\Olha\\Anaconda3\\lib\\site-packages\\matplotlib\\cbook\\deprecation.py:106: MatplotlibDeprecationWarning: Adding an axes using the same arguments as a previous axes currently reuses the earlier instance.  In a future version, a new instance will always be created and returned.  Meanwhile, this warning can be suppressed, and the future behavior ensured, by passing a unique label to each axes instance.\n",
      "  warnings.warn(message, mplDeprecation, stacklevel=1)\n"
     ]
    },
    {
     "data": {
      "text/plain": [
       "Text(0,0.5,'Amount of products')"
      ]
     },
     "execution_count": 1074,
     "metadata": {},
     "output_type": "execute_result"
    },
    {
     "data": {
      "image/png": "[encoded data removed]",
      "text/plain": [
       "<matplotlib.figure.Figure at 0x21eecc25278>"
      ]
     },
     "metadata": {},
     "output_type": "display_data"
    }
   ],
   "source": [
    "plt.plot(list(df_bow.keys()), list(df_bow.values()), label='BOW')\n",
    "plt.plot(list(df_tfidf.keys()), list(df_tfidf.values()), label='TF-IDF')\n",
    "# Plot formatting\n",
    "plt.legend(prop={'size': 16})\n",
    "ax = plt.subplot() \n",
    "for label in (ax.get_xticklabels() + ax.get_yticklabels()):\n",
    "    label.set_fontsize(16)\n",
    "plt.xlabel('Number of cluster', fontsize=18)\n",
    "plt.ylabel('Amount of products', fontsize=18)"
   ]
  },
  {
   "cell_type": "code",
   "execution_count": 1105,
   "metadata": {},
   "outputs": [
    {
     "name": "stdout",
     "output_type": "stream",
     "text": [
      "LDA BOW EN pick:  33450  in cluster  0\n"
     ]
    }
   ],
   "source": [
    "print(\"LDA BOW EN pick: \", max(list(df_bow.values())), \" in cluster \", list(df_bow.keys())[list(df_bow.values()).index(max(list(df_bow.values())))])"
   ]
  },
  {
   "cell_type": "code",
   "execution_count": 1305,
   "metadata": {
    "collapsed": true
   },
   "outputs": [
    {
     "name": "stdout",
     "output_type": "stream",
     "text": [
      "power charger va\n",
      "trillium xluais amazinguatriple hammock hardcore hammock market reinforced meters seat belt heavyduty ratchets safety stability comfort course views outdoors\n",
      "veiniriiul\n",
      "jigger mtubb horiz mm g\n",
      "micro metal gearmotor rpm\n",
      "toitepistik x mm\n",
      "bruno tvalus\n",
      "stmsdiscovery\n",
      "combino n\n",
      "marqäs sududgilaud\n",
      "lingigarnituur pult kaart mm elsvp\n",
      "muuuububuuuuuauõ kimberly\n",
      "wemos d mini li battery charger shield\n",
      "kitchenaid kthcbkitchenaid kthcb\n",
      "uuuauuduuu\n",
      "vurtu vira mm regulujama cinks valzn\n",
      "apollo hurricane cc edasi manuaal\n",
      "canne tvalus\n",
      "fanatik eatable maus ubb mm\n",
      "uuuuuuu\n"
     ]
    }
   ],
   "source": [
    "for i in range(20):\n",
    "    print(en_lda.Nouns[en_lda.Topic_bow_index == 0].iloc[i])"
   ]
  },
  {
   "cell_type": "code",
   "execution_count": 1106,
   "metadata": {},
   "outputs": [
    {
     "name": "stdout",
     "output_type": "stream",
     "text": [
      "LDA TF-IDF EN pick:  30922  in cluster  0\n"
     ]
    }
   ],
   "source": [
    "print(\"LDA TF-IDF EN pick: \", max(list(df_tfidf.values())), \" in cluster \", list(df_tfidf.keys())[list(df_tfidf.values()).index(max(list(df_tfidf.values())))])"
   ]
  },
  {
   "cell_type": "code",
   "execution_count": 1307,
   "metadata": {
    "collapsed": true
   },
   "outputs": [
    {
     "name": "stdout",
     "output_type": "stream",
     "text": [
      "akrüülvärv stroke phthalo green ml\n",
      "akrüülvärv stroke royal gold ml\n",
      "veiniriiul\n",
      "ladder ultra light ladder ultra light\n",
      "jigger mtubb horiz mm g\n",
      "toitepistik x mm\n",
      "bruno tvalus\n",
      "stmsdiscovery\n",
      "combino n\n",
      "marqäs sududgilaud\n",
      "vintage laualamp\n",
      "lingigarnituur pult kaart mm elsvp\n",
      "muuuububuuuuuauõ kimberly\n",
      "stroke brush nr\n",
      "kitchenaid kthcbkitchenaid kthcb\n",
      "uuuauuduuu\n",
      "vurtu vira mm regulujama cinks valzn\n",
      "apollo hurricane cc edasi manuaal\n",
      "link pronks excbrs\n",
      "canne tvalus\n"
     ]
    }
   ],
   "source": [
    "for i in range(20):\n",
    "    print(en_lda.Nouns[en_lda.Topic_tfidf_index == 0].iloc[i])"
   ]
  },
  {
   "cell_type": "code",
   "execution_count": 1111,
   "metadata": {},
   "outputs": [
    {
     "name": "stdout",
     "output_type": "stream",
     "text": [
      "LDA BOW ET pick:  23054  in cluster  0\n"
     ]
    }
   ],
   "source": [
    "print(\"LDA BOW ET pick: \", max(list(df_bow_et.values())), \" in cluster \", list(df_bow_et.keys())[list(df_bow_et.values()).index(max(list(df_bow_et.values())))])"
   ]
  },
  {
   "cell_type": "code",
   "execution_count": 1308,
   "metadata": {
    "collapsed": true
   },
   "outputs": [
    {
     "name": "stdout",
     "output_type": "stream",
     "text": [
      "ehtekaart\n",
      "kronstein zkujuline valefz\n",
      "ehtekaart\n",
      "kinkekott\n",
      "alex kattemadrats\n",
      "temperatuuriandur termistor\n",
      "taaslateav eesnäärmevibraator vibratsioonieesnäärmevibraator brave\n",
      "uuuub callista\n",
      "romuralli klubi liikmeks soodustusi\n",
      "jootejaam\n",
      "peotelk\n",
      "lillepostament mosaic dxhcm\n",
      "nõrutusrest\n",
      "ultrahelivann digital\n",
      "kuumaalus\n",
      "kontinentaalvoodi\n",
      "venus kattemadrats\n",
      "mega atmega\n",
      "kuäuuu pluto\n",
      "juukseklamber\n"
     ]
    }
   ],
   "source": [
    "for i in range(20):\n",
    "    print(et_lda.Nouns[et_lda.Topic_bow_index == 0].iloc[i])"
   ]
  },
  {
   "cell_type": "code",
   "execution_count": 1110,
   "metadata": {},
   "outputs": [
    {
     "name": "stdout",
     "output_type": "stream",
     "text": [
      "LDA TF-IDF ET pick:  22310  in cluster  0\n"
     ]
    }
   ],
   "source": [
    "print(\"LDA TF-IDF ET pick: \", max(list(df_tfidf_et.values())), \" in cluster \", list(df_tfidf_et.keys())[list(df_tfidf_et.values()).index(max(list(df_tfidf_et.values())))])"
   ]
  },
  {
   "cell_type": "code",
   "execution_count": 1124,
   "metadata": {
    "collapsed": true
   },
   "outputs": [
    {
     "name": "stdout",
     "output_type": "stream",
     "text": [
      "ehtekaart\n",
      "kronstein zkujuline valefz\n",
      "ehtekaart\n",
      "kinkekott\n",
      "sügavus\n",
      "alpaka siid\n",
      "alex kattemadrats\n",
      "temperatuuriandur termistor\n",
      "taaslateav eesnäärmevibraator vibratsioonieesnäärmevibraator brave\n",
      "uuuub callista\n"
     ]
    }
   ],
   "source": [
    "for i in range(10):\n",
    "    print(et_lda.Nouns[et_lda.Topic_tfidf_index == 0].iloc[i])"
   ]
  },
  {
   "cell_type": "code",
   "execution_count": 1109,
   "metadata": {},
   "outputs": [],
   "source": [
    "df_bow_et = {k:0 for k in list(set(et_lda.Topic_bow_index))}\n",
    "df_tfidf_et = {k:0 for k in list(set(et_lda.Topic_tfidf_index))}\n",
    "for k in df_bow_et.keys():\n",
    "    df_bow_et[k] = len(et_lda.Topic_bow_index[et_lda.Topic_bow_index == k])\n",
    "for k in df_tfidf_et.keys():\n",
    "    df_tfidf_et[k] = len(et_lda.Topic_tfidf_index[et_lda.Topic_tfidf_index == k])"
   ]
  },
  {
   "cell_type": "code",
   "execution_count": 1075,
   "metadata": {},
   "outputs": [
    {
     "name": "stderr",
     "output_type": "stream",
     "text": [
      "C:\\Users\\Olha\\Anaconda3\\lib\\site-packages\\matplotlib\\cbook\\deprecation.py:106: MatplotlibDeprecationWarning: Adding an axes using the same arguments as a previous axes currently reuses the earlier instance.  In a future version, a new instance will always be created and returned.  Meanwhile, this warning can be suppressed, and the future behavior ensured, by passing a unique label to each axes instance.\n",
      "  warnings.warn(message, mplDeprecation, stacklevel=1)\n"
     ]
    },
    {
     "data": {
      "text/plain": [
       "Text(0,0.5,'Amount of products')"
      ]
     },
     "execution_count": 1075,
     "metadata": {},
     "output_type": "execute_result"
    },
    {
     "data": {
      "image/png": "[encoded data removed]",
      "text/plain": [
       "<matplotlib.figure.Figure at 0x21eecb34f98>"
      ]
     },
     "metadata": {},
     "output_type": "display_data"
    }
   ],
   "source": [
    "plt.plot(list(df_bow_et.keys()), list(df_bow_et.values()), label='BOW')\n",
    "plt.plot(list(df_tfidf_et.keys()), list(df_tfidf_et.values()), label='TF-IDF')\n",
    "# Plot formatting\n",
    "plt.legend(prop={'size': 16})\n",
    "ax = plt.subplot() \n",
    "for label in (ax.get_xticklabels() + ax.get_yticklabels()):\n",
    "    label.set_fontsize(16)\n",
    "plt.xlabel('Number of cluster', fontsize=18)\n",
    "plt.ylabel('Amount of products', fontsize=18)"
   ]
  },
  {
   "cell_type": "code",
   "execution_count": 1046,
   "metadata": {},
   "outputs": [],
   "source": [
    "df_kmeans_en = {int(k):0 for k in list(set(en_kmeans_sep.Clusters))}\n",
    "df_kmeans_et = {int(k):0 for k in list(set(et_kmeans_sep.Clusters))}\n",
    "for k in df_kmeans_en.keys():\n",
    "    df_kmeans_en[k] = len(en_kmeans_sep.Clusters[en_kmeans_sep.Clusters == str(k)])\n",
    "for k in df_kmeans_et.keys():\n",
    "    df_kmeans_et[k] = len(et_kmeans_sep.Clusters[et_kmeans_sep.Clusters == str(k)])"
   ]
  },
  {
   "cell_type": "code",
   "execution_count": 1077,
   "metadata": {},
   "outputs": [
    {
     "name": "stderr",
     "output_type": "stream",
     "text": [
      "C:\\Users\\Olha\\Anaconda3\\lib\\site-packages\\matplotlib\\cbook\\deprecation.py:106: MatplotlibDeprecationWarning: Adding an axes using the same arguments as a previous axes currently reuses the earlier instance.  In a future version, a new instance will always be created and returned.  Meanwhile, this warning can be suppressed, and the future behavior ensured, by passing a unique label to each axes instance.\n",
      "  warnings.warn(message, mplDeprecation, stacklevel=1)\n"
     ]
    },
    {
     "data": {
      "text/plain": [
       "Text(0,0.5,'Amount of products')"
      ]
     },
     "execution_count": 1077,
     "metadata": {},
     "output_type": "execute_result"
    },
    {
     "data": {
      "image/png": "[encoded data removed]",
      "text/plain": [
       "<matplotlib.figure.Figure at 0x21eecd1e3c8>"
      ]
     },
     "metadata": {},
     "output_type": "display_data"
    }
   ],
   "source": [
    "plt.plot([k[0] for k in sorted(df_kmeans_en.items())], [k[1] for k in sorted(df_kmeans_en.items())], label='English')\n",
    "plt.plot([k[0] for k in sorted(df_kmeans_et.items())], [k[1] for k in sorted(df_kmeans_et.items())], label='Estonian')\n",
    "# Plot formatting\n",
    "plt.legend(prop={'size': 18})\n",
    "ax = plt.subplot() \n",
    "for label in (ax.get_xticklabels() + ax.get_yticklabels()):\n",
    "    label.set_fontsize(16)\n",
    "plt.xlabel('Number of cluster', fontsize=18)\n",
    "plt.ylabel('Amount of products', fontsize=18)"
   ]
  },
  {
   "cell_type": "code",
   "execution_count": 1112,
   "metadata": {},
   "outputs": [
    {
     "name": "stdout",
     "output_type": "stream",
     "text": [
      "KMeans EN pick:  13932  in cluster  18168\n"
     ]
    }
   ],
   "source": [
    "print(\"KMeans EN pick: \", max(list(df_kmeans_en.values())), \" in cluster \", list(df_kmeans_en.keys())[list(df_kmeans_en.values()).index(max(list(df_kmeans_en.values())))])"
   ]
  },
  {
   "cell_type": "code",
   "execution_count": 1310,
   "metadata": {
    "collapsed": true
   },
   "outputs": [
    {
     "name": "stdout",
     "output_type": "stream",
     "text": [
      "wcmortice lock mm steel ewclst\n",
      "wcmortice lock mm silver ewcl\n",
      "jigger mtubb horiz mm g\n",
      "mortice lock mm epz\n",
      "swarovski kivid crystal vitral light mm\n",
      "toitepistik x mm\n",
      "ratta adapter mm võllile\n",
      "beautiful confetti creation art size confetti mm\n",
      "lingigarnituur pult kaart mm elsvp\n",
      "vurtu vira mm regulujama cinks valzn\n",
      "fanatik eatable maus ubb mm\n",
      "canon eos d efs mm is stm automaatne pilvine päevavalgus välk fluorestseeriv l vari tungsten lähivõte makro maastik portree portree sport ava eelistus automaatne manuaal film programm scene katiku prioriteet film slaidiseanss electrical patareicanon eos d efs mm is stm\n",
      "metinamu mm valwhmmf\n",
      "müüdud mm\n",
      "m sisekuuskant poldid mm tk\n",
      "swarovski kivid crystal ab mm\n",
      "swarovski kivid smoked topaz mm\n",
      "swarovski kivid rose mm\n",
      "topsis swarovski suuruses sun mm\n",
      "swarovski kivid crystal ab mm\n",
      "müüdud mm kamee naisekujuga mm\n",
      "osb plaat xx mm\n",
      "wcmortice lock mm silver ewcr\n",
      "sludzene wc durvubm mm nerubsujouais ewcrst\n",
      "fanatik eatable mm\n",
      "makerbeam mm anodeeritud\n",
      "müüdud mm\n",
      "osb xx mm\n",
      "door stopper mm zinc valfezn\n",
      "door stopper mm valfezn\n",
      "osb plaat xx mm\n",
      "roktura stienis dalubtais mm mm e\n",
      "fanatik eatable ubb mm\n",
      "paanikapoomi mehhanism mm valc\n",
      "wheel xmm pair mm d shaft\n",
      "fanatik eatable ubb mm\n",
      "puuludhkuja mm\n",
      "fanatik eatable ubb mm\n",
      "panic device pad bolt mm stainless val\n",
      "door fittings cylinder suitable mm difference center handle cylinder lock framesuadoor handle e\n"
     ]
    }
   ],
   "source": [
    "for i in range(40):\n",
    "    print(en_kmeans_sep.Nouns[en_kmeans_sep.Clusters == '18168'].iloc[i])"
   ]
  },
  {
   "cell_type": "code",
   "execution_count": 1113,
   "metadata": {},
   "outputs": [
    {
     "name": "stdout",
     "output_type": "stream",
     "text": [
      "KMeans ET pick:  2733  in cluster  1474\n"
     ]
    }
   ],
   "source": [
    "print(\"KMeans ET pick: \", max(list(df_kmeans_et.values())), \" in cluster \", list(df_kmeans_et.keys())[list(df_kmeans_et.values()).index(max(list(df_kmeans_et.values())))])"
   ]
  },
  {
   "cell_type": "code",
   "execution_count": 1128,
   "metadata": {
    "collapsed": true
   },
   "outputs": [
    {
     "name": "stdout",
     "output_type": "stream",
     "text": [
      "toodetooted tõõpäeva jooksulsinulapse või kallima fotoga hõbedast medaljon kingitus lähed välja hind toodet graveerimistläbimõõt paksus mmkaal gkäsitõõna medaljonid pinnaga mistõttu hõbe metall inimtüüpide nahaga rolli tase ihupiimad kreemid tegu metalliga pilt või tingimustes medaljoni hambapasta hambaharjaga vahendeidfoto teksti saate hõlpsasti vormilt\n",
      "võimalus lemmiklooma kadumist medaljon andmetega lemmiklooma leidjal omanike graveerija pildi järgi medaljon kondi või ümmargusele medaljonilekomplekti medaljon aas rõngas hind toodet graveerimist\n",
      "kiirjahutusega hind plastpudeli maksumust pudel tagastamisele säilivus tarnepäevast päeva ubc mangutalu talupiim rasvasus\n",
      "hind alusraami sõrestikku voodikasti voodile madrats suurusega cmvärv tamm sonoma grafiitmüüdudlaius cmkõrgus cmvoodi madagaskar\n",
      "toodetooted tõõpäeva jooksulsinulapse või kallima fotoga hõbedast medaljon kingitus lähed välja hind toodet mmxmmxmmkaal gkäsitõõna medaljonid pinnaga mistõttu hõbe metall inimtüüpide nahaga rolli tase ihupiimad kreemid tegu metalliga pilt või tingimustes medaljoni hambapasta hambaharjaga vahendeidfoto teksti saate hõlpsasti allolevalt nurkadega hõbedast medaljon\n",
      "hind alusraami sõrestikku kast voodi peatsi cmuavoodi axel\n",
      "tvlaud ukse sahtliga hind ledvalgustustmüüdudlaius cmsügavus\n",
      "vitriinkapp uksega hind ledvalgustustvitriinkapp flo\n",
      "hind ühe tüki eestiuapilt pildid ilustreerimiseks toodete omadusega\n",
      "hind üheuatükki eesti\n"
     ]
    }
   ],
   "source": [
    "for i in range(10):\n",
    "    print(et_kmeans_sep.Nouns[et_kmeans_sep.Clusters == '1474'].iloc[i])"
   ]
  },
  {
   "cell_type": "code",
   "execution_count": 1134,
   "metadata": {},
   "outputs": [],
   "source": [
    "df_tfidf_en = {k:0 for k in list(set(en_tfidf_sep.Clusters))}\n",
    "df_tfidf_et = {k:0 for k in list(set(et_tfidf_sep.Clusters))}\n",
    "for k in df_tfidf_en.keys():\n",
    "    df_tfidf_en[k] = len(en_tfidf_sep.Clusters[en_tfidf_sep.Clusters == k])\n",
    "for k in df_tfidf_et.keys():\n",
    "    df_tfidf_et[k] = len(et_tfidf_sep.Clusters[et_tfidf_sep.Clusters == k])"
   ]
  },
  {
   "cell_type": "code",
   "execution_count": 1082,
   "metadata": {},
   "outputs": [
    {
     "name": "stderr",
     "output_type": "stream",
     "text": [
      "C:\\Users\\Olha\\Anaconda3\\lib\\site-packages\\matplotlib\\cbook\\deprecation.py:106: MatplotlibDeprecationWarning: Adding an axes using the same arguments as a previous axes currently reuses the earlier instance.  In a future version, a new instance will always be created and returned.  Meanwhile, this warning can be suppressed, and the future behavior ensured, by passing a unique label to each axes instance.\n",
      "  warnings.warn(message, mplDeprecation, stacklevel=1)\n"
     ]
    },
    {
     "data": {
      "text/plain": [
       "Text(0,0.5,'Amount of products')"
      ]
     },
     "execution_count": 1082,
     "metadata": {},
     "output_type": "execute_result"
    },
    {
     "data": {
      "image/png": "[encoded data removed]",
      "text/plain": [
       "<matplotlib.figure.Figure at 0x21eec7aba90>"
      ]
     },
     "metadata": {},
     "output_type": "display_data"
    }
   ],
   "source": [
    "plt.plot([k[0] for k in sorted(df_tfidf_en.items())], [k[1] for k in sorted(df_tfidf_en.items())], label='English')\n",
    "plt.plot([k[0] for k in sorted(df_tfidf_et.items())], [k[1] for k in sorted(df_tfidf_et.items())], label='Estonian')\n",
    "# Plot formatting\n",
    "plt.legend(prop={'size': 18})\n",
    "ax = plt.subplot() \n",
    "for label in (ax.get_xticklabels() + ax.get_yticklabels()):\n",
    "    label.set_fontsize(16)\n",
    "plt.xlabel('Number of cluster', fontsize=18)\n",
    "plt.ylabel('Amount of products', fontsize=18)"
   ]
  },
  {
   "cell_type": "code",
   "execution_count": 1137,
   "metadata": {},
   "outputs": [
    {
     "name": "stdout",
     "output_type": "stream",
     "text": [
      "TF-IDF EN pick:  14718  in cluster  7495\n"
     ]
    }
   ],
   "source": [
    "print(\"TF-IDF EN pick: \", max(list(df_tfidf_en.values())), \" in cluster \", list(df_tfidf_en.keys())[list(df_tfidf_en.values()).index(max(list(df_tfidf_en.values())))])"
   ]
  },
  {
   "cell_type": "code",
   "execution_count": 1138,
   "metadata": {},
   "outputs": [
    {
     "name": "stdout",
     "output_type": "stream",
     "text": [
      "wcmortice lock mm steel ewclst\n",
      "wcmortice lock mm silver ewcl\n",
      "jigger mtubb horiz mm g\n",
      "mortice lock mm epz\n",
      "ratta adapter mm võllile\n",
      "lingigarnituur pult kaart mm elsvp\n",
      "fanatik eatable maus ubb mm\n",
      "metinamu mm valwhmmf\n",
      "müüdud mm\n",
      "m sisekuuskant poldid mm tk\n"
     ]
    }
   ],
   "source": [
    "for i in range(10):\n",
    "    print(en_tfidf_sep.Nouns[en_tfidf_sep.Clusters == 7495].iloc[i])"
   ]
  },
  {
   "cell_type": "code",
   "execution_count": 1135,
   "metadata": {},
   "outputs": [
    {
     "name": "stdout",
     "output_type": "stream",
     "text": [
      "TF-IDF ET pick:  1846  in cluster  267\n"
     ]
    }
   ],
   "source": [
    "print(\"TF-IDF ET pick: \", max(list(df_tfidf_et.values())), \" in cluster \", list(df_tfidf_et.keys())[list(df_tfidf_et.values()).index(max(list(df_tfidf_et.values())))])"
   ]
  },
  {
   "cell_type": "code",
   "execution_count": 1136,
   "metadata": {},
   "outputs": [
    {
     "name": "stdout",
     "output_type": "stream",
     "text": [
      "liiki otto diiselmootorite turbolaadimisega jaua jõuülekande agregaatide õlitussüsteemide puhastamiseks mustuse vaigu sadestised õlikanalitest läbitõõtanud õliga minemavitaflush mootori õlitussüsteemi\n",
      "liiki otto diiselmootorite turbolaadimisega jaua jõuülekande agregaatide õlitussüsteemide puhastamiseks mustuse vaigu sadestised õlikanalitest läbitõõtanud õliga minemavitaflush mootori õlitussüsteemi\n",
      "liiki otto diiselmootorite turbolaadimisega jaua jõuülekande agregaatide õlitussüsteemide puhastamiseks mustuse vaigu sadestised õlikanalitest läbitõõtanud õliga minemavitaflush mootori õlitussüsteemi\n",
      "liiki otto diiselmootorite turbolaadimisega jaua jõuülekande agregaatide õlitussüsteemide puhastamiseks mustuse vaigu sadestised õlikanalitest läbitõõtanud õliga minemavitaflush mootori õlitussüsteemi\n",
      "liiki otto diiselmootorite turbolaadimisega jaua jõuülekande agregaatide õlitussüsteemide puhastamiseks mustuse vaigu sadestised õlikanalitest läbitõõtanud õliga minemavitaflush mootori õlitussüsteemi\n",
      "näokreem viinamarjaseemne õliga nahatüübile vitamiiniderikassohvy näokreem viinamarjaseemne õliga\n",
      "liiki otto diiselmootorite turbolaadimisega jaua jõuülekande agregaatide õlitussüsteemide puhastamiseks mustuse vaigu sadestised õlikanalitest läbitõõtanud õliga minemavitaflush mootori õlitussüsteemi\n",
      "kadakamarja õliga seep õlidega nahka\n",
      "kadakamarja õliga seep õlidega nahka\n",
      "deodorant mineraalsoolade salveiekstrakti rohemündi õliga ära lõhna tekke värskuse päevaks deodorant meestele\n"
     ]
    }
   ],
   "source": [
    "for i in range(10):\n",
    "    print(et_tfidf_sep.Nouns[et_tfidf_sep.Clusters == 0].iloc[i])"
   ]
  },
  {
   "cell_type": "code",
   "execution_count": 1034,
   "metadata": {},
   "outputs": [],
   "source": [
    "df_dbscan_en = {k:0 for k in list(set(en_dbscan.Cluster))}\n",
    "df_dbscan_et = {k:0 for k in list(set(et_dbscan.Cluster))}\n",
    "for k in df_dbscan_en.keys():\n",
    "    df_dbscan_en[k] = len(en_dbscan.Cluster[en_dbscan.Cluster == k])\n",
    "for k in df_dbscan_et.keys():\n",
    "    df_dbscan_et[k] = len(et_dbscan.Cluster[et_dbscan.Cluster == k])"
   ]
  },
  {
   "cell_type": "code",
   "execution_count": 1083,
   "metadata": {},
   "outputs": [
    {
     "name": "stderr",
     "output_type": "stream",
     "text": [
      "C:\\Users\\Olha\\Anaconda3\\lib\\site-packages\\matplotlib\\cbook\\deprecation.py:106: MatplotlibDeprecationWarning: Adding an axes using the same arguments as a previous axes currently reuses the earlier instance.  In a future version, a new instance will always be created and returned.  Meanwhile, this warning can be suppressed, and the future behavior ensured, by passing a unique label to each axes instance.\n",
      "  warnings.warn(message, mplDeprecation, stacklevel=1)\n"
     ]
    },
    {
     "data": {
      "text/plain": [
       "Text(0,0.5,'Amount of products')"
      ]
     },
     "execution_count": 1083,
     "metadata": {},
     "output_type": "execute_result"
    },
    {
     "data": {
      "image/png": "[encoded data removed]",
      "text/plain": [
       "<matplotlib.figure.Figure at 0x21eec474cf8>"
      ]
     },
     "metadata": {},
     "output_type": "display_data"
    }
   ],
   "source": [
    "plt.plot([k[0] for k in sorted(df_dbscan_en.items())], [k[1] for k in sorted(df_dbscan_en.items())], label='English')\n",
    "plt.plot([k[0] for k in sorted(df_dbscan_et.items())], [k[1] for k in sorted(df_dbscan_et.items())], label='Estonian')\n",
    "# Plot formatting\n",
    "plt.legend(prop={'size': 18})\n",
    "ax = plt.subplot() \n",
    "for label in (ax.get_xticklabels() + ax.get_yticklabels()):\n",
    "    label.set_fontsize(16)\n",
    "plt.xlabel('Number of cluster', fontsize=18)\n",
    "plt.ylabel('Amount of products', fontsize=18)\n",
    "plt.ylabel('Amount of products', fontsize=16)\n",
    "#outlier et: #13"
   ]
  },
  {
   "cell_type": "code",
   "execution_count": 1084,
   "metadata": {},
   "outputs": [
    {
     "name": "stderr",
     "output_type": "stream",
     "text": [
      "C:\\Users\\Olha\\Anaconda3\\lib\\site-packages\\matplotlib\\cbook\\deprecation.py:106: MatplotlibDeprecationWarning: Adding an axes using the same arguments as a previous axes currently reuses the earlier instance.  In a future version, a new instance will always be created and returned.  Meanwhile, this warning can be suppressed, and the future behavior ensured, by passing a unique label to each axes instance.\n",
      "  warnings.warn(message, mplDeprecation, stacklevel=1)\n"
     ]
    },
    {
     "data": {
      "text/plain": [
       "Text(0,0.5,'Amount of products')"
      ]
     },
     "execution_count": 1084,
     "metadata": {},
     "output_type": "execute_result"
    },
    {
     "data": {
      "image/png": "[encoded data removed]",
      "text/plain": [
       "<matplotlib.figure.Figure at 0x21eeb38deb8>"
      ]
     },
     "metadata": {},
     "output_type": "display_data"
    }
   ],
   "source": [
    "plt.plot([k[0] for k in sorted(df_dbscan_en.items())], [k[1] for k in sorted(df_dbscan_en.items())], label='English')\n",
    "# Plot formatting\n",
    "ax = plt.subplot() \n",
    "for label in (ax.get_xticklabels() + ax.get_yticklabels()):\n",
    "    label.set_fontsize(16)\n",
    "plt.xlabel('Number of cluster', fontsize=18)\n",
    "plt.ylabel('Amount of products', fontsize=18)\n",
    "plt.ylabel('Amount of products', fontsize=16)\n",
    "#outlier et: #13"
   ]
  },
  {
   "cell_type": "code",
   "execution_count": 1139,
   "metadata": {},
   "outputs": [
    {
     "name": "stdout",
     "output_type": "stream",
     "text": [
      "DBSCAN EN pick:  1593  in cluster  319\n"
     ]
    }
   ],
   "source": [
    "print(\"DBSCAN EN pick: \", max(list(df_dbscan_en.values())), \" in cluster \", list(df_dbscan_en.keys())[list(df_dbscan_en.values()).index(max(list(df_dbscan_en.values())))])"
   ]
  },
  {
   "cell_type": "code",
   "execution_count": 1311,
   "metadata": {
    "collapsed": true
   },
   "outputs": [
    {
     "name": "stdout",
     "output_type": "stream",
     "text": [
      "beautiful swarovski rhinestones jars jarsize mmswarovski rhinestones crystal mm\n",
      "kristalliduaaroshirva ssvärv crystal aurora borealeliim hotfixpakkua tk tk\n",
      "beautiful swarovski rhinestones jars jarsize mmswarovski rhinestones crystal mm\n",
      "crystal comet\n",
      "mm crystal white patina\n",
      "crystal\n",
      "crystal\n",
      "crystal\n",
      "mm crystal lilac shadow\n",
      "mm crystal pastel\n",
      "price grams kg please note pictures illustrationinformation color swatches purposes colors screen monitor settings browsersdb crystal\n",
      "mm crystal vitrail medium\n",
      "mm crystal lilac shadow\n",
      "crystal\n",
      "mm crystal bermuda blä\n",
      "mm crystal blä shade\n",
      "mm crystal light creamrose\n",
      "mm crystal lilac shadow\n",
      "efcmecl crankset speed black fcm t mm\n",
      "mm crystal aurore boreale\n",
      "ssmm crystal\n",
      "crystal\n",
      "mm crystal pendants\n",
      "mm crystal celsian\n",
      "crystal\n",
      "mm crystal bermuda blä\n",
      "mm crystal lilac shadow\n",
      "mm crystal celsian\n",
      "mm crystal labrador full\n",
      "mm crystal golden shadow\n",
      "crystal\n",
      "mm crystal\n",
      "crystal\n",
      "armunukk dreamy corella crystal\n",
      "mm crystal golden shadow\n",
      "crystal õuäuuuuudubu\n",
      "mm crystal bermuda blä\n",
      "mm crystal bermuda blä\n",
      "mm crystal\n",
      "handwatches michael kors runway crystal\n"
     ]
    }
   ],
   "source": [
    "for i in range(40):\n",
    "    print(en_dbscan.Nouns[en_dbscan.Cluster == 319].iloc[i])"
   ]
  },
  {
   "cell_type": "code",
   "execution_count": 1092,
   "metadata": {},
   "outputs": [
    {
     "name": "stderr",
     "output_type": "stream",
     "text": [
      "C:\\Users\\Olha\\Anaconda3\\lib\\site-packages\\matplotlib\\cbook\\deprecation.py:106: MatplotlibDeprecationWarning: Adding an axes using the same arguments as a previous axes currently reuses the earlier instance.  In a future version, a new instance will always be created and returned.  Meanwhile, this warning can be suppressed, and the future behavior ensured, by passing a unique label to each axes instance.\n",
      "  warnings.warn(message, mplDeprecation, stacklevel=1)\n"
     ]
    },
    {
     "data": {
      "text/plain": [
       "Text(0,0.5,'Amount of products')"
      ]
     },
     "execution_count": 1092,
     "metadata": {},
     "output_type": "execute_result"
    },
    {
     "data": {
      "image/png": "[encoded data removed]",
      "text/plain": [
       "<matplotlib.figure.Figure at 0x21e8edbe128>"
      ]
     },
     "metadata": {},
     "output_type": "display_data"
    }
   ],
   "source": [
    "plt.plot([k[0] for k in sorted(df_dbscan_et.items())], [k[1] for k in sorted(df_dbscan_et.items())], 'b',  label='Estonian')\n",
    "# Plot formatting\n",
    "ax = plt.subplot() \n",
    "for label in (ax.get_xticklabels() + ax.get_yticklabels()):\n",
    "    label.set_fontsize(16)\n",
    "plt.xlabel('Number of cluster', fontsize=18)\n",
    "plt.ylabel('Amount of products', fontsize=18)\n",
    "plt.ylabel('Amount of products', fontsize=16)\n",
    "#outlier et: #13"
   ]
  },
  {
   "cell_type": "code",
   "execution_count": 1141,
   "metadata": {},
   "outputs": [
    {
     "name": "stdout",
     "output_type": "stream",
     "text": [
      "DBSCAN ET pick:  7351  in cluster  13\n"
     ]
    }
   ],
   "source": [
    "print(\"DBSCAN ET pick: \", max(list(df_dbscan_et.values())), \" in cluster \", list(df_dbscan_et.keys())[list(df_dbscan_et.values()).index(max(list(df_dbscan_et.values())))])"
   ]
  },
  {
   "cell_type": "code",
   "execution_count": 1312,
   "metadata": {
    "collapsed": true
   },
   "outputs": [
    {
     "name": "stdout",
     "output_type": "stream",
     "text": [
      "alumiiniumtoru läbimõõt uaudcm udclemised torud udmm küljed kangas oxford värv või\n",
      "sensoriga armukuul treening lelu aru lihased treeningimpulssenäed lihased gballs\n",
      "jänkuvibraatorit topeltvibraatorit peeniserõngast või vibraator asendisse udcks ümaratest peadest lisastimulatsiooni kujuga vibraator shanky vibe\n",
      "uuubäuäu uuuuuduauäuuuuc bergen\n",
      "roosad taset nibuklambrid puldist juhe cmtõõtab xaa patareiga komplektis võid patareide altnibuklambrid õrritajad\n",
      "majapidamispaberi hoidja\n",
      "ethernet laiendusplaat arduinole\n",
      "rippkiik materjalist üles mõnulemiseks magamiseks märjal või mägisel pinnaselua\n",
      "majapidamispaberi hoidja\n",
      "uuubäuäu uuuuuduauäuuuuc bergen\n",
      "roosad taset nibuklambrid puldist juhe cmtõõtab xaa patareiga komplektis võid patareide altnibuklambrid õrritajad\n",
      "vibreerimisfunktsiooniga disainiga gpunkti vibraator\n",
      "majapidamispaberi hoidja\n",
      "kauss puuviljadele\n",
      "majapidamispaberi hoidja\n",
      "valmistatud plaadist toode detailidena kokkupanemist koguses\n",
      "roosad taset nibuklambrid puldist juhe cmtõõtab xaa patareiga komplektis võid patareide altnibuklambrid õrritajad\n",
      "praimerkonsiiler pooride peitmiseks hideapore light\n",
      "valguse intensiivsuse andur\n",
      "ultrahelianduri hoidik akrüül\n",
      "udcllatuspakk sisu kingituseks mehele osa pakid koguväärtus samaväärneudcllatuspakk mehele\n",
      "valmistatud plaadist toode detailidena kokkupanemist koguses\n",
      "valmistatud plaadist toode detailidena kokkupanemist koguses\n",
      "kliitoristimulaatoriga dildoga strapon vibratsioon reguleerimine puldistvibratsiooniga strapon\n",
      "majapidamispaberi hoidja\n",
      "valmistatud plaadist toode detailidena kokkupanemist koguses\n",
      "jänkuvibraatorit topeltvibraatorit peeniserõngast või vibraator asendisse udcks ümaratest peadest lisastimulatsiooni kujuga vibraator shanky vibe\n",
      "jänkuvibraatorit topeltvibraatorit peeniserõngast või vibraator asendisse udcks ümaratest peadest lisastimulatsiooni kujuga vibraator shanky vibe\n",
      "materjal terasraamua mmpvc kate\n",
      "plastikpunutise värvikood laud urban xxhcm\n",
      "praimer tee baasil green primer light nahale\n",
      "gastroback vital mixer pro klaas roostevaba teras roostevaba teras roostevaba teras\n",
      "aku liion udhuvool laadimisaeg kaal müratase udche käega tõõtamiseks\n",
      "majapidamispaberi hoidja iminappadega\n",
      "kujuga lumelabidas plastikust serv alumiiniumiga märg lumi jää labida külge komposiitvars\n",
      "jänkuvibraatorit topeltvibraatorit peeniserõngast või vibraator asendisse udcks ümaratest peadest lisastimulatsiooni kujuga vibraator shanky vibe\n",
      "majapidamispaberi hoidja\n",
      "ukselink sise välistingimustesse kinnituse lukkudega\n",
      "moodsa disainiga sõõgilauakomplekt tooteomadused sõõgilauakomplekt hert sõõgilauda tooli laua toolide raam metallist lauaplaat toolide põhi seljatugi plaadist spooniga sududgilaud tooli\n",
      "kreedidi visiidikardi hoidja\n"
     ]
    }
   ],
   "source": [
    "for i in range(40):\n",
    "    print(et_dbscan.Nouns[et_dbscan.Cluster == 13].iloc[i])"
   ]
  },
  {
   "cell_type": "code",
   "execution_count": 1177,
   "metadata": {},
   "outputs": [],
   "source": [
    "# Measurments\n",
    "\n",
    "def measure_lonely_prod(df, clust_prod):\n",
    "    #clusters_1 = list(set([int(k) for k in list(clust_prod.keys())[list(clust_prod.values()).index(1)]]))\n",
    "    clusters_1 = []\n",
    "    for k in clust_prod.keys():\n",
    "        if clust_prod[k] == 1:\n",
    "            clusters_1.append(k)\n",
    "    sample_cl1 = df[df['Clusters'].isin(clusters_1)]\n",
    "    lonely = list(set(sample_cl1['node']))\n",
    "    all_lonely = []\n",
    "    for l in lonely:\n",
    "        sample = df[df['node'] == l]\n",
    "        clusters = list(set(sample['Clusters']))\n",
    "        if len(set(clusters_1)-set(clusters)) == 0:\n",
    "            all_lonely.append(l)\n",
    "    if len(all_lonely) == 0:\n",
    "        print(\"All products are connected.\")\n",
    "    else:\n",
    "        print(\"Amount of connected products: \", (len(list(set(df['node'])))-len(all_lonely))/len(list(set(df['node'])))*100, \"%\")\n",
    "    return clusters_1, lonely, all_lonely"
   ]
  },
  {
   "cell_type": "code",
   "execution_count": 1178,
   "metadata": {},
   "outputs": [
    {
     "name": "stdout",
     "output_type": "stream",
     "text": [
      "All products are connected.\n"
     ]
    }
   ],
   "source": [
    "clusters_1_en_kmeans, lonely, all_lonely_en_kmeans = measure_lonely_prod(en_kmeans_sep, clust_prod_en_kmeans)"
   ]
  },
  {
   "cell_type": "code",
   "execution_count": 1179,
   "metadata": {},
   "outputs": [
    {
     "name": "stdout",
     "output_type": "stream",
     "text": [
      "All products are connected.\n"
     ]
    }
   ],
   "source": [
    "clusters_1_et_kmeans, lon_k_et, all_lonely_et_kmeans = measure_lonely_prod(et_kmeans_sep, clust_prod_et_kmeans)"
   ]
  },
  {
   "cell_type": "code",
   "execution_count": 1180,
   "metadata": {},
   "outputs": [
    {
     "name": "stdout",
     "output_type": "stream",
     "text": [
      "All products are connected.\n"
     ]
    }
   ],
   "source": [
    "clusters_1_en_tfidf, lonely_en_tf, all_lonely_en_tfidf = measure_lonely_prod(en_tfidf_sep, clust_prod_en_tfidf)"
   ]
  },
  {
   "cell_type": "code",
   "execution_count": 1181,
   "metadata": {},
   "outputs": [
    {
     "name": "stdout",
     "output_type": "stream",
     "text": [
      "All products are connected.\n"
     ]
    }
   ],
   "source": [
    "clusters_1_et_tfidf, lonely_et_tf, all_lonely_et_tfidf = measure_lonely_prod(et_tfidf_sep, clust_prod_et_tfidf)"
   ]
  },
  {
   "cell_type": "code",
   "execution_count": 55,
   "metadata": {
    "scrolled": true
   },
   "outputs": [
    {
     "name": "stdout",
     "output_type": "stream",
     "text": [
      "771\n"
     ]
    }
   ],
   "source": [
    "companies = []\n",
    "for i in en_lda.link:\n",
    "    comp = i.split('/')[0].replace('<', '').replace('www', '').replace('https', '').replace('http', '').replace(':', '')\n",
    "    if comp[0] == '.':\n",
    "        comp = comp[1:]\n",
    "    companies.append(comp)\n",
    "companies = list(set(companies))\n",
    "print(len(companies))"
   ]
  },
  {
   "cell_type": "code",
   "execution_count": 63,
   "metadata": {},
   "outputs": [],
   "source": [
    "companies.remove('likealocalguide.com')"
   ]
  },
  {
   "cell_type": "code",
   "execution_count": 64,
   "metadata": {},
   "outputs": [
    {
     "name": "stdout",
     "output_type": "stream",
     "text": [
      "The low percentage:  38.88888888888889  for  tatalus.ee  and  fertan.ie\n",
      "The low percentage:  0.0  for  tatalus.ee  and  versus.ee\n",
      "The low percentage:  0.0  for  tatalus.ee  and  bestkiteboarding.com\n",
      "The low percentage:  0.0  for  tatalus.ee  and  kannukas.ee\n",
      "The low percentage:  0.0  for  tatalus.ee  and  hcgym.eu\n",
      "The low percentage:  0.0  for  tatalus.ee  and  gogonano.com\n",
      "The low percentage:  0.0  for  tatalus.ee  and  e-arvutipood.ee\n",
      "The low percentage:  0.0  for  tatalus.ee  and  xn--ktertikuivatid-5hbd.ee\n",
      "The low percentage:  0.0  for  tatalus.ee  and  grecko.themerex.net\n",
      "The low percentage:  0.0  for  tatalus.ee  and  hansakamin.ee\n",
      "The low percentage:  0.0  for  tatalus.ee  and  classter.themerex.net\n",
      "The low percentage:  0.0  for  tatalus.ee  and  mommila.ee\n",
      "The low percentage:  39.53488372093023  for  bigshop.ee  and  presteamshop.com\n",
      "The low percentage:  38.93129770992366  for  bigshop.ee  and  sushivelvet.ee\n",
      "The low percentage:  23.50597609561753  for  bigshop.ee  and  tamberi.eu\n",
      "The low percentage:  28.73134328358209  for  bigshop.ee  and  unitedoil.ee\n",
      "The low percentage:  4.743083003952568  for  bigshop.ee  and  kaekellad.ee\n",
      "The low percentage:  35.55555555555556  for  bigshop.ee  and  eyeofhorus.greenbeauty.ee\n",
      "The low percentage:  30.952380952380953  for  bigshop.ee  and  lepa.ee\n",
      "The low percentage:  38.54961832061068  for  bigshop.ee  and  power24.ee\n",
      "The low percentage:  38.759689922480625  for  bigshop.ee  and  ilubox.ee\n",
      "The low percentage:  35.573122529644266  for  bigshop.ee  and  holikaholika.lv\n",
      "The low percentage:  19.047619047619047  for  arvutiakud.ee  and  moemaailm.ee\n",
      "The low percentage:  33.33333333333333  for  arvutiakud.ee  and  triplex.ee\n",
      "The low percentage:  0.0  for  arvutiakud.ee  and  vabank.ee\n",
      "The low percentage:  0.0  for  arvutiakud.ee  and  berkley-fishing.com\n",
      "The low percentage:  0.0  for  arvutiakud.ee  and  order.petid.global\n",
      "The low percentage:  0.0  for  arvutiakud.ee  and  cleancentre.ee\n",
      "The low percentage:  0.0  for  arvutiakud.ee  and  sleepangel.ee\n",
      "The low percentage:  0.0  for  arvutiakud.ee  and  megastar.ee\n",
      "The low percentage:  0.0  for  arvutiakud.ee  and  store.nest.com\n",
      "The low percentage:  31.818181818181817  for  arvutiakud.ee  and  firstwheel.eu\n",
      "The low percentage:  38.095238095238095  for  arvutiakud.ee  and  tupsu.ee\n",
      "The low percentage:  29.166666666666668  for  arvutiakud.ee  and  pets24.ee\n",
      "The low percentage:  0.0  for  arvutiakud.ee  and  shop.koneita.com\n",
      "The low percentage:  9.523809523809524  for  arvutiakud.ee  and  sensuale.ee\n",
      "The low percentage:  34.78260869565217  for  arvutiakud.ee  and  shop.bernumode.lv\n",
      "The low percentage:  0.0  for  arvutiakud.ee  and  bazaaa.com\n",
      "The low percentage:  0.0  for  arvutiakud.ee  and  carworld.ee\n",
      "The low percentage:  39.130434782608695  for  arvutiakud.ee  and  riskikuller.ee\n",
      "The low percentage:  36.36363636363637  for  arvutiakud.ee  and  mudilane.eu\n",
      "The low percentage:  0.0  for  arvutiakud.ee  and  grandrose.ee\n",
      "The low percentage:  17.391304347826086  for  arvutiakud.ee  and  partshouse.eu\n",
      "The low percentage:  0.0  for  arvutiakud.ee  and  notes.ee\n",
      "The low percentage:  36.36363636363637  for  arvutiakud.ee  and  lillepidu.ee\n",
      "The low percentage:  38.095238095238095  for  arvutiakud.ee  and  kb.ee\n",
      "The low percentage:  0.0  for  arvutiakud.ee  and  senco.ee\n",
      "The low percentage:  38.095238095238095  for  arvutiakud.ee  and  grillsymbol.ee\n",
      "The low percentage:  4.093567251461988  for  smarta.ee  and  all4pet.ee\n",
      "The low percentage:  33.663366336633665  for  smarta.ee  and  minuminu.ee\n",
      "The low percentage:  15.4296875  for  smarta.ee  and  elvogue.com\n",
      "The low percentage:  17.034068136272545  for  smarta.ee  and  heatpoint.ee\n",
      "The low percentage:  27.08757637474542  for  smarta.ee  and  shop.imedepold.ee\n",
      "The low percentage:  33.33333333333333  for  smarta.ee  and  x-cradle.com\n",
      "The low percentage:  24.288840262582056  for  smarta.ee  and  metsasemu.ee\n",
      "The low percentage:  28.94168466522678  for  smarta.ee  and  indivaras.ee\n",
      "The low percentage:  0.0  for  ru.aliexpress.com  and  traktor.ee\n",
      "The low percentage:  0.0  for  ru.aliexpress.com  and  labirint.ru\n",
      "The low percentage:  0.0  for  ru.aliexpress.com  and  airbnb.cz\n",
      "The low percentage:  0.0  for  ru.aliexpress.com  and  fr.airbnb.be\n",
      "The low percentage:  0.0  for  ru.aliexpress.com  and  925.ee\n",
      "The low percentage:  0.0  for  ru.aliexpress.com  and  myessentia.com\n",
      "The low percentage:  0.0  for  ru.aliexpress.com  and  hidglobal.mx\n",
      "The low percentage:  0.0  for  ru.aliexpress.com  and  au.vwheritage.com\n"
     ]
    },
    {
     "ename": "KeyboardInterrupt",
     "evalue": "",
     "output_type": "error",
     "traceback": [
      "\u001b[1;31m---------------------------------------------------------------------------\u001b[0m",
      "\u001b[1;31mKeyboardInterrupt\u001b[0m                         Traceback (most recent call last)",
      "\u001b[1;32m<ipython-input-64-55deddaf30c8>\u001b[0m in \u001b[0;36m<module>\u001b[1;34m()\u001b[0m\n\u001b[0;32m      9\u001b[0m     \u001b[0mprod3\u001b[0m \u001b[1;33m=\u001b[0m \u001b[0mlist\u001b[0m\u001b[1;33m(\u001b[0m\u001b[0mset\u001b[0m\u001b[1;33m(\u001b[0m\u001b[0mdf\u001b[0m\u001b[1;33m.\u001b[0m\u001b[0mnode\u001b[0m\u001b[1;33m[\u001b[0m\u001b[0mdf\u001b[0m\u001b[1;33m[\u001b[0m\u001b[1;34m'link'\u001b[0m\u001b[1;33m]\u001b[0m\u001b[1;33m.\u001b[0m\u001b[0mstr\u001b[0m\u001b[1;33m.\u001b[0m\u001b[0mcontains\u001b[0m\u001b[1;33m(\u001b[0m\u001b[0mj\u001b[0m\u001b[1;33m)\u001b[0m\u001b[1;33m]\u001b[0m\u001b[1;33m)\u001b[0m\u001b[1;33m)\u001b[0m\u001b[1;33m\u001b[0m\u001b[0m\n\u001b[0;32m     10\u001b[0m     \u001b[1;32mif\u001b[0m \u001b[0mi\u001b[0m \u001b[1;33m!=\u001b[0m \u001b[0mj\u001b[0m \u001b[1;32mand\u001b[0m \u001b[0mabs\u001b[0m\u001b[1;33m(\u001b[0m\u001b[1;33m(\u001b[0m\u001b[0mlen\u001b[0m\u001b[1;33m(\u001b[0m\u001b[0mprod2\u001b[0m\u001b[1;33m)\u001b[0m\u001b[1;33m-\u001b[0m\u001b[0mlen\u001b[0m\u001b[1;33m(\u001b[0m\u001b[0mprod3\u001b[0m\u001b[1;33m)\u001b[0m\u001b[1;33m)\u001b[0m\u001b[1;33m/\u001b[0m\u001b[1;33m(\u001b[0m\u001b[0mlen\u001b[0m\u001b[1;33m(\u001b[0m\u001b[0mprod2\u001b[0m\u001b[1;33m)\u001b[0m\u001b[1;33m+\u001b[0m\u001b[0mlen\u001b[0m\u001b[1;33m(\u001b[0m\u001b[0mprod3\u001b[0m\u001b[1;33m)\u001b[0m\u001b[1;33m)\u001b[0m\u001b[1;33m)\u001b[0m \u001b[1;33m<\u001b[0m \u001b[1;36m0.1\u001b[0m\u001b[1;33m:\u001b[0m\u001b[1;33m\u001b[0m\u001b[0m\n\u001b[1;32m---> 11\u001b[1;33m         \u001b[0msampe2\u001b[0m \u001b[1;33m=\u001b[0m \u001b[0mdf\u001b[0m\u001b[1;33m[\u001b[0m\u001b[0mdf\u001b[0m\u001b[1;33m[\u001b[0m\u001b[1;34m'link'\u001b[0m\u001b[1;33m]\u001b[0m\u001b[1;33m.\u001b[0m\u001b[0mstr\u001b[0m\u001b[1;33m.\u001b[0m\u001b[0mcontains\u001b[0m\u001b[1;33m(\u001b[0m\u001b[0mi\u001b[0m\u001b[1;33m)\u001b[0m\u001b[1;33m]\u001b[0m\u001b[1;33m\u001b[0m\u001b[0m\n\u001b[0m\u001b[0;32m     12\u001b[0m         \u001b[0msampe3\u001b[0m \u001b[1;33m=\u001b[0m \u001b[0mdf\u001b[0m\u001b[1;33m[\u001b[0m\u001b[0mdf\u001b[0m\u001b[1;33m[\u001b[0m\u001b[1;34m'link'\u001b[0m\u001b[1;33m]\u001b[0m\u001b[1;33m.\u001b[0m\u001b[0mstr\u001b[0m\u001b[1;33m.\u001b[0m\u001b[0mcontains\u001b[0m\u001b[1;33m(\u001b[0m\u001b[0mj\u001b[0m\u001b[1;33m)\u001b[0m\u001b[1;33m]\u001b[0m\u001b[1;33m\u001b[0m\u001b[0m\n\u001b[0;32m     13\u001b[0m         \u001b[0mclusters2\u001b[0m \u001b[1;33m=\u001b[0m \u001b[0mlist\u001b[0m\u001b[1;33m(\u001b[0m\u001b[0mset\u001b[0m\u001b[1;33m(\u001b[0m\u001b[0msampe2\u001b[0m\u001b[1;33m[\u001b[0m\u001b[0mcluster_col\u001b[0m\u001b[1;33m]\u001b[0m\u001b[1;33m)\u001b[0m\u001b[1;33m)\u001b[0m\u001b[1;33m\u001b[0m\u001b[0m\n",
      "\u001b[1;32m~\\Anaconda3\\lib\\site-packages\\pandas\\core\\strings.py\u001b[0m in \u001b[0;36mcontains\u001b[1;34m(self, pat, case, flags, na, regex)\u001b[0m\n\u001b[0;32m   1565\u001b[0m     \u001b[1;32mdef\u001b[0m \u001b[0mcontains\u001b[0m\u001b[1;33m(\u001b[0m\u001b[0mself\u001b[0m\u001b[1;33m,\u001b[0m \u001b[0mpat\u001b[0m\u001b[1;33m,\u001b[0m \u001b[0mcase\u001b[0m\u001b[1;33m=\u001b[0m\u001b[1;32mTrue\u001b[0m\u001b[1;33m,\u001b[0m \u001b[0mflags\u001b[0m\u001b[1;33m=\u001b[0m\u001b[1;36m0\u001b[0m\u001b[1;33m,\u001b[0m \u001b[0mna\u001b[0m\u001b[1;33m=\u001b[0m\u001b[0mnp\u001b[0m\u001b[1;33m.\u001b[0m\u001b[0mnan\u001b[0m\u001b[1;33m,\u001b[0m \u001b[0mregex\u001b[0m\u001b[1;33m=\u001b[0m\u001b[1;32mTrue\u001b[0m\u001b[1;33m)\u001b[0m\u001b[1;33m:\u001b[0m\u001b[1;33m\u001b[0m\u001b[0m\n\u001b[0;32m   1566\u001b[0m         result = str_contains(self._data, pat, case=case, flags=flags, na=na,\n\u001b[1;32m-> 1567\u001b[1;33m                               regex=regex)\n\u001b[0m\u001b[0;32m   1568\u001b[0m         \u001b[1;32mreturn\u001b[0m \u001b[0mself\u001b[0m\u001b[1;33m.\u001b[0m\u001b[0m_wrap_result\u001b[0m\u001b[1;33m(\u001b[0m\u001b[0mresult\u001b[0m\u001b[1;33m)\u001b[0m\u001b[1;33m\u001b[0m\u001b[0m\n\u001b[0;32m   1569\u001b[0m \u001b[1;33m\u001b[0m\u001b[0m\n",
      "\u001b[1;32m~\\Anaconda3\\lib\\site-packages\\pandas\\core\\strings.py\u001b[0m in \u001b[0;36mstr_contains\u001b[1;34m(arr, pat, case, flags, na, regex)\u001b[0m\n\u001b[0;32m    263\u001b[0m             \u001b[0muppered\u001b[0m \u001b[1;33m=\u001b[0m \u001b[0m_na_map\u001b[0m\u001b[1;33m(\u001b[0m\u001b[1;32mlambda\u001b[0m \u001b[0mx\u001b[0m\u001b[1;33m:\u001b[0m \u001b[0mx\u001b[0m\u001b[1;33m.\u001b[0m\u001b[0mupper\u001b[0m\u001b[1;33m(\u001b[0m\u001b[1;33m)\u001b[0m\u001b[1;33m,\u001b[0m \u001b[0marr\u001b[0m\u001b[1;33m)\u001b[0m\u001b[1;33m\u001b[0m\u001b[0m\n\u001b[0;32m    264\u001b[0m             \u001b[1;32mreturn\u001b[0m \u001b[0m_na_map\u001b[0m\u001b[1;33m(\u001b[0m\u001b[0mf\u001b[0m\u001b[1;33m,\u001b[0m \u001b[0muppered\u001b[0m\u001b[1;33m,\u001b[0m \u001b[0mna\u001b[0m\u001b[1;33m,\u001b[0m \u001b[0mdtype\u001b[0m\u001b[1;33m=\u001b[0m\u001b[0mbool\u001b[0m\u001b[1;33m)\u001b[0m\u001b[1;33m\u001b[0m\u001b[0m\n\u001b[1;32m--> 265\u001b[1;33m     \u001b[1;32mreturn\u001b[0m \u001b[0m_na_map\u001b[0m\u001b[1;33m(\u001b[0m\u001b[0mf\u001b[0m\u001b[1;33m,\u001b[0m \u001b[0marr\u001b[0m\u001b[1;33m,\u001b[0m \u001b[0mna\u001b[0m\u001b[1;33m,\u001b[0m \u001b[0mdtype\u001b[0m\u001b[1;33m=\u001b[0m\u001b[0mbool\u001b[0m\u001b[1;33m)\u001b[0m\u001b[1;33m\u001b[0m\u001b[0m\n\u001b[0m\u001b[0;32m    266\u001b[0m \u001b[1;33m\u001b[0m\u001b[0m\n\u001b[0;32m    267\u001b[0m \u001b[1;33m\u001b[0m\u001b[0m\n",
      "\u001b[1;32m~\\Anaconda3\\lib\\site-packages\\pandas\\core\\strings.py\u001b[0m in \u001b[0;36m_na_map\u001b[1;34m(f, arr, na_result, dtype)\u001b[0m\n\u001b[0;32m    154\u001b[0m \u001b[1;32mdef\u001b[0m \u001b[0m_na_map\u001b[0m\u001b[1;33m(\u001b[0m\u001b[0mf\u001b[0m\u001b[1;33m,\u001b[0m \u001b[0marr\u001b[0m\u001b[1;33m,\u001b[0m \u001b[0mna_result\u001b[0m\u001b[1;33m=\u001b[0m\u001b[0mnp\u001b[0m\u001b[1;33m.\u001b[0m\u001b[0mnan\u001b[0m\u001b[1;33m,\u001b[0m \u001b[0mdtype\u001b[0m\u001b[1;33m=\u001b[0m\u001b[0mobject\u001b[0m\u001b[1;33m)\u001b[0m\u001b[1;33m:\u001b[0m\u001b[1;33m\u001b[0m\u001b[0m\n\u001b[0;32m    155\u001b[0m     \u001b[1;31m# should really _check_ for NA\u001b[0m\u001b[1;33m\u001b[0m\u001b[1;33m\u001b[0m\u001b[0m\n\u001b[1;32m--> 156\u001b[1;33m     \u001b[1;32mreturn\u001b[0m \u001b[0m_map\u001b[0m\u001b[1;33m(\u001b[0m\u001b[0mf\u001b[0m\u001b[1;33m,\u001b[0m \u001b[0marr\u001b[0m\u001b[1;33m,\u001b[0m \u001b[0mna_mask\u001b[0m\u001b[1;33m=\u001b[0m\u001b[1;32mTrue\u001b[0m\u001b[1;33m,\u001b[0m \u001b[0mna_value\u001b[0m\u001b[1;33m=\u001b[0m\u001b[0mna_result\u001b[0m\u001b[1;33m,\u001b[0m \u001b[0mdtype\u001b[0m\u001b[1;33m=\u001b[0m\u001b[0mdtype\u001b[0m\u001b[1;33m)\u001b[0m\u001b[1;33m\u001b[0m\u001b[0m\n\u001b[0m\u001b[0;32m    157\u001b[0m \u001b[1;33m\u001b[0m\u001b[0m\n\u001b[0;32m    158\u001b[0m \u001b[1;33m\u001b[0m\u001b[0m\n",
      "\u001b[1;32m~\\Anaconda3\\lib\\site-packages\\pandas\\core\\strings.py\u001b[0m in \u001b[0;36m_map\u001b[1;34m(f, arr, na_mask, na_value, dtype)\u001b[0m\n\u001b[0;32m    169\u001b[0m         \u001b[1;32mtry\u001b[0m\u001b[1;33m:\u001b[0m\u001b[1;33m\u001b[0m\u001b[0m\n\u001b[0;32m    170\u001b[0m             \u001b[0mconvert\u001b[0m \u001b[1;33m=\u001b[0m \u001b[1;32mnot\u001b[0m \u001b[0mall\u001b[0m\u001b[1;33m(\u001b[0m\u001b[0mmask\u001b[0m\u001b[1;33m)\u001b[0m\u001b[1;33m\u001b[0m\u001b[0m\n\u001b[1;32m--> 171\u001b[1;33m             \u001b[0mresult\u001b[0m \u001b[1;33m=\u001b[0m \u001b[0mlib\u001b[0m\u001b[1;33m.\u001b[0m\u001b[0mmap_infer_mask\u001b[0m\u001b[1;33m(\u001b[0m\u001b[0marr\u001b[0m\u001b[1;33m,\u001b[0m \u001b[0mf\u001b[0m\u001b[1;33m,\u001b[0m \u001b[0mmask\u001b[0m\u001b[1;33m.\u001b[0m\u001b[0mview\u001b[0m\u001b[1;33m(\u001b[0m\u001b[0mnp\u001b[0m\u001b[1;33m.\u001b[0m\u001b[0muint8\u001b[0m\u001b[1;33m)\u001b[0m\u001b[1;33m,\u001b[0m \u001b[0mconvert\u001b[0m\u001b[1;33m)\u001b[0m\u001b[1;33m\u001b[0m\u001b[0m\n\u001b[0m\u001b[0;32m    172\u001b[0m         \u001b[1;32mexcept\u001b[0m \u001b[1;33m(\u001b[0m\u001b[0mTypeError\u001b[0m\u001b[1;33m,\u001b[0m \u001b[0mAttributeError\u001b[0m\u001b[1;33m)\u001b[0m \u001b[1;32mas\u001b[0m \u001b[0me\u001b[0m\u001b[1;33m:\u001b[0m\u001b[1;33m\u001b[0m\u001b[0m\n\u001b[0;32m    173\u001b[0m             \u001b[1;31m# Reraise the exception if callable `f` got wrong number of args.\u001b[0m\u001b[1;33m\u001b[0m\u001b[1;33m\u001b[0m\u001b[0m\n",
      "\u001b[1;32mpandas/_libs/src/inference.pyx\u001b[0m in \u001b[0;36mpandas._libs.lib.map_infer_mask\u001b[1;34m()\u001b[0m\n",
      "\u001b[1;32m~\\Anaconda3\\lib\\site-packages\\pandas\\core\\strings.py\u001b[0m in \u001b[0;36m<lambda>\u001b[1;34m(x)\u001b[0m\n\u001b[0;32m    254\u001b[0m                           stacklevel=3)\n\u001b[0;32m    255\u001b[0m \u001b[1;33m\u001b[0m\u001b[0m\n\u001b[1;32m--> 256\u001b[1;33m         \u001b[0mf\u001b[0m \u001b[1;33m=\u001b[0m \u001b[1;32mlambda\u001b[0m \u001b[0mx\u001b[0m\u001b[1;33m:\u001b[0m \u001b[0mbool\u001b[0m\u001b[1;33m(\u001b[0m\u001b[0mregex\u001b[0m\u001b[1;33m.\u001b[0m\u001b[0msearch\u001b[0m\u001b[1;33m(\u001b[0m\u001b[0mx\u001b[0m\u001b[1;33m)\u001b[0m\u001b[1;33m)\u001b[0m\u001b[1;33m\u001b[0m\u001b[0m\n\u001b[0m\u001b[0;32m    257\u001b[0m     \u001b[1;32melse\u001b[0m\u001b[1;33m:\u001b[0m\u001b[1;33m\u001b[0m\u001b[0m\n\u001b[0;32m    258\u001b[0m         \u001b[1;32mif\u001b[0m \u001b[0mcase\u001b[0m\u001b[1;33m:\u001b[0m\u001b[1;33m\u001b[0m\u001b[0m\n",
      "\u001b[1;31mKeyboardInterrupt\u001b[0m: "
     ]
    }
   ],
   "source": [
    "import itertools\n",
    "minimum = 40\n",
    "df = en_lda\n",
    "cluster_col = 'Topic_bow_index'\n",
    "for subset in itertools.combinations(companies, 2):\n",
    "    i = subset[0]\n",
    "    j = subset[1]\n",
    "    prod2 = list(set(df.node[df['link'].str.contains(i)]))\n",
    "    prod3 = list(set(df.node[df['link'].str.contains(j)]))\n",
    "    if i != j and abs((len(prod2)-len(prod3))/(len(prod2)+len(prod3))) < 0.1:\n",
    "        sampe2 = df[df['link'].str.contains(i)]\n",
    "        sampe3 = df[df['link'].str.contains(j)]\n",
    "        clusters2 = list(set(sampe2[cluster_col]))\n",
    "        clusters3 = list(set(sampe3[cluster_col]))\n",
    "        inter_clust23 = list(set(clusters3) & set(clusters2))\n",
    "        prod23 = list(set(df.node[df.node.isin(prod3+prod2) & df[cluster_col].isin(inter_clust23)]))\n",
    "        score = len(prod23)/(len(prod2)+len(prod3))*100\n",
    "        if score < minimum:\n",
    "            print(\"The low percentage: \", score, \" for \", i, \" and \", j)\n",
    "print(\"The lowest percentage: \", minimum, \" for \", comp_i, \" and \", comp_j)"
   ]
  },
  {
   "cell_type": "code",
   "execution_count": 68,
   "metadata": {},
   "outputs": [
    {
     "name": "stdout",
     "output_type": "stream",
     "text": [
      "Number of products in  smarta.ee  is  240\n",
      "Number of products in  elvogue.com  is  272\n",
      "The common products in  smarta.ee  is  17.5\n",
      "The common products in  elvogue.com  is  13.602941176470587\n",
      "The percentage of connected products among all  15.4296875\n"
     ]
    }
   ],
   "source": [
    "def check_companies(comp1, comp2, comp3, df, cluster_col):\n",
    "    prod1 = list(set(df.node[df['link'].str.contains(comp1)]))\n",
    "    prod2 = list(set(df.node[df['link'].str.contains(comp2)]))\n",
    "    prod3 = list(set(df.node[df['link'].str.contains(comp3)]))\n",
    "   # print(\"Number of products in \", comp1, \" is \", len(prod1))\n",
    "    print(\"Number of products in \", comp2, \" is \", len(prod2))\n",
    "    print(\"Number of products in \", comp3, \" is \", len(prod3))\n",
    "    sampe1 = df[df['link'].str.contains(comp1)]\n",
    "    sampe2 = df[df['link'].str.contains(comp2)]\n",
    "    sampe3 = df[df['link'].str.contains(comp3)]\n",
    "    clusters1 = list(set(sampe1[cluster_col]))\n",
    "    clusters2 = list(set(sampe2[cluster_col]))\n",
    "    clusters3 = list(set(sampe3[cluster_col]))\n",
    "    inter_clust12 = list(set(clusters1) & set(clusters2))\n",
    "    inter_clust13 = list(set(clusters1) & set(clusters3))\n",
    "    inter_clust23 = list(set(clusters3) & set(clusters2))\n",
    "    prod12 = list(set(df.node[df.node.isin(prod1+prod2) & df[cluster_col].isin(inter_clust12)]))\n",
    "    prod12_1 = list(set(df.node[df.node.isin(prod1) & df[cluster_col].isin(inter_clust12)]))\n",
    "    prod12_2 = list(set(df.node[df.node.isin(prod2) & df[cluster_col].isin(inter_clust12)]))\n",
    "    prod23 = list(set(df.node[df.node.isin(prod3+prod2) & df[cluster_col].isin(inter_clust23)]))\n",
    "    prod23_2 = list(set(df.node[df.node.isin(prod2) & df[cluster_col].isin(inter_clust23)]))\n",
    "    prod23_3 = list(set(df.node[df.node.isin(prod3) & df[cluster_col].isin(inter_clust23)]))\n",
    "    prod13 = list(set(df.node[df.node.isin(prod1+prod3) & df[cluster_col].isin(inter_clust13)]))\n",
    "    prod13_1 = list(set(df.node[df.node.isin(prod1) & df[cluster_col].isin(inter_clust13)]))\n",
    "    prod13_3 = list(set(df.node[df.node.isin(prod3) & df[cluster_col].isin(inter_clust13)]))\n",
    "   # print(\"The common products for \", comp1, \" and \", comp2, \" is \", len(prod12), ' where ', len(prod12_1), 'is from 1st company and ', len(prod12_2) , 'from 2nd')\n",
    "    print(\"The common products in \", comp2, \" is \", len(prod23_2)/len(prod2)*100)#, ' where ', len(prod23_2), 'is from 1st company and ', len(prod23_3), 'from 2nd')\n",
    "    print(\"The common products in \", comp3, \" is \", len(prod23_3)/len(prod3)*100)\n",
    "    print(\"The percentage of connected products among all \", len(prod23)/(len(prod2)+len(prod3))*100)\n",
    "    # print(\"The common products for \", comp1, \" and \", comp3, \" is \", len(prod13), ' where ', len(prod13_1), 'is from 1st company and ', len(prod13_3), 'from 2nd')\n",
    "    #print(\"Diffrence: \", len(prod2)-len(prod23_2) , \"for first, \", len(prod3)-len(prod23_3) ,' for second')\n",
    "    return prod12, prod23, prod13\n",
    "'''\n",
    "The low percentage:  \n",
    "\n",
    "    4.743083003952568  for  'bigshop.ee', 'kaekellad.ee'\n",
    "    9.523809523809524  for  'arvutiakud.ee', 'sensuale.ee'\n",
    "    4.093567251461988  for  'smarta.ee', 'all4pet.ee'\n",
    "'''\n",
    "prod12, prod23, prod13 = check_companies('koreacosmetics.eu', 'smarta.ee', 'all4pet.ee', en_lda, 'Topic_bow_index')"
   ]
  },
  {
   "cell_type": "code",
   "execution_count": 69,
   "metadata": {
    "collapsed": true
   },
   "outputs": [
    {
     "data": {
      "text/plain": [
       "['marc aurel black formal dress eumarc aurelsize eu smclassic wool dresssequin zipperknit polyester wool new conditionmodel product diana tall wears aurel black formal wool dress eu',\n",
       " 'boss orangesize eunude leather wedgeback zipperheel box dust loved conditionboss orange wedges eu',\n",
       " 'michael korsselma saffiano cow leathergoldtone hardware studdsmichael kors logo strapone pocket zipper closuremany polyester monogram leather feet bagmany dark back bagmeasurements panel cacm bottom loved conditionmichael kors selma satchel',\n",
       " 'otterbox commuter series case cover htc one mini glacier',\n",
       " 'francesco biasiashoulder shoulder leatherreal fur detailssingle pocketzipper closuremeasurements length loved conditionfrancesco biasia shoulder bag',\n",
       " 'otterbox clearly protected sony xperia sp',\n",
       " 'vent mount universal black',\n",
       " 'otterbox clearly skin iphone s seotterbox clearly skin iphone s se',\n",
       " 'iris janvier aline wool dress siris janvier vera lustinasize s mmustard coloreduaaline wool zippercomposition wool polyester new conditionmodel product merilin tall wears janvier aline wool dress s',\n",
       " 'dondupsize eu eu euwhite platform slipon shoesca cm platformin boxmuch loved conditiondondup platform slipons eu',\n",
       " 'love moschinoquilteduacanvasfabricuashoulder bagaluminum chain strapsuaand bag moschino closure inner pocketwidth cacm bottom depth conditionlove moschino tote bag',\n",
       " 'magnet wallet iphone brown',\n",
       " 'otterbox commuter series case htc v',\n",
       " 'magnet wallet iphone plus black',\n",
       " 'otterbox clearly protected case huawei p lite clearotterbox clearly protected case huawei p lite clear',\n",
       " 'christian louboutinyoyo zeppa model heelssize euopen toe heelsheel rubber solesin boxmuch conditionabout christian louboutinfrench designer christian louboutin namesake collection shoes musthaves women addition christian louboutin shoes soles collection line handbags bit shoes clutches toteschristian louboutin yoyo zeppa heels eu',\n",
       " 'otterbox clearly protected alpha glass iphone s',\n",
       " 'otterbox commuter series cover case htc one m black',\n",
       " 'cavallibrown pockets poppersone shoulder strap leather trimjust cavalli logo details bagcolor leather defectsdustbag loved conditionuajust cavalli bag',\n",
       " 'otterbox clearly protected sony xperia go',\n",
       " 'otterbox clearly protected samsung htc mini',\n",
       " 'john richmondsize eu patent leather ankle bootspull boots side box dust price new conditionjohn richmond ankle boots eu',\n",
       " 'otterbox clearly protected lg optimus l ii',\n",
       " 'michael michael korsbeigeuacoloredualeather bagvery leather shoulder straps wareside poppers closing adjustingfront bottom depthmany signs scratches wear loved conditionmichael michael kors bag',\n",
       " 'otterbox symmetry folio ipad mini glacier',\n",
       " 'otterbox clearly protected alpha glass iphone plusotterbox clearly protected alpha glass iphone',\n",
       " 'magnet wallet iphone s plus black',\n",
       " 'louis vuittonbrea monogram vernis color leather detailslong shoulder zipper lv metal protection code wearing sides bagw x h x dcmuahandlecm strap dropcmuashoulder strapcmsmall defect panel corner loved conditionlouis vuitton boxmaker packer luxury brand name years beginnings countryside vuittonus skill innovation determination signature trunks elite marc jacobs helm director house offering bags shoes accessories jewellery making luxury brands vuitton brea bag',\n",
       " 'otterbox clearly protected lg g',\n",
       " 'ted bakersize eu size patter colorsgolden metallic t logo backhard rubber solesno box loved conditionted baker slipon shoes eu',\n",
       " 'lifeproof lifeactiv universal quickmount adaptor caselifeproof lifeactiv universal quickmount adaptor case',\n",
       " 'otterbox defender series htc one x iris',\n",
       " 'patrizia peperedstuds rhinestonesgently worn conditionpatrizia pepe belt',\n",
       " 'armani jeans white classic partially sheer silky blouse itarmani jeanssize it sclassic blousebutton panelscomposition worn conditionmodel product diana tall wears jeans silky it',\n",
       " 'otterbox clearly protected alpha glass iphone',\n",
       " 'otterbox clearly protected series screen protector lg optimus g',\n",
       " 'otterbox clearly protected alpha glass huawei p lite',\n",
       " 'jimmy chooalba shoulder bagnappa hardwarechain shoulder strap pulls grommets top handlesflap top hardware detailalcantara zip pocketfeet bottom bagcm x cm x xmucalbaud italyin dust baglike newuaconditiona jimmy choo style alba office hour available patchwork update wardrobefashion designer jimmy choo quality style handmade womenus shoesuaucwhen father wouldnut shoe sit watchu months months choofashion designer penang malaysia jimmy choo craftsmanship father cobbler shoes worldjimmy choo shoulder bag ucalbaud',\n",
       " 'magnet wallet iphone plus white',\n",
       " 'lifeproof lifeactiv belt clip',\n",
       " 'pradasize euknee pullon bootsshort side zipper ankle damage part salty street dust loved conditionprada knee boots eu',\n",
       " 'swipe wallet iphone plus white',\n",
       " 'otterbox clearly protected alpha glass apple iphone s',\n",
       " 'versaceorange platform toes heelversace logo arch soleleather inner boxbrand new condition',\n",
       " 'otterbox clearly protection fipad mini',\n",
       " 'armani jeansbright color handbaguawith patternblack patent leather bottom handlesside panels size bagsmall zipper inner pocket clasp closurecotton aj material pvcmeasures cacm depth loved conditionarmani jeans bag',\n",
       " 'alpha glass huawei p',\n",
       " 'kenu airframe leather black',\n",
       " 'otterbox clearly protected apple ipad rd gen',\n",
       " 'michael michael korssize us xlstrapless mini dressblack leopard cotton spandex lining polyester spandexfull length bust worn conditionmichael michael kors dress us',\n",
       " 'otterbox clearly protected sony xperia j',\n",
       " 'otterbox clearly skin walpha glass iphone s seotterbox clearly skin walpha glass iphone s se']"
      ]
     },
     "execution_count": 69,
     "metadata": {},
     "output_type": "execute_result"
    }
   ],
   "source": [
    "list(set(en_lda.Nouns[en_lda.node.isin(prod23)]))"
   ]
  },
  {
   "cell_type": "code",
   "execution_count": 70,
   "metadata": {
    "collapsed": true
   },
   "outputs": [
    {
     "data": {
      "text/plain": [
       "['otterbox clearly skin walpha glass iphone s se',\n",
       " 'holdit style phone case iphone s flamingo bloom',\n",
       " 'holdit style phone case iphone s pretty pink',\n",
       " 'fashion case aw iphone aurora red',\n",
       " 'fashion case aw iphone marrakech',\n",
       " 'otterbox defender samsung galaxy tabpro samsung galaxy note edition glacier',\n",
       " 'holdit style phone case iphone s ming blä',\n",
       " 'otterbox strada alpha glass apple iphone serpent u editionud',\n",
       " 'fashion case ss iphone ses island paradise marble',\n",
       " 'otterbox prefix series case apple iphone s carbon',\n",
       " 'fashion case ss iphone ses copper',\n",
       " 'otterbox strada samsung galaxy s brunt saddle',\n",
       " 'holdit selected lucngasand phone case iphone s black silke',\n",
       " 'otterbox strada samsung galaxy s phantom blackotterbox strada samsung galaxy s phantom blacks',\n",
       " 'otterbox preserver case iphone carbon',\n",
       " 'holdit selected apelviken wallet case iphone s black leather',\n",
       " 'holdit selected skrea wallet case iphone s black leathersäde',\n",
       " 'otterbox symmetry iphone black',\n",
       " 'otterbox symmetry iphone s gumballs',\n",
       " 'otterbox clearly protected apple iphone',\n",
       " 'holdit style phone case iphone s capri turquoise',\n",
       " 'holdit selected lucngasand phone case iphone s red snake',\n",
       " 'otterbox clearly protected privacy iphone',\n",
       " 'otterbox strada samsung galaxy s plus brunt saddle',\n",
       " 'fashion case ss iphone pilion pink marble',\n",
       " 'copper pronksuaideal sweden moekollektsioonajatu nagu ta pronks alati moevärvide seas maailmafashion case ss iphone s copper',\n",
       " 'holdit phone case metal iphone s jungle pastel',\n",
       " 'fashion case spring summer iphone royal grey marble',\n",
       " 'holdit selected vikhyddan magnet wallet case iphone s brown leather',\n",
       " 'fashion case spring summer iphone floral romance',\n",
       " 'holdit selected skrea wallet case iphone s brown leathersäde',\n",
       " 'otterbox strada apple iphone new minimalism blackotterbox strada apple iphone new minimalism black',\n",
       " 'otterbox symmetry hybrid pro starry night',\n",
       " 'fashion case aw iphone ocean marble',\n",
       " 'holdit selected trõnningenäs magnet wallet iphone s black leathersäde',\n",
       " 'fashion case ss iphone plus blä polka dots',\n",
       " 'fashion case aw iphone python',\n",
       " 'lifeproof fre apple iphone black',\n",
       " 'otterbox symmetry clear iphone black crystal',\n",
       " 'fashion case aw iphone plus marrakech',\n",
       " 'oterbox clearly cover macbook pro retina',\n",
       " 'fashion case spring summer iphone plus tropical dots',\n",
       " 'otterbox clearly skin walpha glass samsung galaxy s',\n",
       " 'fashion case ss iphone s serenity',\n",
       " 'fashion case ss iphone banana coconut',\n",
       " 'lifeproof fre apple iphone plus asphalt black',\n",
       " 'fashion case aw iphone boho',\n",
       " 'holdit selected lucngasand phone case iphone s blä snake',\n",
       " 'fashion case spring summer iphone black reptile',\n",
       " 'otterbox armor series holster iphone s black',\n",
       " 'holdit selected apelviken wallet case iphone s blä leather',\n",
       " 'otterbox strada apple iphone s saddle brown',\n",
       " 'otterbox commuter series samsung galaxy s black',\n",
       " 'otterbox strada alpha glass apple iphone stone serpent editionud',\n",
       " 'fashion case ss iphone black reptile',\n",
       " 'holdit selected trõnningenäs magnet wallet iphone s brown leathersäde',\n",
       " 'copper pronksuaideal sweden moekollektsioonajatu nagu ta pronks alati moevärvide seas maailmafashion case ss iphone ses copper',\n",
       " 'otterbox strada samsung galaxy s new minimalism blackotterbox strada samsung galaxy s new minimalism black',\n",
       " 'fashion case ss iphone s snorkel blä peach echo',\n",
       " 'otterbox strada samsung galaxy s phantom blacks',\n",
       " 'fashion case aw iphone plus boho',\n",
       " 'otterbox defender samsung galaxy tab black',\n",
       " 'startpakett basic',\n",
       " 'glass iphone plus glass',\n",
       " 'otterbox clearly protected ub nexus',\n",
       " 'water proofotterbox apple iphone s preserver series cover case water submersion minutes phone water mud coffee dust protectionyour otterbox case phone safemain featuresmultilayer protectionwater proofsecure gripaccessibility features glaciermultilayer protectiontwo pieces polycarbonate rubber protection phone scratches knocks drops liquids messesslim sleek designotterbox apple iphone s preserver series cover case case smooth protectionthis case grip case change accessibility features functionwhatus packageotterbox apple iphone s preserver series cover case glacier compatible withapple iphone sotterbox apple iphone s preserver series cover case glacier',\n",
       " 'fashion case ss iphone ses silver',\n",
       " 'fashion case ss iphone floral romance',\n",
       " 'otterbox macbook pro clearly screen protector',\n",
       " 'fashion case ss iphone s green marble',\n",
       " 'lifeproof fre power case apple iphone s asphalt',\n",
       " 'swipe wallet iphone ses brown',\n",
       " 'otterbox preserver case iphone pistacio',\n",
       " 'fashion case aw iphone plus white marble',\n",
       " 'otterbox prefix series case apple iphone s u',\n",
       " 'fashion case ss iphone tropical dots',\n",
       " 'fashion case ss iphone ses pilion pink',\n",
       " 'otterbox clearly protected samsung galaxy s clearly',\n",
       " 'otterbox strada apple iphone burnt saddle brownotterbox strada apple iphone burnt saddle brown',\n",
       " 'fashion case ss iphone s gold',\n",
       " 'otterbox galaxy s vibrant screen protector',\n",
       " 'fashion case spring summer iphone banana coconut',\n",
       " 'otterbox commuter black samsung galaxy s',\n",
       " 'fashion case ss iphone s peach echo',\n",
       " 'fashion case spring summer iphone ses pilion pink',\n",
       " 'fashion case ss iphone s copper',\n",
       " 'otterbox symmetry apple iphone s se glacierotterbox symmetry apple iphone s se glacier',\n",
       " 'fashion case ss iphone monstera jungle',\n",
       " 'otterbox preserver case samsung galaxy s carbon',\n",
       " 'holdit selected norra näs iphone s greenpurple sea shell',\n",
       " 'holdit style phone case iphone s paradise flower',\n",
       " 'fashion case aw iphone plus aurora red',\n",
       " 'fashion case ss iphone ses gold',\n",
       " 'otterbox strada apple iphone burnt saddle brown',\n",
       " 'fashion case aw iphone airy blä',\n",
       " 'otterbox strada samsung galaxy s black',\n",
       " 'otterbox symmetry clear iphone black crystalotterbox symmetry clear iphone black crystal',\n",
       " 'fashion case spring summer iphone pilion pink marble',\n",
       " 'fashion case ss iphone s silver',\n",
       " 'swipe wallet iphone ses black',\n",
       " 'otterbox single port eu wall charger amp',\n",
       " 'fashion case ss iphone moroccan zellige',\n",
       " 'lifeproof nuud apple iphone midnight indigo',\n",
       " 'otterbox symmetry apple iphone s se glacier',\n",
       " 'otterbox reflex ipad pink',\n",
       " 'fashion case aw iphone s python',\n",
       " 'london wallet case iphone black',\n",
       " 'holdit selected lucngasand case iphone s pink silke',\n",
       " 'holdit style phone case iphone s bombay kiss',\n",
       " 'holdit style wallet case iphone s miami beat',\n",
       " 'london wallet case brown',\n",
       " 'otterbox single port eu wall charger ampotterbox single port eu wall charger amp',\n",
       " 'holdit selected lucngasand phone case iphone s pink silke',\n",
       " 'london wallet case iphone plus brown',\n",
       " 'nanoleaf aurora smarter kit panels',\n",
       " 'otterbox dual car charger amp',\n",
       " 'fashion case spring summer iphone ses island paradise marble',\n",
       " 'otterbox clearly skin iphone s walpha glass bundleotterbox clearly skin iphone s walpha glass bundle',\n",
       " 'start kit monitor',\n",
       " 'magnet wallet iphone plus brown',\n",
       " 'fashion case aw iphone plus brown marble',\n",
       " 'otterbox commuter iphone c clacier',\n",
       " 'otterbox strada samsung galaxy s plus black',\n",
       " 'nanoleaf aurora expansion pack panels',\n",
       " 'otterbox commuter case samsung galaxy s iii glacier',\n",
       " 'fashion case aw iphone green marble',\n",
       " 'fashion case spring summer iphone moroccan zellige',\n",
       " 'otterbox privacy ipad',\n",
       " 'fashion case spring summer iphone plus blä polka dots',\n",
       " 'london wallet case iphone plus black',\n",
       " 'otterbox preserver case iphone primrose',\n",
       " 'holdit style phone case iphone s mystic grey',\n",
       " 'fashion case ss iphone ses floral romance',\n",
       " 'otterbox commuter series case samsung galaxy s glacier',\n",
       " 'fashion case ss iphone plus floral romance',\n",
       " 'iboff plugin slim w rem',\n",
       " 'otterbox commuter series case black samsung galaxy s mini',\n",
       " 'otterbox commuter galaxy s greypink',\n",
       " 'otterbox strada alpha glass apple iphone onyx black u editionud']"
      ]
     },
     "execution_count": 70,
     "metadata": {},
     "output_type": "execute_result"
    }
   ],
   "source": [
    "list(set(en_lda.Nouns[~en_lda.node.isin(prod23) & en_lda.link.str.contains('smarta.ee')]))"
   ]
  },
  {
   "cell_type": "code",
   "execution_count": 71,
   "metadata": {
    "collapsed": true
   },
   "outputs": [
    {
     "data": {
      "text/plain": [
       "['hillubs sp feline mature adult active longevity chicken',\n",
       " 'royal canin german shepherd adult pakki pakk tasuta kg',\n",
       " 'hillubs natures best feline mature chicken',\n",
       " 'royal canin golden retriever junior kg',\n",
       " 'royal canin kitten',\n",
       " 'royal canin labrador retriever junior kg',\n",
       " 'orijen dog senior',\n",
       " 'royal canin ultra light jelly g',\n",
       " 'royal canin dachshund adult kg',\n",
       " 'royal canin bengal adult',\n",
       " 'hillus sp puppy small miniature chicken',\n",
       " 'hillus sp feline mature adult g',\n",
       " 'brit premium senior l',\n",
       " 'brit care cat missy',\n",
       " 'acana dog pacifica',\n",
       " 'hillubs sp feline adult optimal care tuna',\n",
       " 'brit care adult large breed lamb rice',\n",
       " 'royal canin urban life junior wet g',\n",
       " 'hillubs sp canine adult advanced fitness medium tuna rice',\n",
       " 'acana heritage dog puppy junior',\n",
       " 'brit care cat crazy iubm kitten',\n",
       " 'brit care puppy grainfree salmonpotato',\n",
       " 'royal canin mini exigent',\n",
       " 'royal canin sport life agility small dog',\n",
       " 'hillus sp hd feline kitten multipack kanamerekala g',\n",
       " 'royal canin babycat milk g',\n",
       " 'hillubs sp feline adult liver chicken',\n",
       " 'royal canin west highland white terrier adult kg',\n",
       " 'royal canin labrador retriever adult kg',\n",
       " 'royal canin intense hairball',\n",
       " 'hillubs sp canine mature adult small miniature',\n",
       " 'royal canin outdoor',\n",
       " 'royal canin maine coon',\n",
       " 'royal canin bulldog adult kg',\n",
       " 'royal canin indoor',\n",
       " 'hillus sp feline mature adult turkey g',\n",
       " 'brit care light turkey rice',\n",
       " 'hillubs sp feline adult light chicken',\n",
       " 'hillubs sp canine adult oral care chicken',\n",
       " 'hillubs sp feline adult chicken g',\n",
       " 'brit care senior all breed lamb rice',\n",
       " 'royal canin pug junior kg',\n",
       " 'hillubs sp feline adult turkey g',\n",
       " 'royal canin mini mature g',\n",
       " 'hillubs sp feline adult optimal care chicken',\n",
       " 'acana classics dog classic red',\n",
       " 'royal canin light',\n",
       " 'brit care junior large breed lambrice',\n",
       " 'hillubs natureubs best canine adult minimedium chicken',\n",
       " 'hillubs spcanine adult advanced fitness turkey g',\n",
       " 'hillus sp feline mature adult chicken g',\n",
       " 'brit care activity all breed lamb ricebrit care activity all breed lamb rice',\n",
       " 'brit care puppy all breed lamb rice hüpoallergeenne toit iga tõugu kuudbrit care puppy all breed lamb rice',\n",
       " 'royal canin indoor long hair',\n",
       " 'hillubs sp feline adult ocean fish',\n",
       " 'royal canin ultra light g',\n",
       " 'royal canin maxi dermacomfort',\n",
       " 'hillubs natureubs best canine adult largegiant chicken',\n",
       " 'royal canin cavalier king charles adult kg',\n",
       " 'royal canin ageing g',\n",
       " 'hillubs sp canine adult advanced fitness large breed lamb rice',\n",
       " 'brit care cat angel iubm delighted senior',\n",
       " 'brit care adult medium breed lamb rice',\n",
       " 'beaphar brewers yeast tablets',\n",
       " 'royal canin sphynx',\n",
       " 'hillubs sp canine mature adult active longevity large breed chicken',\n",
       " 'hillus sp canine adult small miniature light chicken',\n",
       " 'royal canin appetite control',\n",
       " 'hillus sp feline mature adult ocean fish g',\n",
       " 'brit care cat sunny iubve beautiful hair',\n",
       " 'hillubs sp feline optimal care adult chicken g',\n",
       " 'hillubs sp feline adult mix kanakalalooma g',\n",
       " 'royal canin digest sensitive g',\n",
       " 'royal canin yorkshire terrier adult kg',\n",
       " 'royal canin french bulldog junior kg',\n",
       " 'hillubs sp cat young adult tuna',\n",
       " 'hillubs sp feline mature adult cat chicken',\n",
       " 'royal canin jack russell terrier adult kg',\n",
       " 'royal canin maltese adult kg',\n",
       " 'brit care cat chicken cheese g',\n",
       " 'royal canin ageing jelly g',\n",
       " 'hillus sp feline young adult cat chicken g',\n",
       " 'royal canin exigent aromatic attraction',\n",
       " 'royal canin instinctive g',\n",
       " 'royal canin miniature schnauzer adult kg',\n",
       " 'royal canin exigent protein',\n",
       " 'royal canin british shorthair',\n",
       " 'royal canin kitten instinctive jelly g',\n",
       " 'hillubs sp kitten healthy development chicken',\n",
       " 'hillubs sp feline adult sensitive stomach chicken egg rice',\n",
       " 'hillubs sp feline adult indoor cat chicken',\n",
       " 'royal canin xsmall adult',\n",
       " 'royal canin beagle adult kg',\n",
       " 'hillus sp hd feline kitten turkey g',\n",
       " 'royal canin babycat instinctive konserv g',\n",
       " 'hillubs sp feline adult beef g',\n",
       " 'royal canin mother babycat',\n",
       " 'hillubs sp canine adult performance chicken kg',\n",
       " 'royal canin medium dermacomfort',\n",
       " 'hillubs sp canine mature adult active longevity medium chicken',\n",
       " 'hillubs natures best feline adult tuna',\n",
       " 'acana heritage dog senior',\n",
       " 'hillubs sp feline mature adult hairball control chicken kg',\n",
       " 'royal canin oral sensitive',\n",
       " 'royal canin medium adult',\n",
       " 'royal canin maxi starter mother babydog',\n",
       " 'hillus sp canine adult light chicken',\n",
       " 'royal canin kitten instinctive g',\n",
       " 'brit care junior lb grainfree salmonpotato',\n",
       " 'royal canin boxer adult kg',\n",
       " 'orijen dog regional red',\n",
       " 'royal canin giant junior kg',\n",
       " 'royal canin g',\n",
       " 'royal canin mini adult',\n",
       " 'hillubs sp puppy healthy development lamb rice',\n",
       " 'brit care cat lilly iubve sensitive digestion',\n",
       " 'royal canin sport life agility large dog',\n",
       " 'hillubs sp feline adult optimal care rabbit',\n",
       " 'royal canin giant puppy kg',\n",
       " 'hillubs sp canine adult advanced fitness chicken',\n",
       " 'royal canin',\n",
       " 'hillubs sp cat young adult chicken',\n",
       " 'acana senior dog',\n",
       " 'royal canin indoor appetite control',\n",
       " 'hillubs sp canine adult advanced fitness medium chicken',\n",
       " 'royal canin kitten british shorthair',\n",
       " 'hillubs natureubs best canine mature minimedium chicken kg',\n",
       " 'royal canin mini mature',\n",
       " 'royal canin pug adult kg',\n",
       " 'royal canin mini indoor adult',\n",
       " 'hillubs sp feline adult optimal care lamb',\n",
       " 'royal canin maxi adult body condition',\n",
       " 'hillubs sp feline mature adult light chicken kg',\n",
       " 'acana heritage dog puppy sb',\n",
       " 'royal canin sensible',\n",
       " 'royal canin starter mousse konserv g',\n",
       " 'orijen cat regional red',\n",
       " 'royal canin ageing',\n",
       " 'beaphar maltbits cat original',\n",
       " 'hillubs sp kitten healthy development chickenturkey g',\n",
       " 'hillubs sp canine adult sensitive skin chicken',\n",
       " 'royal canin mini junior kg',\n",
       " 'hillubs sp puppy healthy development large breed chicken',\n",
       " 'beaphar junior cal g',\n",
       " 'royal canin maxi junior kg',\n",
       " 'hillubs natures best feline adult chicken',\n",
       " 'hillubs sp canine adult light g',\n",
       " 'hillubs sp feline adult mix chickenturkey g',\n",
       " 'royal canin medium junior kg',\n",
       " 'acana sport agility dog',\n",
       " 'beaphar cat snaps multivitamiini tabletid cat snaps multivitamiini tabletid kassidele tk',\n",
       " 'hillubs sp canine mature adult savoury chicken g',\n",
       " 'hillubs natures best feline kitten chicken',\n",
       " 'royal canin indoor life adult small dog',\n",
       " 'acana heritage dog sportagiliti',\n",
       " 'royal canin maxi adult',\n",
       " 'royal canin xsmall junior kg',\n",
       " 'hillubs sp kitten healthy development tuna',\n",
       " 'acana cat wild prairie',\n",
       " 'royal canin mini dermacomfort',\n",
       " 'royal canin instinctive jelly g',\n",
       " 'royal canin jelly g',\n",
       " 'hillubs natureus best puppy minimedium chicken',\n",
       " 'royal canin urban life senior wet g',\n",
       " 'royal canin urban junior small dog',\n",
       " 'hillubs sp feline mature adult active longevity tuna kg',\n",
       " 'royal canin indoor life senior small dog',\n",
       " 'hillubs sp feline adult salmon g',\n",
       " 'hillus sp feline mature adult multipack chickenocean fish g',\n",
       " 'royal canin sport life endurance',\n",
       " 'royal canin intense beauty g',\n",
       " 'royal canin cocker junior',\n",
       " 'brit care cat chicken cheese kitten g',\n",
       " 'brit care cat chickenduck g',\n",
       " 'royal canin yorkshire terrier junior kg',\n",
       " 'acana dog light fit',\n",
       " 'royal canin german shepherd adult kg',\n",
       " 'royal canin poodle adult kg',\n",
       " 'orijen dog puppy',\n",
       " 'brit care cat sea bream g',\n",
       " 'hillubs sp canine mature adult active longevity lamb rice',\n",
       " 'royal canin poodle junior kg',\n",
       " 'royal canin persian',\n",
       " 'hillubs sp canine adult advanced fitness large breed chicken']"
      ]
     },
     "execution_count": 71,
     "metadata": {},
     "output_type": "execute_result"
    }
   ],
   "source": [
    "list(set(en_lda.Nouns[~en_lda.node.isin(prod23) & en_lda.link.str.contains('all4pet.ee')]))"
   ]
  },
  {
   "cell_type": "code",
   "execution_count": 110,
   "metadata": {},
   "outputs": [
    {
     "name": "stdout",
     "output_type": "stream",
     "text": [
      "Number of products in  smarta.ee  is  240\n",
      "Number of products in  all4pet.ee  is  273\n",
      "The common products in  smarta.ee  is  15.833333333333332\n",
      "The common products in  all4pet.ee  is  94.5054945054945\n",
      "The percentage of connected products among all  57.69980506822612\n"
     ]
    }
   ],
   "source": [
    "prod12_tf, prod23_tf, prod13_tf = check_companies('koreacosmetics.eu',  'smarta.ee', 'all4pet.ee', en_lda, 'Topic_tfidf_index')"
   ]
  },
  {
   "cell_type": "code",
   "execution_count": 75,
   "metadata": {
    "collapsed": true
   },
   "outputs": [
    {
     "data": {
      "text/plain": [
       "['hillubs sp feline mature adult active longevity chicken',\n",
       " 'royal canin german shepherd adult pakki pakk tasuta kg',\n",
       " 'hillubs natures best feline mature chicken',\n",
       " 'royal canin golden retriever junior kg',\n",
       " 'royal canin kitten',\n",
       " 'royal canin labrador retriever junior kg',\n",
       " 'royal canin ultra light jelly g',\n",
       " 'royal canin dachshund adult kg',\n",
       " 'royal canin bengal adult',\n",
       " 'hillus sp feline mature adult g',\n",
       " 'acana dog pacifica',\n",
       " 'hillubs sp feline adult optimal care tuna',\n",
       " 'brit care adult large breed lamb rice',\n",
       " 'royal canin urban life junior wet g',\n",
       " 'hillubs sp canine adult advanced fitness medium tuna rice',\n",
       " 'acana heritage dog puppy junior',\n",
       " 'brit care cat crazy iubm kitten',\n",
       " 'otterbox clearly protected samsung htc mini',\n",
       " 'royal canin mini exigent',\n",
       " 'otterbox clearly protected lg optimus l ii',\n",
       " 'royal canin sport life agility small dog',\n",
       " 'hillus sp hd feline kitten multipack kanamerekala g',\n",
       " 'royal canin babycat milk g',\n",
       " 'hillubs sp feline adult liver chicken',\n",
       " 'royal canin west highland white terrier adult kg',\n",
       " 'royal canin labrador retriever adult kg',\n",
       " 'royal canin intense hairball',\n",
       " 'hillubs sp canine mature adult small miniature',\n",
       " 'otterbox clearly protected privacy iphone',\n",
       " 'royal canin outdoor',\n",
       " 'royal canin maine coon',\n",
       " 'royal canin bulldog adult kg',\n",
       " 'royal canin indoor',\n",
       " 'hillus sp feline mature adult turkey g',\n",
       " 'otterbox clearly protected alpha glass huawei p lite',\n",
       " 'brit care light turkey rice',\n",
       " 'hillubs sp feline adult light chicken',\n",
       " 'hillubs sp canine adult oral care chicken',\n",
       " 'hillubs sp feline adult chicken g',\n",
       " 'brit care senior all breed lamb rice',\n",
       " 'royal canin pug junior kg',\n",
       " 'hillubs sp feline adult turkey g',\n",
       " 'royal canin mini mature g',\n",
       " 'hillubs sp feline adult optimal care chicken',\n",
       " 'otterbox clearly protected alpha glass apple iphone s',\n",
       " 'royal canin light',\n",
       " 'brit care junior large breed lambrice',\n",
       " 'hillubs natureubs best canine adult minimedium chicken',\n",
       " 'hillus sp feline mature adult chicken g',\n",
       " 'hillubs spcanine adult advanced fitness turkey g',\n",
       " 'brit care activity all breed lamb ricebrit care activity all breed lamb rice',\n",
       " 'brit care puppy all breed lamb rice hüpoallergeenne toit iga tõugu kuudbrit care puppy all breed lamb rice',\n",
       " 'royal canin indoor long hair',\n",
       " 'hillubs sp feline adult ocean fish',\n",
       " 'royal canin ultra light g',\n",
       " 'royal canin maxi dermacomfort',\n",
       " 'otterbox clearly protected sony xperia sp',\n",
       " 'hillubs natureubs best canine adult largegiant chicken',\n",
       " 'royal canin cavalier king charles adult kg',\n",
       " 'royal canin ageing g',\n",
       " 'otterbox clearly protected case huawei p lite clearotterbox clearly protected case huawei p lite clear',\n",
       " 'hillubs sp canine adult advanced fitness large breed lamb rice',\n",
       " 'brit care adult medium breed lamb rice',\n",
       " 'beaphar brewers yeast tablets',\n",
       " 'royal canin sphynx',\n",
       " 'hillubs sp canine mature adult active longevity large breed chicken',\n",
       " 'hillus sp canine adult small miniature light chicken',\n",
       " 'royal canin appetite control',\n",
       " 'hillus sp feline mature adult ocean fish g',\n",
       " 'brit care cat sunny iubve beautiful hair',\n",
       " 'hillubs sp feline optimal care adult chicken g',\n",
       " 'hillubs sp feline adult mix kanakalalooma g',\n",
       " 'royal canin digest sensitive g',\n",
       " 'royal canin yorkshire terrier adult kg',\n",
       " 'royal canin french bulldog junior kg',\n",
       " 'hillubs sp cat young adult tuna',\n",
       " 'hillubs sp feline mature adult cat chicken',\n",
       " 'otterbox clearly protected alpha glass iphone',\n",
       " 'royal canin jack russell terrier adult kg',\n",
       " 'royal canin maltese adult kg',\n",
       " 'magnet wallet iphone plus white',\n",
       " 'royal canin ageing jelly g',\n",
       " 'hillus sp feline young adult cat chicken g',\n",
       " 'hillubs sp canine adult advanced fitness large breed chicken',\n",
       " 'royal canin exigent aromatic attraction',\n",
       " 'alpha glass huawei p',\n",
       " 'royal canin instinctive g',\n",
       " 'royal canin miniature schnauzer adult kg',\n",
       " 'royal canin exigent protein',\n",
       " 'otterbox clearly protected apple ipad rd gen',\n",
       " 'royal canin british shorthair',\n",
       " 'royal canin kitten instinctive jelly g',\n",
       " 'hillubs sp kitten healthy development chicken',\n",
       " 'hillubs sp feline adult sensitive stomach chicken egg rice',\n",
       " 'hillubs sp feline adult indoor cat chicken',\n",
       " 'startpakett basic',\n",
       " 'royal canin xsmall adult',\n",
       " 'royal canin beagle adult kg',\n",
       " 'otterbox clearly protected ub nexus',\n",
       " 'otterbox macbook pro clearly screen protector',\n",
       " 'hillus sp hd feline kitten turkey g',\n",
       " 'royal canin babycat instinctive konserv g',\n",
       " 'hillubs sp feline adult beef g',\n",
       " 'royal canin mother babycat',\n",
       " 'hillubs sp canine adult performance chicken kg',\n",
       " 'royal canin medium dermacomfort',\n",
       " 'otterbox clearly protected sony xperia go',\n",
       " 'hillubs sp canine mature adult active longevity medium chicken',\n",
       " 'hillubs natures best feline adult tuna',\n",
       " 'acana heritage dog senior',\n",
       " 'hillubs sp feline mature adult hairball control chicken kg',\n",
       " 'otterbox clearly protected samsung galaxy s clearly',\n",
       " 'royal canin oral sensitive',\n",
       " 'royal canin medium adult',\n",
       " 'royal canin maxi starter mother babydog',\n",
       " 'hillus sp canine adult light chicken',\n",
       " 'royal canin kitten instinctive g',\n",
       " 'brit care junior lb grainfree salmonpotato',\n",
       " 'otterbox clearly protected lg g',\n",
       " 'royal canin boxer adult kg',\n",
       " 'orijen dog regional red',\n",
       " 'royal canin giant junior kg',\n",
       " 'royal canin g',\n",
       " 'royal canin mini adult',\n",
       " 'hillubs sp puppy healthy development lamb rice',\n",
       " 'royal canin sport life agility large dog',\n",
       " 'hillubs sp feline adult optimal care rabbit',\n",
       " 'royal canin giant puppy kg',\n",
       " 'hillubs sp canine adult advanced fitness chicken',\n",
       " 'royal canin',\n",
       " 'hillubs sp cat young adult chicken',\n",
       " 'acana senior dog',\n",
       " 'royal canin indoor appetite control',\n",
       " 'hillubs sp canine adult advanced fitness medium chicken',\n",
       " 'swipe wallet iphone plus white',\n",
       " 'royal canin kitten british shorthair',\n",
       " 'hillubs natureubs best canine mature minimedium chicken kg',\n",
       " 'royal canin mini mature',\n",
       " 'royal canin pug adult kg',\n",
       " 'royal canin mini indoor adult',\n",
       " 'hillubs sp feline adult optimal care lamb',\n",
       " 'kenu airframe leather black',\n",
       " 'royal canin maxi adult body condition',\n",
       " 'hillubs sp feline mature adult light chicken kg',\n",
       " 'acana heritage dog puppy sb',\n",
       " 'royal canin sensible',\n",
       " 'royal canin starter mousse konserv g',\n",
       " 'orijen cat regional red',\n",
       " 'royal canin ageing',\n",
       " 'beaphar maltbits cat original',\n",
       " 'hillubs sp kitten healthy development chickenturkey g',\n",
       " 'hillubs sp canine adult sensitive skin chicken',\n",
       " 'royal canin mini junior kg',\n",
       " 'otterbox clearly protected alpha glass iphone s',\n",
       " 'hillubs sp puppy healthy development large breed chicken',\n",
       " 'beaphar junior cal g',\n",
       " 'royal canin maxi junior kg',\n",
       " 'hillubs natures best feline adult chicken',\n",
       " 'hillubs sp canine adult light g',\n",
       " 'hillubs sp feline adult mix chickenturkey g',\n",
       " 'royal canin medium junior kg',\n",
       " 'acana sport agility dog',\n",
       " 'london wallet case brown',\n",
       " 'otterbox single port eu wall charger ampotterbox single port eu wall charger amp',\n",
       " 'beaphar cat snaps multivitamiini tabletid cat snaps multivitamiini tabletid kassidele tk',\n",
       " 'hillubs sp canine mature adult savoury chicken g',\n",
       " 'otterbox dual car charger amp',\n",
       " 'hillubs natures best feline kitten chicken',\n",
       " 'royal canin indoor life adult small dog',\n",
       " 'otterbox clearly protected alpha glass iphone plusotterbox clearly protected alpha glass iphone',\n",
       " 'acana heritage dog sportagiliti',\n",
       " 'royal canin maxi adult',\n",
       " 'royal canin xsmall junior kg',\n",
       " 'lifeproof lifeactiv universal quickmount adaptor caselifeproof lifeactiv universal quickmount adaptor case',\n",
       " 'hillubs sp kitten healthy development tuna',\n",
       " 'acana cat wild prairie',\n",
       " 'royal canin mini dermacomfort',\n",
       " 'royal canin instinctive jelly g',\n",
       " 'royal canin jelly g',\n",
       " 'royal canin urban life senior wet g',\n",
       " 'otterbox clearly protected series screen protector lg optimus g',\n",
       " 'royal canin urban junior small dog',\n",
       " 'hillubs sp feline mature adult active longevity tuna kg',\n",
       " 'royal canin indoor life senior small dog',\n",
       " 'hillubs sp feline adult salmon g',\n",
       " 'hillus sp feline mature adult multipack chickenocean fish g',\n",
       " 'royal canin sport life endurance',\n",
       " 'royal canin intense beauty g',\n",
       " 'royal canin cocker junior',\n",
       " 'otterbox clearly protection fipad mini',\n",
       " 'royal canin yorkshire terrier junior kg',\n",
       " 'acana dog light fit',\n",
       " 'royal canin german shepherd adult kg',\n",
       " 'royal canin poodle adult kg',\n",
       " 'brit care cat sea bream g',\n",
       " 'hillubs sp canine mature adult active longevity lamb rice',\n",
       " 'royal canin poodle junior kg',\n",
       " 'royal canin persian',\n",
       " 'otterbox clearly protected sony xperia j']"
      ]
     },
     "execution_count": 75,
     "metadata": {},
     "output_type": "execute_result"
    }
   ],
   "source": [
    "list(set(en_lda.Nouns[en_lda.node.isin(prod23_tf)]))"
   ]
  },
  {
   "cell_type": "code",
   "execution_count": 74,
   "metadata": {
    "collapsed": true
   },
   "outputs": [
    {
     "data": {
      "text/plain": [
       "['otterbox clearly skin walpha glass iphone s se',\n",
       " 'holdit style phone case iphone s flamingo bloom',\n",
       " 'holdit style phone case iphone s pretty pink',\n",
       " 'fashion case aw iphone aurora red',\n",
       " 'otterbox clearly skin iphone s seotterbox clearly skin iphone s se',\n",
       " 'fashion case aw iphone marrakech',\n",
       " 'otterbox defender samsung galaxy tabpro samsung galaxy note edition glacier',\n",
       " 'holdit style phone case iphone s ming blä',\n",
       " 'magnet wallet iphone plus black',\n",
       " 'otterbox strada alpha glass apple iphone serpent u editionud',\n",
       " 'fashion case ss iphone ses island paradise marble',\n",
       " 'otterbox prefix series case apple iphone s carbon',\n",
       " 'otterbox commuter series cover case htc one m black',\n",
       " 'fashion case ss iphone ses copper',\n",
       " 'otterbox strada samsung galaxy s brunt saddle',\n",
       " 'holdit selected lucngasand phone case iphone s black silke',\n",
       " 'otterbox strada samsung galaxy s phantom blackotterbox strada samsung galaxy s phantom blacks',\n",
       " 'otterbox preserver case iphone carbon',\n",
       " 'holdit selected apelviken wallet case iphone s black leather',\n",
       " 'holdit selected skrea wallet case iphone s black leathersäde',\n",
       " 'otterbox symmetry iphone black',\n",
       " 'otterbox symmetry iphone s gumballs',\n",
       " 'otterbox clearly protected apple iphone',\n",
       " 'holdit style phone case iphone s capri turquoise',\n",
       " 'holdit selected lucngasand phone case iphone s red snake',\n",
       " 'otterbox strada samsung galaxy s plus brunt saddle',\n",
       " 'fashion case ss iphone pilion pink marble',\n",
       " 'copper pronksuaideal sweden moekollektsioonajatu nagu ta pronks alati moevärvide seas maailmafashion case ss iphone s copper',\n",
       " 'holdit phone case metal iphone s jungle pastel',\n",
       " 'fashion case spring summer iphone royal grey marble',\n",
       " 'otterbox clearly skin walpha glass iphone s seotterbox clearly skin walpha glass iphone s se',\n",
       " 'holdit selected vikhyddan magnet wallet case iphone s brown leather',\n",
       " 'fashion case spring summer iphone floral romance',\n",
       " 'holdit selected skrea wallet case iphone s brown leathersäde',\n",
       " 'otterbox strada apple iphone new minimalism blackotterbox strada apple iphone new minimalism black',\n",
       " 'otterbox symmetry hybrid pro starry night',\n",
       " 'fashion case aw iphone ocean marble',\n",
       " 'holdit selected trõnningenäs magnet wallet iphone s black leathersäde',\n",
       " 'fashion case ss iphone plus blä polka dots',\n",
       " 'fashion case aw iphone python',\n",
       " 'lifeproof fre apple iphone black',\n",
       " 'otterbox symmetry clear iphone black crystal',\n",
       " 'fashion case aw iphone plus marrakech',\n",
       " 'oterbox clearly cover macbook pro retina',\n",
       " 'fashion case spring summer iphone plus tropical dots',\n",
       " 'otterbox clearly skin walpha glass samsung galaxy s',\n",
       " 'fashion case ss iphone s serenity',\n",
       " 'fashion case ss iphone banana coconut',\n",
       " 'lifeproof fre apple iphone plus asphalt black',\n",
       " 'fashion case aw iphone boho',\n",
       " 'holdit selected lucngasand phone case iphone s blä snake',\n",
       " 'otterbox symmetry folio ipad mini glacier',\n",
       " 'fashion case spring summer iphone black reptile',\n",
       " 'otterbox armor series holster iphone s black',\n",
       " 'holdit selected apelviken wallet case iphone s blä leather',\n",
       " 'otterbox strada apple iphone s saddle brown',\n",
       " 'otterbox commuter series samsung galaxy s black',\n",
       " 'otterbox strada alpha glass apple iphone stone serpent editionud',\n",
       " 'fashion case ss iphone black reptile',\n",
       " 'holdit selected trõnningenäs magnet wallet iphone s brown leathersäde',\n",
       " 'copper pronksuaideal sweden moekollektsioonajatu nagu ta pronks alati moevärvide seas maailmafashion case ss iphone ses copper',\n",
       " 'otterbox strada samsung galaxy s new minimalism blackotterbox strada samsung galaxy s new minimalism black',\n",
       " 'fashion case ss iphone s snorkel blä peach echo',\n",
       " 'otterbox strada samsung galaxy s phantom blacks',\n",
       " 'fashion case aw iphone plus boho',\n",
       " 'otterbox defender samsung galaxy tab black',\n",
       " 'glass iphone plus glass',\n",
       " 'water proofotterbox apple iphone s preserver series cover case water submersion minutes phone water mud coffee dust protectionyour otterbox case phone safemain featuresmultilayer protectionwater proofsecure gripaccessibility features glaciermultilayer protectiontwo pieces polycarbonate rubber protection phone scratches knocks drops liquids messesslim sleek designotterbox apple iphone s preserver series cover case case smooth protectionthis case grip case change accessibility features functionwhatus packageotterbox apple iphone s preserver series cover case glacier compatible withapple iphone sotterbox apple iphone s preserver series cover case glacier',\n",
       " 'fashion case ss iphone ses silver',\n",
       " 'fashion case ss iphone floral romance',\n",
       " 'fashion case ss iphone s green marble',\n",
       " 'lifeproof fre power case apple iphone s asphalt',\n",
       " 'swipe wallet iphone ses brown',\n",
       " 'otterbox preserver case iphone pistacio',\n",
       " 'fashion case aw iphone plus white marble',\n",
       " 'otterbox prefix series case apple iphone s u',\n",
       " 'fashion case ss iphone tropical dots',\n",
       " 'fashion case ss iphone ses pilion pink',\n",
       " 'otterbox strada apple iphone burnt saddle brownotterbox strada apple iphone burnt saddle brown',\n",
       " 'fashion case ss iphone s gold',\n",
       " 'otterbox galaxy s vibrant screen protector',\n",
       " 'magnet wallet iphone s plus black',\n",
       " 'fashion case spring summer iphone banana coconut',\n",
       " 'otterbox commuter black samsung galaxy s',\n",
       " 'fashion case ss iphone s peach echo',\n",
       " 'otterbox defender series htc one x iris',\n",
       " 'fashion case spring summer iphone ses pilion pink',\n",
       " 'fashion case ss iphone s copper',\n",
       " 'lifeproof lifeactiv belt clip',\n",
       " 'otterbox symmetry apple iphone s se glacierotterbox symmetry apple iphone s se glacier',\n",
       " 'fashion case ss iphone monstera jungle',\n",
       " 'otterbox preserver case samsung galaxy s carbon',\n",
       " 'holdit selected norra näs iphone s greenpurple sea shell',\n",
       " 'holdit style phone case iphone s paradise flower',\n",
       " 'fashion case aw iphone plus aurora red',\n",
       " 'fashion case ss iphone ses gold',\n",
       " 'otterbox strada apple iphone burnt saddle brown',\n",
       " 'fashion case aw iphone airy blä',\n",
       " 'otterbox strada samsung galaxy s black',\n",
       " 'otterbox symmetry clear iphone black crystalotterbox symmetry clear iphone black crystal',\n",
       " 'fashion case spring summer iphone pilion pink marble',\n",
       " 'fashion case ss iphone s silver',\n",
       " 'otterbox commuter series case cover htc one mini glacier',\n",
       " 'swipe wallet iphone ses black',\n",
       " 'otterbox single port eu wall charger amp',\n",
       " 'fashion case ss iphone moroccan zellige',\n",
       " 'vent mount universal black',\n",
       " 'lifeproof nuud apple iphone midnight indigo',\n",
       " 'otterbox symmetry apple iphone s se glacier',\n",
       " 'magnet wallet iphone brown',\n",
       " 'otterbox commuter series case htc v',\n",
       " 'otterbox reflex ipad pink',\n",
       " 'fashion case aw iphone s python',\n",
       " 'london wallet case iphone black',\n",
       " 'holdit selected lucngasand case iphone s pink silke',\n",
       " 'holdit style phone case iphone s bombay kiss',\n",
       " 'holdit style wallet case iphone s miami beat',\n",
       " 'holdit selected lucngasand phone case iphone s pink silke',\n",
       " 'london wallet case iphone plus brown',\n",
       " 'nanoleaf aurora smarter kit panels',\n",
       " 'fashion case spring summer iphone ses island paradise marble',\n",
       " 'otterbox clearly skin iphone s walpha glass bundleotterbox clearly skin iphone s walpha glass bundle',\n",
       " 'start kit monitor',\n",
       " 'magnet wallet iphone plus brown',\n",
       " 'fashion case aw iphone plus brown marble',\n",
       " 'otterbox commuter iphone c clacier',\n",
       " 'otterbox strada samsung galaxy s plus black',\n",
       " 'nanoleaf aurora expansion pack panels',\n",
       " 'otterbox commuter case samsung galaxy s iii glacier',\n",
       " 'fashion case aw iphone green marble',\n",
       " 'fashion case spring summer iphone moroccan zellige',\n",
       " 'otterbox privacy ipad',\n",
       " 'fashion case spring summer iphone plus blä polka dots',\n",
       " 'london wallet case iphone plus black',\n",
       " 'otterbox preserver case iphone primrose',\n",
       " 'holdit style phone case iphone s mystic grey',\n",
       " 'fashion case ss iphone ses floral romance',\n",
       " 'otterbox commuter series case samsung galaxy s glacier',\n",
       " 'fashion case ss iphone plus floral romance',\n",
       " 'iboff plugin slim w rem',\n",
       " 'otterbox commuter series case black samsung galaxy s mini',\n",
       " 'otterbox commuter galaxy s greypink',\n",
       " 'otterbox strada alpha glass apple iphone onyx black u editionud']"
      ]
     },
     "execution_count": 74,
     "metadata": {},
     "output_type": "execute_result"
    }
   ],
   "source": [
    "list(set(en_lda.Nouns[~en_lda.node.isin(prod23_tf) & en_lda.link.str.contains('smarta.ee')]))"
   ]
  },
  {
   "cell_type": "code",
   "execution_count": 76,
   "metadata": {
    "collapsed": true
   },
   "outputs": [
    {
     "data": {
      "text/plain": [
       "['brit care cat chicken cheese kitten g',\n",
       " 'brit care cat chickenduck g',\n",
       " 'brit care cat angel iubm delighted senior',\n",
       " 'brit care cat chicken cheese g',\n",
       " 'acana classics dog classic red',\n",
       " 'brit care puppy grainfree salmonpotato',\n",
       " 'orijen dog senior',\n",
       " 'brit care cat missy',\n",
       " 'orijen dog puppy',\n",
       " 'brit care cat lilly iubve sensitive digestion',\n",
       " 'hillubs natureus best puppy minimedium chicken',\n",
       " 'hillus sp puppy small miniature chicken',\n",
       " 'brit premium senior l']"
      ]
     },
     "execution_count": 76,
     "metadata": {},
     "output_type": "execute_result"
    }
   ],
   "source": [
    "list(set(en_lda.Nouns[~en_lda.node.isin(prod23_tf) & en_lda.link.str.contains('all4pet.ee')]))"
   ]
  },
  {
   "cell_type": "code",
   "execution_count": 77,
   "metadata": {},
   "outputs": [
    {
     "name": "stdout",
     "output_type": "stream",
     "text": [
      "Number of products in  smarta.ee  is  240\n",
      "Number of products in  all4pet.ee  is  273\n",
      "The common products in  smarta.ee  is  11.25\n",
      "The common products in  all4pet.ee  is  72.52747252747253\n",
      "The percentage of connected products among all  43.859649122807014\n"
     ]
    }
   ],
   "source": [
    "prod12_km, prod23_km, prod13_km = check_companies('koreacosmetics.eu',  'smarta.ee', 'all4pet.ee', en_kmeans_sep, 'Clusters')"
   ]
  },
  {
   "cell_type": "code",
   "execution_count": 78,
   "metadata": {
    "collapsed": true
   },
   "outputs": [
    {
     "data": {
      "text/plain": [
       "['hillubs sp feline mature adult active longevity chicken',\n",
       " 'royal canin german shepherd adult pakki pakk tasuta kg',\n",
       " 'royal canin golden retriever junior kg',\n",
       " 'royal canin kitten',\n",
       " 'otterbox clearly skin walpha glass iphone s se',\n",
       " 'royal canin labrador retriever junior kg',\n",
       " 'fashion case aw iphone aurora red',\n",
       " 'otterbox clearly skin iphone s seotterbox clearly skin iphone s se',\n",
       " 'royal canin dachshund adult kg',\n",
       " 'royal canin bengal adult',\n",
       " 'hillus sp puppy small miniature chicken',\n",
       " 'hillus sp feline mature adult g',\n",
       " 'brit premium senior l',\n",
       " 'hillubs sp feline adult optimal care tuna',\n",
       " 'hillubs sp canine adult advanced fitness medium tuna rice',\n",
       " 'otterbox clearly protected samsung htc mini',\n",
       " 'royal canin mini exigent',\n",
       " 'otterbox clearly protected lg optimus l ii',\n",
       " 'royal canin sport life agility small dog',\n",
       " 'hillus sp hd feline kitten multipack kanamerekala g',\n",
       " 'hillubs sp feline adult liver chicken',\n",
       " 'royal canin labrador retriever adult kg',\n",
       " 'royal canin intense hairball',\n",
       " 'hillubs sp canine mature adult small miniature',\n",
       " 'holdit selected lucngasand phone case iphone s red snake',\n",
       " 'royal canin outdoor',\n",
       " 'royal canin maine coon',\n",
       " 'royal canin bulldog adult kg',\n",
       " 'royal canin indoor',\n",
       " 'hillus sp feline mature adult turkey g',\n",
       " 'hillubs sp feline adult light chicken',\n",
       " 'hillubs sp canine adult oral care chicken',\n",
       " 'hillubs sp feline adult chicken g',\n",
       " 'hillubs sp feline adult optimal care chicken',\n",
       " 'hillubs sp feline adult turkey g',\n",
       " 'royal canin mini mature g',\n",
       " 'acana classics dog classic red',\n",
       " 'royal canin light',\n",
       " 'fashion case spring summer iphone royal grey marble',\n",
       " 'hillus sp feline mature adult chicken g',\n",
       " 'otterbox clearly skin walpha glass iphone s seotterbox clearly skin walpha glass iphone s se',\n",
       " 'hillubs sp feline adult ocean fish',\n",
       " 'royal canin ultra light g',\n",
       " 'fashion case aw iphone ocean marble',\n",
       " 'royal canin maxi dermacomfort',\n",
       " 'otterbox clearly protected sony xperia sp',\n",
       " 'royal canin ageing g',\n",
       " 'hillubs sp canine adult advanced fitness large breed lamb rice',\n",
       " 'otterbox clearly skin walpha glass samsung galaxy s',\n",
       " 'royal canin sphynx',\n",
       " 'hillubs sp canine mature adult active longevity large breed chicken',\n",
       " 'hillus sp canine adult small miniature light chicken',\n",
       " 'royal canin appetite control',\n",
       " 'otterbox symmetry folio ipad mini glacier',\n",
       " 'hillus sp feline mature adult ocean fish g',\n",
       " 'hillubs sp feline optimal care adult chicken g',\n",
       " 'hillubs sp feline adult mix kanakalalooma g',\n",
       " 'royal canin digest sensitive g',\n",
       " 'royal canin yorkshire terrier adult kg',\n",
       " 'royal canin french bulldog junior kg',\n",
       " 'hillubs sp cat young adult tuna',\n",
       " 'hillubs sp feline mature adult cat chicken',\n",
       " 'hillus sp feline young adult cat chicken g',\n",
       " 'royal canin instinctive g',\n",
       " 'royal canin exigent aromatic attraction',\n",
       " 'royal canin miniature schnauzer adult kg',\n",
       " 'royal canin exigent protein',\n",
       " 'royal canin british shorthair',\n",
       " 'hillubs sp kitten healthy development chicken',\n",
       " 'hillubs sp feline adult sensitive stomach chicken egg rice',\n",
       " 'hillubs sp feline adult indoor cat chicken',\n",
       " 'royal canin xsmall adult',\n",
       " 'royal canin beagle adult kg',\n",
       " 'hillus sp hd feline kitten turkey g',\n",
       " 'royal canin babycat instinctive konserv g',\n",
       " 'hillubs sp feline adult beef g',\n",
       " 'royal canin mother babycat',\n",
       " 'hillubs sp canine adult performance chicken kg',\n",
       " 'royal canin medium dermacomfort',\n",
       " 'hillubs sp canine mature adult active longevity medium chicken',\n",
       " 'hillubs sp feline mature adult hairball control chicken kg',\n",
       " 'royal canin oral sensitive',\n",
       " 'royal canin medium adult',\n",
       " 'royal canin maxi starter mother babydog',\n",
       " 'hillus sp canine adult light chicken',\n",
       " 'royal canin kitten instinctive g',\n",
       " 'otterbox clearly protected lg g',\n",
       " 'orijen dog regional red',\n",
       " 'royal canin giant junior kg',\n",
       " 'royal canin g',\n",
       " 'royal canin mini adult',\n",
       " 'hillubs sp puppy healthy development lamb rice',\n",
       " 'royal canin sport life agility large dog',\n",
       " 'hillubs sp feline adult optimal care rabbit',\n",
       " 'hillubs sp canine adult advanced fitness chicken',\n",
       " 'royal canin',\n",
       " 'hillubs sp cat young adult chicken',\n",
       " 'royal canin indoor appetite control',\n",
       " 'hillubs sp canine adult advanced fitness medium chicken',\n",
       " 'royal canin mini mature',\n",
       " 'royal canin mini indoor adult',\n",
       " 'hillubs sp feline adult optimal care lamb',\n",
       " 'fashion case aw iphone plus aurora red',\n",
       " 'holdit selected norra näs iphone s greenpurple sea shell',\n",
       " 'hillubs sp feline mature adult light chicken kg',\n",
       " 'royal canin sensible',\n",
       " 'royal canin starter mousse konserv g',\n",
       " 'orijen cat regional red',\n",
       " 'otterbox commuter series case cover htc one mini glacier',\n",
       " 'royal canin ageing',\n",
       " 'hillubs sp kitten healthy development chickenturkey g',\n",
       " 'hillubs sp canine adult sensitive skin chicken',\n",
       " 'royal canin mini junior kg',\n",
       " 'hillubs sp puppy healthy development large breed chicken',\n",
       " 'royal canin maxi junior kg',\n",
       " 'hillubs sp canine adult light g',\n",
       " 'hillubs sp feline adult mix chickenturkey g',\n",
       " 'royal canin medium junior kg',\n",
       " 'hillubs sp canine mature adult savoury chicken g',\n",
       " 'royal canin indoor life adult small dog',\n",
       " 'otterbox clearly skin iphone s walpha glass bundleotterbox clearly skin iphone s walpha glass bundle',\n",
       " 'royal canin maxi adult',\n",
       " 'hillubs sp kitten healthy development tuna',\n",
       " 'royal canin mini dermacomfort',\n",
       " 'royal canin instinctive jelly g',\n",
       " 'royal canin jelly g',\n",
       " 'hillubs sp feline mature adult active longevity tuna kg',\n",
       " 'otterbox clearly protected series screen protector lg optimus g',\n",
       " 'royal canin urban junior small dog',\n",
       " 'royal canin indoor life senior small dog',\n",
       " 'hillubs sp feline adult salmon g',\n",
       " 'hillus sp feline mature adult multipack chickenocean fish g',\n",
       " 'royal canin sport life endurance',\n",
       " 'royal canin intense beauty g',\n",
       " 'royal canin cocker junior',\n",
       " 'royal canin yorkshire terrier junior kg',\n",
       " 'royal canin german shepherd adult kg',\n",
       " 'royal canin poodle adult kg',\n",
       " 'otterbox commuter series case black samsung galaxy s mini',\n",
       " 'hillubs sp canine mature adult active longevity lamb rice',\n",
       " 'brit care cat sea bream g',\n",
       " 'royal canin poodle junior kg',\n",
       " 'royal canin persian',\n",
       " 'hillubs sp canine adult advanced fitness large breed chicken']"
      ]
     },
     "execution_count": 78,
     "metadata": {},
     "output_type": "execute_result"
    }
   ],
   "source": [
    "list(set(en_kmeans_sep.Nouns[en_kmeans_sep.node.isin(prod23_km)]))"
   ]
  },
  {
   "cell_type": "code",
   "execution_count": 79,
   "metadata": {
    "collapsed": true
   },
   "outputs": [
    {
     "data": {
      "text/plain": [
       "['holdit style phone case iphone s flamingo bloom',\n",
       " 'holdit style phone case iphone s pretty pink',\n",
       " 'fashion case aw iphone marrakech',\n",
       " 'otterbox defender samsung galaxy tabpro samsung galaxy note edition glacier',\n",
       " 'holdit style phone case iphone s ming blä',\n",
       " 'magnet wallet iphone plus black',\n",
       " 'otterbox strada alpha glass apple iphone serpent u editionud',\n",
       " 'fashion case ss iphone ses island paradise marble',\n",
       " 'otterbox prefix series case apple iphone s carbon',\n",
       " 'otterbox commuter series cover case htc one m black',\n",
       " 'fashion case ss iphone ses copper',\n",
       " 'otterbox strada samsung galaxy s brunt saddle',\n",
       " 'holdit selected lucngasand phone case iphone s black silke',\n",
       " 'otterbox strada samsung galaxy s phantom blackotterbox strada samsung galaxy s phantom blacks',\n",
       " 'otterbox preserver case iphone carbon',\n",
       " 'holdit selected apelviken wallet case iphone s black leather',\n",
       " 'holdit selected skrea wallet case iphone s black leathersäde',\n",
       " 'otterbox symmetry iphone black',\n",
       " 'otterbox symmetry iphone s gumballs',\n",
       " 'otterbox clearly protected apple iphone',\n",
       " 'holdit style phone case iphone s capri turquoise',\n",
       " 'otterbox clearly protected privacy iphone',\n",
       " 'otterbox strada samsung galaxy s plus brunt saddle',\n",
       " 'fashion case ss iphone pilion pink marble',\n",
       " 'copper pronksuaideal sweden moekollektsioonajatu nagu ta pronks alati moevärvide seas maailmafashion case ss iphone s copper',\n",
       " 'otterbox clearly protected alpha glass huawei p lite',\n",
       " 'holdit phone case metal iphone s jungle pastel',\n",
       " 'otterbox clearly protected alpha glass apple iphone s',\n",
       " 'holdit selected vikhyddan magnet wallet case iphone s brown leather',\n",
       " 'fashion case spring summer iphone floral romance',\n",
       " 'holdit selected skrea wallet case iphone s brown leathersäde',\n",
       " 'otterbox strada apple iphone new minimalism blackotterbox strada apple iphone new minimalism black',\n",
       " 'otterbox symmetry hybrid pro starry night',\n",
       " 'holdit selected trõnningenäs magnet wallet iphone s black leathersäde',\n",
       " 'fashion case ss iphone plus blä polka dots',\n",
       " 'fashion case aw iphone python',\n",
       " 'lifeproof fre apple iphone black',\n",
       " 'otterbox symmetry clear iphone black crystal',\n",
       " 'fashion case aw iphone plus marrakech',\n",
       " 'otterbox clearly protected case huawei p lite clearotterbox clearly protected case huawei p lite clear',\n",
       " 'oterbox clearly cover macbook pro retina',\n",
       " 'fashion case spring summer iphone plus tropical dots',\n",
       " 'fashion case ss iphone s serenity',\n",
       " 'fashion case ss iphone banana coconut',\n",
       " 'lifeproof fre apple iphone plus asphalt black',\n",
       " 'fashion case aw iphone boho',\n",
       " 'holdit selected lucngasand phone case iphone s blä snake',\n",
       " 'fashion case spring summer iphone black reptile',\n",
       " 'otterbox armor series holster iphone s black',\n",
       " 'holdit selected apelviken wallet case iphone s blä leather',\n",
       " 'otterbox clearly protected alpha glass iphone',\n",
       " 'otterbox strada apple iphone s saddle brown',\n",
       " 'magnet wallet iphone plus white',\n",
       " 'otterbox commuter series samsung galaxy s black',\n",
       " 'otterbox strada alpha glass apple iphone stone serpent editionud',\n",
       " 'fashion case ss iphone black reptile',\n",
       " 'holdit selected trõnningenäs magnet wallet iphone s brown leathersäde',\n",
       " 'alpha glass huawei p',\n",
       " 'copper pronksuaideal sweden moekollektsioonajatu nagu ta pronks alati moevärvide seas maailmafashion case ss iphone ses copper',\n",
       " 'otterbox strada samsung galaxy s new minimalism blackotterbox strada samsung galaxy s new minimalism black',\n",
       " 'fashion case ss iphone s snorkel blä peach echo',\n",
       " 'otterbox strada samsung galaxy s phantom blacks',\n",
       " 'fashion case aw iphone plus boho',\n",
       " 'otterbox clearly protected apple ipad rd gen',\n",
       " 'otterbox defender samsung galaxy tab black',\n",
       " 'startpakett basic',\n",
       " 'glass iphone plus glass',\n",
       " 'otterbox clearly protected ub nexus',\n",
       " 'water proofotterbox apple iphone s preserver series cover case water submersion minutes phone water mud coffee dust protectionyour otterbox case phone safemain featuresmultilayer protectionwater proofsecure gripaccessibility features glaciermultilayer protectiontwo pieces polycarbonate rubber protection phone scratches knocks drops liquids messesslim sleek designotterbox apple iphone s preserver series cover case case smooth protectionthis case grip case change accessibility features functionwhatus packageotterbox apple iphone s preserver series cover case glacier compatible withapple iphone sotterbox apple iphone s preserver series cover case glacier',\n",
       " 'fashion case ss iphone ses silver',\n",
       " 'fashion case ss iphone floral romance',\n",
       " 'otterbox macbook pro clearly screen protector',\n",
       " 'fashion case ss iphone s green marble',\n",
       " 'lifeproof fre power case apple iphone s asphalt',\n",
       " 'swipe wallet iphone ses brown',\n",
       " 'otterbox preserver case iphone pistacio',\n",
       " 'fashion case aw iphone plus white marble',\n",
       " 'otterbox prefix series case apple iphone s u',\n",
       " 'otterbox clearly protected sony xperia go',\n",
       " 'fashion case ss iphone tropical dots',\n",
       " 'fashion case ss iphone ses pilion pink',\n",
       " 'otterbox clearly protected samsung galaxy s clearly',\n",
       " 'fashion case ss iphone s gold',\n",
       " 'otterbox galaxy s vibrant screen protector',\n",
       " 'otterbox strada apple iphone burnt saddle brownotterbox strada apple iphone burnt saddle brown',\n",
       " 'magnet wallet iphone s plus black',\n",
       " 'fashion case spring summer iphone banana coconut',\n",
       " 'otterbox commuter black samsung galaxy s',\n",
       " 'fashion case ss iphone s peach echo',\n",
       " 'otterbox defender series htc one x iris',\n",
       " 'fashion case spring summer iphone ses pilion pink',\n",
       " 'fashion case ss iphone s copper',\n",
       " 'lifeproof lifeactiv belt clip',\n",
       " 'swipe wallet iphone plus white',\n",
       " 'otterbox symmetry apple iphone s se glacierotterbox symmetry apple iphone s se glacier',\n",
       " 'fashion case ss iphone monstera jungle',\n",
       " 'otterbox preserver case samsung galaxy s carbon',\n",
       " 'holdit style phone case iphone s paradise flower',\n",
       " 'kenu airframe leather black',\n",
       " 'fashion case ss iphone ses gold',\n",
       " 'otterbox strada apple iphone burnt saddle brown',\n",
       " 'fashion case aw iphone airy blä',\n",
       " 'otterbox strada samsung galaxy s black',\n",
       " 'otterbox symmetry clear iphone black crystalotterbox symmetry clear iphone black crystal',\n",
       " 'fashion case spring summer iphone pilion pink marble',\n",
       " 'fashion case ss iphone s silver',\n",
       " 'otterbox commuter series case cover htc one mini glacier',\n",
       " 'swipe wallet iphone ses black',\n",
       " 'otterbox single port eu wall charger amp',\n",
       " 'fashion case ss iphone moroccan zellige',\n",
       " 'vent mount universal black',\n",
       " 'lifeproof nuud apple iphone midnight indigo',\n",
       " 'otterbox symmetry apple iphone s se glacier',\n",
       " 'magnet wallet iphone brown',\n",
       " 'otterbox commuter series case htc v',\n",
       " 'otterbox reflex ipad pink',\n",
       " 'otterbox clearly protected alpha glass iphone s',\n",
       " 'fashion case aw iphone s python',\n",
       " 'london wallet case iphone black',\n",
       " 'holdit selected lucngasand case iphone s pink silke',\n",
       " 'holdit style phone case iphone s bombay kiss',\n",
       " 'holdit style wallet case iphone s miami beat',\n",
       " 'london wallet case brown',\n",
       " 'otterbox single port eu wall charger ampotterbox single port eu wall charger amp',\n",
       " 'holdit selected lucngasand phone case iphone s pink silke',\n",
       " 'london wallet case iphone plus brown',\n",
       " 'nanoleaf aurora smarter kit panels',\n",
       " 'otterbox dual car charger amp',\n",
       " 'fashion case spring summer iphone ses island paradise marble',\n",
       " 'otterbox clearly protected alpha glass iphone plusotterbox clearly protected alpha glass iphone',\n",
       " 'start kit monitor',\n",
       " 'magnet wallet iphone plus brown',\n",
       " 'fashion case aw iphone plus brown marble',\n",
       " 'otterbox commuter iphone c clacier',\n",
       " 'otterbox strada samsung galaxy s plus black',\n",
       " 'nanoleaf aurora expansion pack panels',\n",
       " 'otterbox commuter case samsung galaxy s iii glacier',\n",
       " 'lifeproof lifeactiv universal quickmount adaptor caselifeproof lifeactiv universal quickmount adaptor case',\n",
       " 'fashion case aw iphone green marble',\n",
       " 'fashion case spring summer iphone moroccan zellige',\n",
       " 'otterbox privacy ipad',\n",
       " 'fashion case spring summer iphone plus blä polka dots',\n",
       " 'london wallet case iphone plus black',\n",
       " 'otterbox preserver case iphone primrose',\n",
       " 'holdit style phone case iphone s mystic grey',\n",
       " 'fashion case ss iphone ses floral romance',\n",
       " 'otterbox commuter series case samsung galaxy s glacier',\n",
       " 'otterbox clearly protection fipad mini',\n",
       " 'fashion case ss iphone plus floral romance',\n",
       " 'iboff plugin slim w rem',\n",
       " 'otterbox commuter galaxy s greypink',\n",
       " 'otterbox clearly protected sony xperia j',\n",
       " 'otterbox strada alpha glass apple iphone onyx black u editionud']"
      ]
     },
     "execution_count": 79,
     "metadata": {},
     "output_type": "execute_result"
    }
   ],
   "source": [
    "list(set(en_kmeans_sep.Nouns[~en_kmeans_sep.node.isin(prod23_km) & en_kmeans_sep.link.str.contains('smarta.ee')]))"
   ]
  },
  {
   "cell_type": "code",
   "execution_count": 80,
   "metadata": {
    "collapsed": true
   },
   "outputs": [
    {
     "data": {
      "text/plain": [
       "['brit care puppy all breed lamb rice hüpoallergeenne toit iga tõugu kuudbrit care puppy all breed lamb rice',\n",
       " 'royal canin indoor long hair',\n",
       " 'hillubs natures best feline mature chicken',\n",
       " 'acana heritage dog puppy sb',\n",
       " 'orijen dog senior',\n",
       " 'royal canin ultra light jelly g',\n",
       " 'hillubs natureubs best canine adult largegiant chicken',\n",
       " 'beaphar maltbits cat original',\n",
       " 'brit care cat missy',\n",
       " 'royal canin cavalier king charles adult kg',\n",
       " 'acana dog pacifica',\n",
       " 'beaphar junior cal g',\n",
       " 'brit care cat angel iubm delighted senior',\n",
       " 'brit care adult large breed lamb rice',\n",
       " 'hillubs natures best feline adult chicken',\n",
       " 'royal canin urban life junior wet g',\n",
       " 'acana heritage dog puppy junior',\n",
       " 'brit care cat crazy iubm kitten',\n",
       " 'brit care puppy grainfree salmonpotato',\n",
       " 'brit care adult medium breed lamb rice',\n",
       " 'acana sport agility dog',\n",
       " 'hillubs natures best feline adult tuna',\n",
       " 'beaphar brewers yeast tablets',\n",
       " 'beaphar cat snaps multivitamiini tabletid cat snaps multivitamiini tabletid kassidele tk',\n",
       " 'acana heritage dog senior',\n",
       " 'hillubs natures best feline kitten chicken',\n",
       " 'brit care cat sunny iubve beautiful hair',\n",
       " 'acana heritage dog sportagiliti',\n",
       " 'royal canin babycat milk g',\n",
       " 'royal canin west highland white terrier adult kg',\n",
       " 'brit care junior lb grainfree salmonpotato',\n",
       " 'royal canin boxer adult kg',\n",
       " 'royal canin xsmall junior kg',\n",
       " 'acana cat wild prairie',\n",
       " 'brit care cat lilly iubve sensitive digestion',\n",
       " 'hillubs natureus best puppy minimedium chicken',\n",
       " 'royal canin jack russell terrier adult kg',\n",
       " 'royal canin urban life senior wet g',\n",
       " 'royal canin giant puppy kg',\n",
       " 'royal canin maltese adult kg',\n",
       " 'acana senior dog',\n",
       " 'brit care light turkey rice',\n",
       " 'royal canin pug junior kg',\n",
       " 'brit care senior all breed lamb rice',\n",
       " 'brit care cat chicken cheese kitten g',\n",
       " 'brit care cat chickenduck g',\n",
       " 'brit care cat chicken cheese g',\n",
       " 'royal canin kitten british shorthair',\n",
       " 'royal canin ageing jelly g',\n",
       " 'hillubs natureubs best canine mature minimedium chicken kg',\n",
       " 'brit care junior large breed lambrice',\n",
       " 'royal canin pug adult kg',\n",
       " 'acana dog light fit',\n",
       " 'orijen dog puppy',\n",
       " 'hillubs natureubs best canine adult minimedium chicken',\n",
       " 'royal canin maxi adult body condition',\n",
       " 'hillubs spcanine adult advanced fitness turkey g',\n",
       " 'royal canin kitten instinctive jelly g',\n",
       " 'brit care activity all breed lamb ricebrit care activity all breed lamb rice']"
      ]
     },
     "execution_count": 80,
     "metadata": {},
     "output_type": "execute_result"
    }
   ],
   "source": [
    "list(set(en_kmeans_sep.Nouns[~en_kmeans_sep.node.isin(prod23_km) & en_kmeans_sep.link.str.contains('all4pet.ee')]))"
   ]
  },
  {
   "cell_type": "code",
   "execution_count": 81,
   "metadata": {
    "scrolled": true
   },
   "outputs": [
    {
     "name": "stdout",
     "output_type": "stream",
     "text": [
      "Number of products in  smarta.ee  is  239\n",
      "Number of products in  all4pet.ee  is  271\n",
      "The common products in  smarta.ee  is  2.928870292887029\n",
      "The common products in  all4pet.ee  is  46.125461254612546\n",
      "The percentage of connected products among all  25.882352941176475\n"
     ]
    }
   ],
   "source": [
    "prod12_kwtf, prod23_kwtf, prod13_kwtf = check_companies('koreacosmetics.eu', 'smarta.ee', 'all4pet.ee', en_tfidf_sep, 'Clusters')"
   ]
  },
  {
   "cell_type": "code",
   "execution_count": 82,
   "metadata": {
    "collapsed": true
   },
   "outputs": [
    {
     "data": {
      "text/plain": [
       "['royal canin german shepherd adult pakki pakk tasuta kg',\n",
       " 'royal canin xsmall adult',\n",
       " 'royal canin beagle adult kg',\n",
       " 'royal canin golden retriever junior kg',\n",
       " 'hillubs sp feline adult ocean fish',\n",
       " 'royal canin kitten',\n",
       " 'royal canin ultra light g',\n",
       " 'royal canin poodle junior kg',\n",
       " 'royal canin sensible',\n",
       " 'fashion case aw iphone ocean marble',\n",
       " 'royal canin maxi dermacomfort',\n",
       " 'orijen cat regional red',\n",
       " 'fashion case aw iphone aurora red',\n",
       " 'royal canin ultra light jelly g',\n",
       " 'royal canin ageing',\n",
       " 'royal canin dachshund adult kg',\n",
       " 'royal canin bengal adult',\n",
       " 'royal canin mini dermacomfort',\n",
       " 'royal canin babycat instinctive konserv g',\n",
       " 'royal canin ageing g',\n",
       " 'royal canin mini junior kg',\n",
       " 'royal canin mother babycat',\n",
       " 'royal canin maxi junior kg',\n",
       " 'royal canin medium dermacomfort',\n",
       " 'royal canin medium junior kg',\n",
       " 'royal canin mini exigent',\n",
       " 'royal canin sphynx',\n",
       " 'royal canin appetite control',\n",
       " 'hillus sp feline mature adult ocean fish g',\n",
       " 'royal canin oral sensitive',\n",
       " 'royal canin medium adult',\n",
       " 'royal canin babycat milk g',\n",
       " 'royal canin digest sensitive g',\n",
       " 'royal canin maxi starter mother babydog',\n",
       " 'royal canin kitten instinctive g',\n",
       " 'royal canin west highland white terrier adult kg',\n",
       " 'royal canin intense hairball',\n",
       " 'royal canin boxer adult kg',\n",
       " 'royal canin xsmall junior kg',\n",
       " 'royal canin maxi adult',\n",
       " 'orijen dog regional red',\n",
       " 'royal canin giant junior kg',\n",
       " 'royal canin outdoor',\n",
       " 'royal canin instinctive jelly g',\n",
       " 'royal canin french bulldog junior kg',\n",
       " 'royal canin jelly g',\n",
       " 'royal canin g',\n",
       " 'royal canin yorkshire terrier adult kg',\n",
       " 'royal canin mini adult',\n",
       " 'royal canin bulldog adult kg',\n",
       " 'royal canin maine coon',\n",
       " 'royal canin jack russell terrier adult kg',\n",
       " 'royal canin indoor',\n",
       " 'royal canin giant puppy kg',\n",
       " 'royal canin',\n",
       " 'royal canin maltese adult kg',\n",
       " 'royal canin sport life endurance',\n",
       " 'royal canin pug junior kg',\n",
       " 'royal canin intense beauty g',\n",
       " 'royal canin cocker junior',\n",
       " 'royal canin indoor appetite control',\n",
       " 'royal canin mini mature g',\n",
       " 'royal canin kitten british shorthair',\n",
       " 'royal canin ageing jelly g',\n",
       " 'royal canin instinctive g',\n",
       " 'royal canin exigent aromatic attraction',\n",
       " 'royal canin mini mature',\n",
       " 'royal canin light',\n",
       " 'otterbox clearly protection fipad mini',\n",
       " 'royal canin pug adult kg',\n",
       " 'royal canin mini indoor adult',\n",
       " 'royal canin miniature schnauzer adult kg',\n",
       " 'royal canin german shepherd adult kg',\n",
       " 'royal canin poodle adult kg',\n",
       " 'holdit selected norra näs iphone s greenpurple sea shell',\n",
       " 'brit care cat sea bream g',\n",
       " 'fashion case spring summer iphone royal grey marble',\n",
       " 'royal canin yorkshire terrier junior kg',\n",
       " 'royal canin exigent protein',\n",
       " 'royal canin persian',\n",
       " 'royal canin british shorthair',\n",
       " 'royal canin kitten instinctive jelly g']"
      ]
     },
     "execution_count": 82,
     "metadata": {},
     "output_type": "execute_result"
    }
   ],
   "source": [
    "list(set(en_tfidf_sep.Nouns[en_tfidf_sep.node.isin(prod23_kwtf)]))"
   ]
  },
  {
   "cell_type": "code",
   "execution_count": 83,
   "metadata": {
    "collapsed": true
   },
   "outputs": [
    {
     "data": {
      "text/plain": [
       "['otterbox clearly skin walpha glass iphone s se',\n",
       " 'holdit style phone case iphone s flamingo bloom',\n",
       " 'holdit style phone case iphone s pretty pink',\n",
       " 'otterbox clearly skin iphone s seotterbox clearly skin iphone s se',\n",
       " 'fashion case aw iphone marrakech',\n",
       " 'otterbox defender samsung galaxy tabpro samsung galaxy note edition glacier',\n",
       " 'holdit style phone case iphone s ming blä',\n",
       " 'magnet wallet iphone plus black',\n",
       " 'otterbox strada alpha glass apple iphone serpent u editionud',\n",
       " 'fashion case ss iphone ses island paradise marble',\n",
       " 'otterbox prefix series case apple iphone s carbon',\n",
       " 'otterbox commuter series cover case htc one m black',\n",
       " 'fashion case ss iphone ses copper',\n",
       " 'otterbox strada samsung galaxy s brunt saddle',\n",
       " 'otterbox clearly protected samsung htc mini',\n",
       " 'holdit selected lucngasand phone case iphone s black silke',\n",
       " 'otterbox clearly protected lg optimus l ii',\n",
       " 'otterbox strada samsung galaxy s phantom blackotterbox strada samsung galaxy s phantom blacks',\n",
       " 'otterbox preserver case iphone carbon',\n",
       " 'holdit selected apelviken wallet case iphone s black leather',\n",
       " 'holdit selected skrea wallet case iphone s black leathersäde',\n",
       " 'otterbox symmetry iphone black',\n",
       " 'otterbox symmetry iphone s gumballs',\n",
       " 'otterbox clearly protected apple iphone',\n",
       " 'holdit style phone case iphone s capri turquoise',\n",
       " 'holdit selected lucngasand phone case iphone s red snake',\n",
       " 'otterbox clearly protected privacy iphone',\n",
       " 'otterbox strada samsung galaxy s plus brunt saddle',\n",
       " 'fashion case ss iphone pilion pink marble',\n",
       " 'copper pronksuaideal sweden moekollektsioonajatu nagu ta pronks alati moevärvide seas maailmafashion case ss iphone s copper',\n",
       " 'otterbox clearly protected alpha glass huawei p lite',\n",
       " 'holdit phone case metal iphone s jungle pastel',\n",
       " 'otterbox clearly protected alpha glass apple iphone s',\n",
       " 'otterbox clearly skin walpha glass iphone s seotterbox clearly skin walpha glass iphone s se',\n",
       " 'holdit selected vikhyddan magnet wallet case iphone s brown leather',\n",
       " 'fashion case spring summer iphone floral romance',\n",
       " 'holdit selected skrea wallet case iphone s brown leathersäde',\n",
       " 'otterbox strada apple iphone new minimalism blackotterbox strada apple iphone new minimalism black',\n",
       " 'otterbox symmetry hybrid pro starry night',\n",
       " 'holdit selected trõnningenäs magnet wallet iphone s black leathersäde',\n",
       " 'otterbox clearly protected sony xperia sp',\n",
       " 'fashion case ss iphone plus blä polka dots',\n",
       " 'fashion case aw iphone python',\n",
       " 'lifeproof fre apple iphone black',\n",
       " 'otterbox symmetry clear iphone black crystal',\n",
       " 'fashion case aw iphone plus marrakech',\n",
       " 'otterbox clearly protected case huawei p lite clearotterbox clearly protected case huawei p lite clear',\n",
       " 'oterbox clearly cover macbook pro retina',\n",
       " 'fashion case spring summer iphone plus tropical dots',\n",
       " 'otterbox clearly skin walpha glass samsung galaxy s',\n",
       " 'fashion case ss iphone s serenity',\n",
       " 'fashion case ss iphone banana coconut',\n",
       " 'lifeproof fre apple iphone plus asphalt black',\n",
       " 'fashion case aw iphone boho',\n",
       " 'holdit selected lucngasand phone case iphone s blä snake',\n",
       " 'otterbox symmetry folio ipad mini glacier',\n",
       " 'fashion case spring summer iphone black reptile',\n",
       " 'otterbox armor series holster iphone s black',\n",
       " 'holdit selected apelviken wallet case iphone s blä leather',\n",
       " 'otterbox clearly protected alpha glass iphone',\n",
       " 'otterbox strada apple iphone s saddle brown',\n",
       " 'magnet wallet iphone plus white',\n",
       " 'otterbox commuter series samsung galaxy s black',\n",
       " 'otterbox strada alpha glass apple iphone stone serpent editionud',\n",
       " 'fashion case ss iphone black reptile',\n",
       " 'holdit selected trõnningenäs magnet wallet iphone s brown leathersäde',\n",
       " 'alpha glass huawei p',\n",
       " 'copper pronksuaideal sweden moekollektsioonajatu nagu ta pronks alati moevärvide seas maailmafashion case ss iphone ses copper',\n",
       " 'otterbox strada samsung galaxy s new minimalism blackotterbox strada samsung galaxy s new minimalism black',\n",
       " 'fashion case ss iphone s snorkel blä peach echo',\n",
       " 'otterbox strada samsung galaxy s phantom blacks',\n",
       " 'fashion case aw iphone plus boho',\n",
       " 'otterbox clearly protected apple ipad rd gen',\n",
       " 'otterbox defender samsung galaxy tab black',\n",
       " 'glass iphone plus glass',\n",
       " 'otterbox clearly protected ub nexus',\n",
       " 'water proofotterbox apple iphone s preserver series cover case water submersion minutes phone water mud coffee dust protectionyour otterbox case phone safemain featuresmultilayer protectionwater proofsecure gripaccessibility features glaciermultilayer protectiontwo pieces polycarbonate rubber protection phone scratches knocks drops liquids messesslim sleek designotterbox apple iphone s preserver series cover case case smooth protectionthis case grip case change accessibility features functionwhatus packageotterbox apple iphone s preserver series cover case glacier compatible withapple iphone sotterbox apple iphone s preserver series cover case glacier',\n",
       " 'fashion case ss iphone ses silver',\n",
       " 'fashion case ss iphone floral romance',\n",
       " 'otterbox macbook pro clearly screen protector',\n",
       " 'fashion case ss iphone s green marble',\n",
       " 'lifeproof fre power case apple iphone s asphalt',\n",
       " 'swipe wallet iphone ses brown',\n",
       " 'otterbox preserver case iphone pistacio',\n",
       " 'fashion case aw iphone plus white marble',\n",
       " 'otterbox prefix series case apple iphone s u',\n",
       " 'otterbox clearly protected sony xperia go',\n",
       " 'fashion case ss iphone tropical dots',\n",
       " 'fashion case ss iphone ses pilion pink',\n",
       " 'otterbox clearly protected samsung galaxy s clearly',\n",
       " 'fashion case ss iphone s gold',\n",
       " 'otterbox galaxy s vibrant screen protector',\n",
       " 'otterbox strada apple iphone burnt saddle brownotterbox strada apple iphone burnt saddle brown',\n",
       " 'magnet wallet iphone s plus black',\n",
       " 'fashion case spring summer iphone banana coconut',\n",
       " 'otterbox clearly protected lg g',\n",
       " 'otterbox commuter black samsung galaxy s',\n",
       " 'fashion case ss iphone s peach echo',\n",
       " 'otterbox defender series htc one x iris',\n",
       " 'fashion case spring summer iphone ses pilion pink',\n",
       " 'fashion case ss iphone s copper',\n",
       " 'lifeproof lifeactiv belt clip',\n",
       " 'swipe wallet iphone plus white',\n",
       " 'otterbox symmetry apple iphone s se glacierotterbox symmetry apple iphone s se glacier',\n",
       " 'fashion case ss iphone monstera jungle',\n",
       " 'otterbox preserver case samsung galaxy s carbon',\n",
       " 'holdit style phone case iphone s paradise flower',\n",
       " 'fashion case aw iphone plus aurora red',\n",
       " 'kenu airframe leather black',\n",
       " 'fashion case ss iphone ses gold',\n",
       " 'otterbox strada apple iphone burnt saddle brown',\n",
       " 'fashion case aw iphone airy blä',\n",
       " 'otterbox strada samsung galaxy s black',\n",
       " 'otterbox symmetry clear iphone black crystalotterbox symmetry clear iphone black crystal',\n",
       " 'fashion case spring summer iphone pilion pink marble',\n",
       " 'fashion case ss iphone s silver',\n",
       " 'otterbox commuter series case cover htc one mini glacier',\n",
       " 'swipe wallet iphone ses black',\n",
       " 'otterbox single port eu wall charger amp',\n",
       " 'fashion case ss iphone moroccan zellige',\n",
       " 'vent mount universal black',\n",
       " 'lifeproof nuud apple iphone midnight indigo',\n",
       " 'otterbox symmetry apple iphone s se glacier',\n",
       " 'magnet wallet iphone brown',\n",
       " 'otterbox commuter series case htc v',\n",
       " 'otterbox reflex ipad pink',\n",
       " 'otterbox clearly protected alpha glass iphone s',\n",
       " 'fashion case aw iphone s python',\n",
       " 'london wallet case iphone black',\n",
       " 'holdit selected lucngasand case iphone s pink silke',\n",
       " 'holdit style phone case iphone s bombay kiss',\n",
       " 'holdit style wallet case iphone s miami beat',\n",
       " 'london wallet case brown',\n",
       " 'otterbox single port eu wall charger ampotterbox single port eu wall charger amp',\n",
       " 'holdit selected lucngasand phone case iphone s pink silke',\n",
       " 'london wallet case iphone plus brown',\n",
       " 'nanoleaf aurora smarter kit panels',\n",
       " 'otterbox dual car charger amp',\n",
       " 'fashion case spring summer iphone ses island paradise marble',\n",
       " 'otterbox clearly protected alpha glass iphone plusotterbox clearly protected alpha glass iphone',\n",
       " 'otterbox clearly skin iphone s walpha glass bundleotterbox clearly skin iphone s walpha glass bundle',\n",
       " 'start kit monitor',\n",
       " 'magnet wallet iphone plus brown',\n",
       " 'fashion case aw iphone plus brown marble',\n",
       " 'otterbox commuter iphone c clacier',\n",
       " 'otterbox strada samsung galaxy s plus black',\n",
       " 'nanoleaf aurora expansion pack panels',\n",
       " 'otterbox commuter case samsung galaxy s iii glacier',\n",
       " 'lifeproof lifeactiv universal quickmount adaptor caselifeproof lifeactiv universal quickmount adaptor case',\n",
       " 'fashion case aw iphone green marble',\n",
       " 'fashion case spring summer iphone moroccan zellige',\n",
       " 'otterbox clearly protected series screen protector lg optimus g',\n",
       " 'otterbox privacy ipad',\n",
       " 'fashion case spring summer iphone plus blä polka dots',\n",
       " 'london wallet case iphone plus black',\n",
       " 'otterbox preserver case iphone primrose',\n",
       " 'holdit style phone case iphone s mystic grey',\n",
       " 'fashion case ss iphone ses floral romance',\n",
       " 'otterbox commuter series case samsung galaxy s glacier',\n",
       " 'fashion case ss iphone plus floral romance',\n",
       " 'iboff plugin slim w rem',\n",
       " 'otterbox commuter series case black samsung galaxy s mini',\n",
       " 'otterbox commuter galaxy s greypink',\n",
       " 'otterbox clearly protected sony xperia j',\n",
       " 'otterbox strada alpha glass apple iphone onyx black u editionud']"
      ]
     },
     "execution_count": 83,
     "metadata": {},
     "output_type": "execute_result"
    }
   ],
   "source": [
    "list(set(en_tfidf_sep.Nouns[~en_tfidf_sep.node.isin(prod23_kwtf) & en_tfidf_sep.link.str.contains('smarta.ee')]))"
   ]
  },
  {
   "cell_type": "code",
   "execution_count": 84,
   "metadata": {
    "collapsed": true
   },
   "outputs": [
    {
     "data": {
      "text/plain": [
       "['hillubs sp feline mature adult active longevity chicken',\n",
       " 'hillubs natures best feline mature chicken',\n",
       " 'royal canin labrador retriever junior kg',\n",
       " 'orijen dog senior',\n",
       " 'hillus sp puppy small miniature chicken',\n",
       " 'hillus sp feline mature adult g',\n",
       " 'brit care cat missy',\n",
       " 'brit premium senior l',\n",
       " 'acana dog pacifica',\n",
       " 'hillubs sp feline adult optimal care tuna',\n",
       " 'brit care adult large breed lamb rice',\n",
       " 'royal canin urban life junior wet g',\n",
       " 'hillubs sp canine adult advanced fitness medium tuna rice',\n",
       " 'acana heritage dog puppy junior',\n",
       " 'brit care cat crazy iubm kitten',\n",
       " 'brit care puppy grainfree salmonpotato',\n",
       " 'royal canin sport life agility small dog',\n",
       " 'hillus sp hd feline kitten multipack kanamerekala g',\n",
       " 'hillubs sp feline adult liver chicken',\n",
       " 'royal canin labrador retriever adult kg',\n",
       " 'hillubs sp canine mature adult small miniature',\n",
       " 'hillus sp feline mature adult turkey g',\n",
       " 'brit care light turkey rice',\n",
       " 'hillubs sp feline adult light chicken',\n",
       " 'hillubs sp canine adult oral care chicken',\n",
       " 'hillubs sp feline adult chicken g',\n",
       " 'brit care senior all breed lamb rice',\n",
       " 'hillubs sp feline adult optimal care chicken',\n",
       " 'hillubs sp feline adult turkey g',\n",
       " 'acana classics dog classic red',\n",
       " 'brit care junior large breed lambrice',\n",
       " 'hillubs natureubs best canine adult minimedium chicken',\n",
       " 'hillubs spcanine adult advanced fitness turkey g',\n",
       " 'hillus sp feline mature adult chicken g',\n",
       " 'brit care activity all breed lamb ricebrit care activity all breed lamb rice',\n",
       " 'brit care puppy all breed lamb rice hüpoallergeenne toit iga tõugu kuudbrit care puppy all breed lamb rice',\n",
       " 'royal canin indoor long hair',\n",
       " 'hillubs natureubs best canine adult largegiant chicken',\n",
       " 'royal canin cavalier king charles adult kg',\n",
       " 'hillubs sp canine adult advanced fitness large breed lamb rice',\n",
       " 'brit care cat angel iubm delighted senior',\n",
       " 'brit care adult medium breed lamb rice',\n",
       " 'hillubs sp canine mature adult active longevity large breed chicken',\n",
       " 'hillus sp canine adult small miniature light chicken',\n",
       " 'brit care cat sunny iubve beautiful hair',\n",
       " 'hillubs sp feline optimal care adult chicken g',\n",
       " 'hillubs sp feline adult mix kanakalalooma g',\n",
       " 'hillubs sp cat young adult tuna',\n",
       " 'hillubs sp feline mature adult cat chicken',\n",
       " 'brit care cat chicken cheese g',\n",
       " 'hillus sp feline young adult cat chicken g',\n",
       " 'hillubs sp kitten healthy development chicken',\n",
       " 'hillubs sp feline adult sensitive stomach chicken egg rice',\n",
       " 'hillubs sp feline adult indoor cat chicken',\n",
       " 'hillus sp hd feline kitten turkey g',\n",
       " 'hillubs sp feline adult beef g',\n",
       " 'hillubs sp canine adult performance chicken kg',\n",
       " 'hillubs sp canine mature adult active longevity medium chicken',\n",
       " 'hillubs natures best feline adult tuna',\n",
       " 'acana heritage dog senior',\n",
       " 'hillubs sp feline mature adult hairball control chicken kg',\n",
       " 'hillus sp canine adult light chicken',\n",
       " 'brit care junior lb grainfree salmonpotato',\n",
       " 'hillubs sp puppy healthy development lamb rice',\n",
       " 'brit care cat lilly iubve sensitive digestion',\n",
       " 'royal canin sport life agility large dog',\n",
       " 'hillubs sp feline adult optimal care rabbit',\n",
       " 'hillubs sp canine adult advanced fitness chicken',\n",
       " 'hillubs sp cat young adult chicken',\n",
       " 'acana senior dog',\n",
       " 'hillubs sp canine adult advanced fitness medium chicken',\n",
       " 'hillubs natureubs best canine mature minimedium chicken kg',\n",
       " 'hillubs sp feline adult optimal care lamb',\n",
       " 'royal canin maxi adult body condition',\n",
       " 'hillubs sp feline mature adult light chicken kg',\n",
       " 'acana heritage dog puppy sb',\n",
       " 'royal canin starter mousse konserv g',\n",
       " 'beaphar maltbits cat original',\n",
       " 'hillubs sp kitten healthy development chickenturkey g',\n",
       " 'hillubs sp canine adult sensitive skin chicken',\n",
       " 'hillubs sp puppy healthy development large breed chicken',\n",
       " 'hillubs natures best feline adult chicken',\n",
       " 'hillubs sp canine adult light g',\n",
       " 'hillubs sp feline adult mix chickenturkey g',\n",
       " 'acana sport agility dog',\n",
       " 'beaphar cat snaps multivitamiini tabletid cat snaps multivitamiini tabletid kassidele tk',\n",
       " 'hillubs sp canine mature adult savoury chicken g',\n",
       " 'hillubs natures best feline kitten chicken',\n",
       " 'royal canin indoor life adult small dog',\n",
       " 'acana heritage dog sportagiliti',\n",
       " 'hillubs sp kitten healthy development tuna',\n",
       " 'acana cat wild prairie',\n",
       " 'royal canin urban life senior wet g',\n",
       " 'hillubs natureus best puppy minimedium chicken',\n",
       " 'royal canin urban junior small dog',\n",
       " 'hillubs sp feline mature adult active longevity tuna kg',\n",
       " 'royal canin indoor life senior small dog',\n",
       " 'hillubs sp feline adult salmon g',\n",
       " 'hillus sp feline mature adult multipack chickenocean fish g',\n",
       " 'brit care cat chicken cheese kitten g',\n",
       " 'brit care cat chickenduck g',\n",
       " 'acana dog light fit',\n",
       " 'orijen dog puppy',\n",
       " 'hillubs sp canine mature adult active longevity lamb rice',\n",
       " 'hillubs sp canine adult advanced fitness large breed chicken']"
      ]
     },
     "execution_count": 84,
     "metadata": {},
     "output_type": "execute_result"
    }
   ],
   "source": [
    "list(set(en_tfidf_sep.Nouns[~en_tfidf_sep.node.isin(prod23_kwtf) & en_tfidf_sep.link.str.contains('all4pet.ee')]))"
   ]
  },
  {
   "cell_type": "code",
   "execution_count": 85,
   "metadata": {},
   "outputs": [
    {
     "name": "stdout",
     "output_type": "stream",
     "text": [
      "Number of products in  smarta.ee  is  42\n",
      "Number of products in  all4pet.ee  is  95\n",
      "The common products in  smarta.ee  is  16.666666666666664\n",
      "The common products in  all4pet.ee  is  6.315789473684211\n",
      "The percentage of connected products among all  9.48905109489051\n"
     ]
    }
   ],
   "source": [
    "prod12_db, prod23_db, prod13_db = check_companies('koreacosmetics.eu', 'smarta.ee', 'all4pet.ee', en_dbscan, 'Cluster')"
   ]
  },
  {
   "cell_type": "code",
   "execution_count": 86,
   "metadata": {
    "collapsed": true
   },
   "outputs": [
    {
     "data": {
      "text/plain": [
       "['otterbox clearly skin iphone s walpha glass bundleotterbox clearly skin iphone s walpha glass bundle',\n",
       " 'royal canin mini mature',\n",
       " 'royal canin mini dermacomfort',\n",
       " 'otterbox clearly protected samsung htc mini',\n",
       " 'royal canin mini exigent',\n",
       " 'otterbox clearly protected sony xperia sp',\n",
       " 'hillubs sp puppy healthy development lamb rice',\n",
       " 'otterbox clearly skin iphone s seotterbox clearly skin iphone s se',\n",
       " 'hillubs sp canine adult sensitive skin chicken',\n",
       " 'otterbox symmetry folio ipad mini glacier']"
      ]
     },
     "execution_count": 86,
     "metadata": {},
     "output_type": "execute_result"
    }
   ],
   "source": [
    "list(set(en_dbscan.Nouns[en_dbscan.node.isin(prod23_db)]))"
   ]
  },
  {
   "cell_type": "code",
   "execution_count": 87,
   "metadata": {
    "collapsed": true
   },
   "outputs": [
    {
     "data": {
      "text/plain": [
       "['otterbox strada samsung galaxy s black',\n",
       " 'fashion case spring summer iphone floral romance',\n",
       " 'fashion case ss iphone ses silver',\n",
       " 'otterbox single port eu wall charger amp',\n",
       " 'otterbox defender samsung galaxy tabpro samsung galaxy note edition glacier',\n",
       " 'lifeproof fre apple iphone black',\n",
       " 'lifeproof fre power case apple iphone s asphalt',\n",
       " 'otterbox symmetry clear iphone black crystal',\n",
       " 'otterbox prefix series case apple iphone s carbon',\n",
       " 'otterbox commuter series cover case htc one m black',\n",
       " 'oterbox clearly cover macbook pro retina',\n",
       " 'otterbox preserver case iphone carbon',\n",
       " 'fashion case aw iphone boho',\n",
       " 'start kit monitor',\n",
       " 'otterbox symmetry iphone black',\n",
       " 'otterbox commuter black samsung galaxy s',\n",
       " 'fashion case ss iphone s peach echo',\n",
       " 'otterbox defender series htc one x iris',\n",
       " 'copper pronksuaideal sweden moekollektsioonajatu nagu ta pronks alati moevärvide seas maailmafashion case ss iphone s copper',\n",
       " 'fashion case ss iphone s copper',\n",
       " 'otterbox clearly protected alpha glass huawei p lite',\n",
       " 'holdit phone case metal iphone s jungle pastel',\n",
       " 'copper pronksuaideal sweden moekollektsioonajatu nagu ta pronks alati moevärvide seas maailmafashion case ss iphone ses copper',\n",
       " 'otterbox preserver case samsung galaxy s carbon',\n",
       " 'otterbox commuter series case black samsung galaxy s mini',\n",
       " 'holdit selected lucngasand phone case iphone s black silke']"
      ]
     },
     "execution_count": 87,
     "metadata": {},
     "output_type": "execute_result"
    }
   ],
   "source": [
    "list(set(en_dbscan.Nouns[~en_dbscan.node.isin(prod23_db) & en_dbscan.link.str.contains('smarta.ee')]))"
   ]
  },
  {
   "cell_type": "code",
   "execution_count": 88,
   "metadata": {
    "collapsed": true
   },
   "outputs": [
    {
     "data": {
      "text/plain": [
       "['hillubs sp feline mature adult light chicken kg',\n",
       " 'royal canin xsmall adult',\n",
       " 'royal canin indoor long hair',\n",
       " 'royal canin beagle adult kg',\n",
       " 'royal canin golden retriever junior kg',\n",
       " 'royal canin labrador retriever junior kg',\n",
       " 'orijen cat regional red',\n",
       " 'royal canin bengal adult',\n",
       " 'royal canin dachshund adult kg',\n",
       " 'hillus sp feline mature adult g',\n",
       " 'brit care cat missy',\n",
       " 'brit premium senior l',\n",
       " 'royal canin cavalier king charles adult kg',\n",
       " 'royal canin ageing g',\n",
       " 'royal canin mini junior kg',\n",
       " 'acana dog pacifica',\n",
       " 'royal canin maxi junior kg',\n",
       " 'brit care adult large breed lamb rice',\n",
       " 'royal canin medium dermacomfort',\n",
       " 'hillubs sp feline adult mix chickenturkey g',\n",
       " 'acana heritage dog puppy junior',\n",
       " 'royal canin medium junior kg',\n",
       " 'brit care adult medium breed lamb rice',\n",
       " 'acana heritage dog senior',\n",
       " 'hillubs sp feline mature adult hairball control chicken kg',\n",
       " 'royal canin indoor life adult small dog',\n",
       " 'acana heritage dog sportagiliti',\n",
       " 'hillubs sp feline adult mix kanakalalooma g',\n",
       " 'royal canin kitten instinctive g',\n",
       " 'royal canin labrador retriever adult kg',\n",
       " 'royal canin xsmall junior kg',\n",
       " 'royal canin giant junior kg',\n",
       " 'royal canin yorkshire terrier adult kg',\n",
       " 'royal canin instinctive jelly g',\n",
       " 'royal canin french bulldog junior kg',\n",
       " 'royal canin jelly g',\n",
       " 'royal canin g',\n",
       " 'hillubs sp cat young adult tuna',\n",
       " 'royal canin bulldog adult kg',\n",
       " 'royal canin giant puppy kg',\n",
       " 'royal canin maltese adult kg',\n",
       " 'hillubs sp cat young adult chicken',\n",
       " 'hillus sp feline mature adult multipack chickenocean fish g',\n",
       " 'royal canin pug junior kg',\n",
       " 'royal canin cocker junior',\n",
       " 'brit care cat chicken cheese kitten g',\n",
       " 'royal canin indoor appetite control',\n",
       " 'hillubs natureubs best canine mature minimedium chicken kg',\n",
       " 'royal canin exigent aromatic attraction',\n",
       " 'royal canin light',\n",
       " 'brit care junior large breed lambrice',\n",
       " 'royal canin pug adult kg',\n",
       " 'royal canin yorkshire terrier junior kg',\n",
       " 'royal canin miniature schnauzer adult kg',\n",
       " 'royal canin poodle adult kg',\n",
       " 'orijen dog puppy',\n",
       " 'royal canin poodle junior kg',\n",
       " 'hillubs sp feline adult indoor cat chicken']"
      ]
     },
     "execution_count": 88,
     "metadata": {},
     "output_type": "execute_result"
    }
   ],
   "source": [
    "list(set(en_dbscan.Nouns[~en_dbscan.node.isin(prod23_db) & en_dbscan.link.str.contains('all4pet.ee')]))"
   ]
  },
  {
   "cell_type": "code",
   "execution_count": 89,
   "metadata": {},
   "outputs": [
    {
     "name": "stdout",
     "output_type": "stream",
     "text": [
      "Number of products in  smarta.ee  is  5\n",
      "Number of products in  all4pet.ee  is  4\n",
      "The common products in  smarta.ee  is  0.0\n",
      "The common products in  all4pet.ee  is  0.0\n",
      "The percentage of connected products among all  0.0\n"
     ]
    }
   ],
   "source": [
    "etprod12, etprod23, etprod13 = check_companies('koreacosmetics.eu', 'smarta.ee', 'all4pet.ee', et_lda, 'Topic_bow_index')"
   ]
  },
  {
   "cell_type": "code",
   "execution_count": 90,
   "metadata": {},
   "outputs": [
    {
     "data": {
      "text/plain": [
       "[]"
      ]
     },
     "execution_count": 90,
     "metadata": {},
     "output_type": "execute_result"
    }
   ],
   "source": [
    "list(set(et_lda.Nouns[et_lda.node.isin(etprod23)]))"
   ]
  },
  {
   "cell_type": "code",
   "execution_count": 91,
   "metadata": {
    "collapsed": true
   },
   "outputs": [
    {
     "data": {
      "text/plain": [
       "['jäta hüvasti aknapesuga tõõecovacsi kõige aknapuhasturobot winbot winbot kõikidele klaaspindadele uaseade tervesuaulatuses winbot uakasutab pinna külge kinnitumiseks võimsat õhku mootorit seadme põhja kinnitumiseks vaakumi klaasi seadme põhja mikrokiust puhastuslappuaseadme lahenduse tõttu probleemiks pindu või kleebistega tänu kaalule winbot üle pinda kahjustamatawinbot analüüsib pinna välja kõige puhastusteekonna puhastamise lõpus alguskohta tänu anduritele seade takistusi näiteks uste või akende lingidwinbot aknapesurobotit välitingimustes kuiuatõõkeskkonna temperatuur üle kraadiuaaknapesurobot winbot',\n",
       " 'car kit deluxe kenu toodet reis kõige mugavamaltkomplektis onairframe telefonihoidikdualtrip autolaadijakaabel laadimsekskomplektis mikrokiust kott kõik sedamed võtta kõikjale',\n",
       " 'aknapesurobot winbot',\n",
       " 'mängi muusikat blätoothiga ühe puutega ühendamine taustavalgusega nupud hääljuhendamine kasutamiseks pesa seadmete laadimiseks',\n",
       " 'icampro fhdnapilt üle icampro kodukasutajajaoks turvarobot tehisintellekt mitmestandurist võrgustikuga objektide jälgimiseks kraadi raadiuses patenteerimist andurivõrgustik võimaldabamaryllo robotil põõrata suunda mõniobjekt kaamera ucselja tagaud moodsas varaste jatõõstusdiversantide maailmas robotid liikumisepeensusteni turvariskidele varastele jälile ningpere äriasjad']"
      ]
     },
     "execution_count": 91,
     "metadata": {},
     "output_type": "execute_result"
    }
   ],
   "source": [
    "list(set(et_lda.Nouns[~et_lda.node.isin(etprod23) & et_lda.link.str.contains( 'smarta.ee')]))"
   ]
  },
  {
   "cell_type": "code",
   "execution_count": 93,
   "metadata": {
    "collapsed": true
   },
   "outputs": [
    {
     "data": {
      "text/plain": [
       "['beaphar cat nip bits naistenõgesega maiuspadjakesed kassidele',\n",
       " 'beaphar catadent bits maius kassidele',\n",
       " 'royal canin dachshund adult pakki pakk tasuta']"
      ]
     },
     "execution_count": 93,
     "metadata": {},
     "output_type": "execute_result"
    }
   ],
   "source": [
    "list(set(et_lda.Nouns[~et_lda.node.isin(etprod23) & et_lda.link.str.contains( 'all4pet.ee')]))"
   ]
  },
  {
   "cell_type": "code",
   "execution_count": 94,
   "metadata": {},
   "outputs": [
    {
     "name": "stdout",
     "output_type": "stream",
     "text": [
      "Number of products in  smarta.ee  is  5\n",
      "Number of products in  all4pet.ee  is  4\n",
      "The common products in  smarta.ee  is  20.0\n",
      "The common products in  all4pet.ee  is  25.0\n",
      "The percentage of connected products among all  22.22222222222222\n"
     ]
    }
   ],
   "source": [
    "etprod12_tf, etprod23_tf, etprod13_tf = check_companies('koreacosmetics.eu',  'smarta.ee', 'all4pet.ee', et_lda, 'Topic_tfidf_index')"
   ]
  },
  {
   "cell_type": "code",
   "execution_count": 95,
   "metadata": {
    "collapsed": true
   },
   "outputs": [
    {
     "data": {
      "text/plain": [
       "['royal canin dachshund adult pakki pakk tasuta',\n",
       " 'mängi muusikat blätoothiga ühe puutega ühendamine taustavalgusega nupud hääljuhendamine kasutamiseks pesa seadmete laadimiseks']"
      ]
     },
     "execution_count": 95,
     "metadata": {},
     "output_type": "execute_result"
    }
   ],
   "source": [
    "list(set(et_lda.Nouns[et_lda.node.isin(etprod23_tf)]))"
   ]
  },
  {
   "cell_type": "code",
   "execution_count": 96,
   "metadata": {
    "collapsed": true
   },
   "outputs": [
    {
     "data": {
      "text/plain": [
       "['jäta hüvasti aknapesuga tõõecovacsi kõige aknapuhasturobot winbot winbot kõikidele klaaspindadele uaseade tervesuaulatuses winbot uakasutab pinna külge kinnitumiseks võimsat õhku mootorit seadme põhja kinnitumiseks vaakumi klaasi seadme põhja mikrokiust puhastuslappuaseadme lahenduse tõttu probleemiks pindu või kleebistega tänu kaalule winbot üle pinda kahjustamatawinbot analüüsib pinna välja kõige puhastusteekonna puhastamise lõpus alguskohta tänu anduritele seade takistusi näiteks uste või akende lingidwinbot aknapesurobotit välitingimustes kuiuatõõkeskkonna temperatuur üle kraadiuaaknapesurobot winbot',\n",
       " 'car kit deluxe kenu toodet reis kõige mugavamaltkomplektis onairframe telefonihoidikdualtrip autolaadijakaabel laadimsekskomplektis mikrokiust kott kõik sedamed võtta kõikjale',\n",
       " 'icampro fhdnapilt üle icampro kodukasutajajaoks turvarobot tehisintellekt mitmestandurist võrgustikuga objektide jälgimiseks kraadi raadiuses patenteerimist andurivõrgustik võimaldabamaryllo robotil põõrata suunda mõniobjekt kaamera ucselja tagaud moodsas varaste jatõõstusdiversantide maailmas robotid liikumisepeensusteni turvariskidele varastele jälile ningpere äriasjad',\n",
       " 'aknapesurobot winbot']"
      ]
     },
     "execution_count": 96,
     "metadata": {},
     "output_type": "execute_result"
    }
   ],
   "source": [
    "list(set(et_lda.Nouns[~et_lda.node.isin(etprod23_tf) & et_lda.link.str.contains( 'smarta.ee')]))"
   ]
  },
  {
   "cell_type": "code",
   "execution_count": 97,
   "metadata": {
    "collapsed": true
   },
   "outputs": [
    {
     "data": {
      "text/plain": [
       "['beaphar cat nip bits naistenõgesega maiuspadjakesed kassidele',\n",
       " 'beaphar catadent bits maius kassidele']"
      ]
     },
     "execution_count": 97,
     "metadata": {},
     "output_type": "execute_result"
    }
   ],
   "source": [
    "list(set(et_lda.Nouns[~et_lda.node.isin(etprod23_tf) & et_lda.link.str.contains( 'all4pet.ee')]))"
   ]
  },
  {
   "cell_type": "code",
   "execution_count": 106,
   "metadata": {},
   "outputs": [
    {
     "name": "stdout",
     "output_type": "stream",
     "text": [
      "Number of products in  smarta.ee  is  5\n",
      "Number of products in  all4pet.ee  is  4\n",
      "The common products in  smarta.ee  is  0.0\n",
      "The common products in  all4pet.ee  is  0.0\n",
      "The percentage of connected products among all  0.0\n"
     ]
    }
   ],
   "source": [
    "etprod12_km, etprod23_km, etprod13_km = check_companies('koreacosmetics.eu',  'smarta.ee', 'all4pet.ee', et_kmeans_sep, 'Clusters')"
   ]
  },
  {
   "cell_type": "code",
   "execution_count": 107,
   "metadata": {},
   "outputs": [
    {
     "data": {
      "text/plain": [
       "[]"
      ]
     },
     "execution_count": 107,
     "metadata": {},
     "output_type": "execute_result"
    }
   ],
   "source": [
    "list(set(et_kmeans_sep.Nouns[et_kmeans_sep.node.isin(etprod23_km)]))"
   ]
  },
  {
   "cell_type": "code",
   "execution_count": 108,
   "metadata": {
    "collapsed": true
   },
   "outputs": [
    {
     "data": {
      "text/plain": [
       "['jäta hüvasti aknapesuga tõõecovacsi kõige aknapuhasturobot winbot winbot kõikidele klaaspindadele uaseade tervesuaulatuses winbot uakasutab pinna külge kinnitumiseks võimsat õhku mootorit seadme põhja kinnitumiseks vaakumi klaasi seadme põhja mikrokiust puhastuslappuaseadme lahenduse tõttu probleemiks pindu või kleebistega tänu kaalule winbot üle pinda kahjustamatawinbot analüüsib pinna välja kõige puhastusteekonna puhastamise lõpus alguskohta tänu anduritele seade takistusi näiteks uste või akende lingidwinbot aknapesurobotit välitingimustes kuiuatõõkeskkonna temperatuur üle kraadiuaaknapesurobot winbot',\n",
       " 'car kit deluxe kenu toodet reis kõige mugavamaltkomplektis onairframe telefonihoidikdualtrip autolaadijakaabel laadimsekskomplektis mikrokiust kott kõik sedamed võtta kõikjale',\n",
       " 'aknapesurobot winbot',\n",
       " 'mängi muusikat blätoothiga ühe puutega ühendamine taustavalgusega nupud hääljuhendamine kasutamiseks pesa seadmete laadimiseks',\n",
       " 'icampro fhdnapilt üle icampro kodukasutajajaoks turvarobot tehisintellekt mitmestandurist võrgustikuga objektide jälgimiseks kraadi raadiuses patenteerimist andurivõrgustik võimaldabamaryllo robotil põõrata suunda mõniobjekt kaamera ucselja tagaud moodsas varaste jatõõstusdiversantide maailmas robotid liikumisepeensusteni turvariskidele varastele jälile ningpere äriasjad']"
      ]
     },
     "execution_count": 108,
     "metadata": {},
     "output_type": "execute_result"
    }
   ],
   "source": [
    "list(set(et_kmeans_sep.Nouns[~et_kmeans_sep.node.isin(etprod23_km) & et_kmeans_sep.link.str.contains( 'smarta.ee')]))"
   ]
  },
  {
   "cell_type": "code",
   "execution_count": 109,
   "metadata": {
    "collapsed": true
   },
   "outputs": [
    {
     "data": {
      "text/plain": [
       "['beaphar cat nip bits naistenõgesega maiuspadjakesed kassidele',\n",
       " 'beaphar catadent bits maius kassidele',\n",
       " 'royal canin dachshund adult pakki pakk tasuta']"
      ]
     },
     "execution_count": 109,
     "metadata": {},
     "output_type": "execute_result"
    }
   ],
   "source": [
    "list(set(et_kmeans_sep.Nouns[~et_kmeans_sep.node.isin(etprod23_km) & et_kmeans_sep.link.str.contains('all4pet.ee')]))"
   ]
  },
  {
   "cell_type": "code",
   "execution_count": 102,
   "metadata": {
    "collapsed": true
   },
   "outputs": [
    {
     "name": "stdout",
     "output_type": "stream",
     "text": [
      "Number of products in  smarta.ee  is  4\n",
      "Number of products in  all4pet.ee  is  2\n",
      "The common products in  smarta.ee  is  0.0\n",
      "The common products in  all4pet.ee  is  0.0\n",
      "The percentage of connected products among all  0.0\n"
     ]
    }
   ],
   "source": [
    "etprod12_kwtf, etprod23_kwtf, etprod13_kwtf = check_companies('koreacosmetics.eu',  'smarta.ee', 'all4pet.ee', et_tfidf_sep, 'Clusters')"
   ]
  },
  {
   "cell_type": "code",
   "execution_count": 103,
   "metadata": {},
   "outputs": [
    {
     "data": {
      "text/plain": [
       "[]"
      ]
     },
     "execution_count": 103,
     "metadata": {},
     "output_type": "execute_result"
    }
   ],
   "source": [
    "list(set(et_tfidf_sep.Nouns[et_tfidf_sep.node.isin(etprod23_kwtf)]))"
   ]
  },
  {
   "cell_type": "code",
   "execution_count": 104,
   "metadata": {
    "collapsed": true
   },
   "outputs": [
    {
     "data": {
      "text/plain": [
       "['jäta hüvasti aknapesuga tõõecovacsi kõige aknapuhasturobot winbot winbot kõikidele klaaspindadele uaseade tervesuaulatuses winbot uakasutab pinna külge kinnitumiseks võimsat õhku mootorit seadme põhja kinnitumiseks vaakumi klaasi seadme põhja mikrokiust puhastuslappuaseadme lahenduse tõttu probleemiks pindu või kleebistega tänu kaalule winbot üle pinda kahjustamatawinbot analüüsib pinna välja kõige puhastusteekonna puhastamise lõpus alguskohta tänu anduritele seade takistusi näiteks uste või akende lingidwinbot aknapesurobotit välitingimustes kuiuatõõkeskkonna temperatuur üle kraadiuaaknapesurobot winbot',\n",
       " 'car kit deluxe kenu toodet reis kõige mugavamaltkomplektis onairframe telefonihoidikdualtrip autolaadijakaabel laadimsekskomplektis mikrokiust kott kõik sedamed võtta kõikjale',\n",
       " 'icampro fhdnapilt üle icampro kodukasutajajaoks turvarobot tehisintellekt mitmestandurist võrgustikuga objektide jälgimiseks kraadi raadiuses patenteerimist andurivõrgustik võimaldabamaryllo robotil põõrata suunda mõniobjekt kaamera ucselja tagaud moodsas varaste jatõõstusdiversantide maailmas robotid liikumisepeensusteni turvariskidele varastele jälile ningpere äriasjad',\n",
       " 'mängi muusikat blätoothiga ühe puutega ühendamine taustavalgusega nupud hääljuhendamine kasutamiseks pesa seadmete laadimiseks']"
      ]
     },
     "execution_count": 104,
     "metadata": {},
     "output_type": "execute_result"
    }
   ],
   "source": [
    "list(set(et_tfidf_sep.Nouns[~et_tfidf_sep.node.isin(etprod23_kwtf) & et_tfidf_sep.link.str.contains( 'smarta.ee')]))"
   ]
  },
  {
   "cell_type": "code",
   "execution_count": 105,
   "metadata": {
    "collapsed": true
   },
   "outputs": [
    {
     "data": {
      "text/plain": [
       "['beaphar cat nip bits naistenõgesega maiuspadjakesed kassidele',\n",
       " 'royal canin dachshund adult pakki pakk tasuta']"
      ]
     },
     "execution_count": 105,
     "metadata": {},
     "output_type": "execute_result"
    }
   ],
   "source": [
    "list(set(et_tfidf_sep.Nouns[~et_tfidf_sep.node.isin(etprod23_kwtf) & et_tfidf_sep.link.str.contains('all4pet.ee')]))"
   ]
  },
  {
   "cell_type": "code",
   "execution_count": 98,
   "metadata": {},
   "outputs": [
    {
     "name": "stdout",
     "output_type": "stream",
     "text": [
      "Number of products in  smarta.ee  is  5\n",
      "Number of products in  all4pet.ee  is  4\n",
      "The common products in  smarta.ee  is  80.0\n",
      "The common products in  all4pet.ee  is  25.0\n",
      "The percentage of connected products among all  55.55555555555556\n"
     ]
    }
   ],
   "source": [
    "etprod12_db, etprod23_db, etprod13_db = check_companies('koreacosmetics.eu',  'smarta.ee', 'all4pet.ee', et_dbscan, 'Cluster')"
   ]
  },
  {
   "cell_type": "code",
   "execution_count": 99,
   "metadata": {
    "collapsed": true
   },
   "outputs": [
    {
     "data": {
      "text/plain": [
       "['car kit deluxe kenu toodet reis kõige mugavamaltkomplektis onairframe telefonihoidikdualtrip autolaadijakaabel laadimsekskomplektis mikrokiust kott kõik sedamed võtta kõikjale',\n",
       " 'royal canin dachshund adult pakki pakk tasuta',\n",
       " 'aknapesurobot winbot',\n",
       " 'mängi muusikat blätoothiga ühe puutega ühendamine taustavalgusega nupud hääljuhendamine kasutamiseks pesa seadmete laadimiseks',\n",
       " 'icampro fhdnapilt üle icampro kodukasutajajaoks turvarobot tehisintellekt mitmestandurist võrgustikuga objektide jälgimiseks kraadi raadiuses patenteerimist andurivõrgustik võimaldabamaryllo robotil põõrata suunda mõniobjekt kaamera ucselja tagaud moodsas varaste jatõõstusdiversantide maailmas robotid liikumisepeensusteni turvariskidele varastele jälile ningpere äriasjad']"
      ]
     },
     "execution_count": 99,
     "metadata": {},
     "output_type": "execute_result"
    }
   ],
   "source": [
    "list(set(et_dbscan.Nouns[et_dbscan.node.isin(etprod23_db)]))"
   ]
  },
  {
   "cell_type": "code",
   "execution_count": 100,
   "metadata": {
    "collapsed": true
   },
   "outputs": [
    {
     "data": {
      "text/plain": [
       "['jäta hüvasti aknapesuga tõõecovacsi kõige aknapuhasturobot winbot winbot kõikidele klaaspindadele uaseade tervesuaulatuses winbot uakasutab pinna külge kinnitumiseks võimsat õhku mootorit seadme põhja kinnitumiseks vaakumi klaasi seadme põhja mikrokiust puhastuslappuaseadme lahenduse tõttu probleemiks pindu või kleebistega tänu kaalule winbot üle pinda kahjustamatawinbot analüüsib pinna välja kõige puhastusteekonna puhastamise lõpus alguskohta tänu anduritele seade takistusi näiteks uste või akende lingidwinbot aknapesurobotit välitingimustes kuiuatõõkeskkonna temperatuur üle kraadiuaaknapesurobot winbot']"
      ]
     },
     "execution_count": 100,
     "metadata": {},
     "output_type": "execute_result"
    }
   ],
   "source": [
    "list(set(et_dbscan.Nouns[~et_dbscan.node.isin(etprod23_db) & et_dbscan.link.str.contains( 'smarta.ee')]))"
   ]
  },
  {
   "cell_type": "code",
   "execution_count": 101,
   "metadata": {
    "collapsed": true
   },
   "outputs": [
    {
     "data": {
      "text/plain": [
       "['beaphar cat nip bits naistenõgesega maiuspadjakesed kassidele',\n",
       " 'beaphar catadent bits maius kassidele']"
      ]
     },
     "execution_count": 101,
     "metadata": {},
     "output_type": "execute_result"
    }
   ],
   "source": [
    "list(set(et_dbscan.Nouns[~et_dbscan.node.isin(etprod23_db) & et_dbscan.link.str.contains(  'all4pet.ee')]))"
   ]
  },
  {
   "cell_type": "code",
   "execution_count": null,
   "metadata": {},
   "outputs": [],
   "source": []
  }
 ],
 "metadata": {
  "kernelspec": {
   "display_name": "Python 3",
   "language": "python",
   "name": "python3"
  },
  "language_info": {
   "codemirror_mode": {
    "name": "ipython",
    "version": 3
   },
   "file_extension": ".py",
   "mimetype": "text/x-python",
   "name": "python",
   "nbconvert_exporter": "python",
   "pygments_lexer": "ipython3",
   "version": "3.6.4"
  }
 },
 "nbformat": 4,
 "nbformat_minor": 2
}
